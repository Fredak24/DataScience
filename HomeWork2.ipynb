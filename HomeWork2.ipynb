{
 "cells": [
  {
   "cell_type": "markdown",
   "metadata": {},
   "source": [
    "# Data Science – Homework 2\n",
    "\n",
    "Turn in ONE PDF file with answers to all the questions. \n",
    "You may also turn in a python notebook with supporting code if you feel it helps explain your answers.\n",
    "\n",
    "\n"
   ]
  },
  {
   "cell_type": "code",
   "execution_count": 1,
   "metadata": {},
   "outputs": [],
   "source": [
    "# Load general utilities\n",
    "# ----------------------\n",
    "import pandas as pd\n",
    "import matplotlib.pyplot as plt\n",
    "import matplotlib.axes as ax\n",
    "import datetime\n",
    "import numpy as np\n",
    "import pickle\n",
    "import time\n",
    "import seaborn as sns\n",
    "from sys import platform\n",
    "import os"
   ]
  },
  {
   "cell_type": "markdown",
   "metadata": {},
   "source": [
    "# Prep and preprocession section\n",
    "Load the data and engineer features"
   ]
  },
  {
   "cell_type": "code",
   "execution_count": 2,
   "metadata": {},
   "outputs": [],
   "source": [
    "# This is the code you can use to open your pickle file\n",
    "# Read the data and features from the pickle\n",
    "final_data, discrete_features, continuous_features, ret_cols = pickle.load( open( \"Data/clean_data.pickle\", \"rb\" ) )"
   ]
  },
  {
   "cell_type": "code",
   "execution_count": 3,
   "metadata": {},
   "outputs": [],
   "source": [
    "# Create the outcome\n",
    "final_data[\"default\"] = final_data.loan_status.isin([\"Charged Off\", \"Default\"])"
   ]
  },
  {
   "cell_type": "code",
   "execution_count": 4,
   "metadata": {},
   "outputs": [],
   "source": [
    "# Create a feature for the length of a person's credit history at the\n",
    "# time the loan is issued\n",
    "final_data['cr_hist'] = (final_data.issue_d - final_data.earliest_cr_line) / np.timedelta64(1, 'M')\n",
    "continuous_features.append('cr_hist')"
   ]
  },
  {
   "cell_type": "markdown",
   "metadata": {},
   "source": [
    "# Create X and y from the features"
   ]
  },
  {
   "cell_type": "code",
   "execution_count": 5,
   "metadata": {},
   "outputs": [],
   "source": [
    "from sklearn.preprocessing import MinMaxScaler\n",
    "\n",
    "def minMaxScaleContinuous(continuousList):\n",
    "    return pd.DataFrame(MinMaxScaler().fit_transform(final_data[continuousList])\n",
    "                             ,columns=list(final_data[continuousList].columns)\n",
    "                             ,index = final_data[continuousList].index)\n",
    "\n",
    "def createDiscreteDummies(discreteList):\n",
    "    return pd.get_dummies(final_data[discreteList], dummy_na = True, prefix_sep = \"::\", drop_first = False)"
   ]
  },
  {
   "cell_type": "code",
   "execution_count": 6,
   "metadata": {},
   "outputs": [
    {
     "data": {
      "text/html": [
       "<div>\n",
       "<style scoped>\n",
       "    .dataframe tbody tr th:only-of-type {\n",
       "        vertical-align: middle;\n",
       "    }\n",
       "\n",
       "    .dataframe tbody tr th {\n",
       "        vertical-align: top;\n",
       "    }\n",
       "\n",
       "    .dataframe thead th {\n",
       "        text-align: right;\n",
       "    }\n",
       "</style>\n",
       "<table border=\"1\" class=\"dataframe\">\n",
       "  <thead>\n",
       "    <tr style=\"text-align: right;\">\n",
       "      <th></th>\n",
       "      <th>id</th>\n",
       "      <th>loan_amnt</th>\n",
       "      <th>funded_amnt</th>\n",
       "      <th>revol_util</th>\n",
       "      <th>revol_bal</th>\n",
       "      <th>fico_range_low</th>\n",
       "      <th>fico_range_high</th>\n",
       "      <th>pub_rec</th>\n",
       "      <th>open_acc</th>\n",
       "      <th>earliest_cr_line</th>\n",
       "      <th>...</th>\n",
       "      <th>term</th>\n",
       "      <th>int_rate</th>\n",
       "      <th>installment</th>\n",
       "      <th>verification_status</th>\n",
       "      <th>recoveries</th>\n",
       "      <th>loan_status</th>\n",
       "      <th>last_pymnt_d</th>\n",
       "      <th>total_pymnt</th>\n",
       "      <th>default</th>\n",
       "      <th>cr_hist</th>\n",
       "    </tr>\n",
       "  </thead>\n",
       "  <tbody>\n",
       "    <tr>\n",
       "      <td>0</td>\n",
       "      <td>74121690</td>\n",
       "      <td>6000.0</td>\n",
       "      <td>6000.0</td>\n",
       "      <td>63.0</td>\n",
       "      <td>15055.0</td>\n",
       "      <td>675.0</td>\n",
       "      <td>679.0</td>\n",
       "      <td>0.0</td>\n",
       "      <td>16.0</td>\n",
       "      <td>2006-05-01</td>\n",
       "      <td>...</td>\n",
       "      <td>36 months</td>\n",
       "      <td>12.99</td>\n",
       "      <td>202.14</td>\n",
       "      <td>Not Verified</td>\n",
       "      <td>0.00</td>\n",
       "      <td>Fully Paid</td>\n",
       "      <td>2019-04-01</td>\n",
       "      <td>7268.153165</td>\n",
       "      <td>False</td>\n",
       "      <td>118.014744</td>\n",
       "    </tr>\n",
       "    <tr>\n",
       "      <td>2</td>\n",
       "      <td>74826201</td>\n",
       "      <td>7200.0</td>\n",
       "      <td>7200.0</td>\n",
       "      <td>18.4</td>\n",
       "      <td>9309.0</td>\n",
       "      <td>750.0</td>\n",
       "      <td>754.0</td>\n",
       "      <td>0.0</td>\n",
       "      <td>11.0</td>\n",
       "      <td>2001-12-01</td>\n",
       "      <td>...</td>\n",
       "      <td>36 months</td>\n",
       "      <td>5.32</td>\n",
       "      <td>216.83</td>\n",
       "      <td>Source Verified</td>\n",
       "      <td>0.00</td>\n",
       "      <td>Fully Paid</td>\n",
       "      <td>2016-04-01</td>\n",
       "      <td>7223.410000</td>\n",
       "      <td>False</td>\n",
       "      <td>170.976817</td>\n",
       "    </tr>\n",
       "    <tr>\n",
       "      <td>3</td>\n",
       "      <td>75061311</td>\n",
       "      <td>12000.0</td>\n",
       "      <td>12000.0</td>\n",
       "      <td>50.6</td>\n",
       "      <td>12152.0</td>\n",
       "      <td>670.0</td>\n",
       "      <td>674.0</td>\n",
       "      <td>0.0</td>\n",
       "      <td>10.0</td>\n",
       "      <td>1999-12-01</td>\n",
       "      <td>...</td>\n",
       "      <td>60 months</td>\n",
       "      <td>11.99</td>\n",
       "      <td>266.88</td>\n",
       "      <td>Not Verified</td>\n",
       "      <td>443.49</td>\n",
       "      <td>Charged Off</td>\n",
       "      <td>2018-11-01</td>\n",
       "      <td>8448.900000</td>\n",
       "      <td>True</td>\n",
       "      <td>194.993737</td>\n",
       "    </tr>\n",
       "    <tr>\n",
       "      <td>4</td>\n",
       "      <td>75091735</td>\n",
       "      <td>11425.0</td>\n",
       "      <td>11425.0</td>\n",
       "      <td>7.2</td>\n",
       "      <td>2096.0</td>\n",
       "      <td>730.0</td>\n",
       "      <td>734.0</td>\n",
       "      <td>0.0</td>\n",
       "      <td>11.0</td>\n",
       "      <td>2008-09-01</td>\n",
       "      <td>...</td>\n",
       "      <td>36 months</td>\n",
       "      <td>19.53</td>\n",
       "      <td>421.87</td>\n",
       "      <td>Source Verified</td>\n",
       "      <td>0.00</td>\n",
       "      <td>Fully Paid</td>\n",
       "      <td>2017-11-01</td>\n",
       "      <td>14331.034913</td>\n",
       "      <td>False</td>\n",
       "      <td>89.956673</td>\n",
       "    </tr>\n",
       "    <tr>\n",
       "      <td>6</td>\n",
       "      <td>75235366</td>\n",
       "      <td>20625.0</td>\n",
       "      <td>20625.0</td>\n",
       "      <td>63.6</td>\n",
       "      <td>10742.0</td>\n",
       "      <td>695.0</td>\n",
       "      <td>699.0</td>\n",
       "      <td>0.0</td>\n",
       "      <td>10.0</td>\n",
       "      <td>1990-05-01</td>\n",
       "      <td>...</td>\n",
       "      <td>36 months</td>\n",
       "      <td>10.75</td>\n",
       "      <td>672.80</td>\n",
       "      <td>Source Verified</td>\n",
       "      <td>0.00</td>\n",
       "      <td>Fully Paid</td>\n",
       "      <td>2018-09-01</td>\n",
       "      <td>24142.676489</td>\n",
       "      <td>False</td>\n",
       "      <td>310.018686</td>\n",
       "    </tr>\n",
       "    <tr>\n",
       "      <td>...</td>\n",
       "      <td>...</td>\n",
       "      <td>...</td>\n",
       "      <td>...</td>\n",
       "      <td>...</td>\n",
       "      <td>...</td>\n",
       "      <td>...</td>\n",
       "      <td>...</td>\n",
       "      <td>...</td>\n",
       "      <td>...</td>\n",
       "      <td>...</td>\n",
       "      <td>...</td>\n",
       "      <td>...</td>\n",
       "      <td>...</td>\n",
       "      <td>...</td>\n",
       "      <td>...</td>\n",
       "      <td>...</td>\n",
       "      <td>...</td>\n",
       "      <td>...</td>\n",
       "      <td>...</td>\n",
       "      <td>...</td>\n",
       "      <td>...</td>\n",
       "    </tr>\n",
       "    <tr>\n",
       "      <td>1762896</td>\n",
       "      <td>154225862</td>\n",
       "      <td>25525.0</td>\n",
       "      <td>25525.0</td>\n",
       "      <td>30.8</td>\n",
       "      <td>13484.0</td>\n",
       "      <td>710.0</td>\n",
       "      <td>714.0</td>\n",
       "      <td>0.0</td>\n",
       "      <td>23.0</td>\n",
       "      <td>2006-11-01</td>\n",
       "      <td>...</td>\n",
       "      <td>36 months</td>\n",
       "      <td>20.00</td>\n",
       "      <td>948.61</td>\n",
       "      <td>Source Verified</td>\n",
       "      <td>0.00</td>\n",
       "      <td>Fully Paid</td>\n",
       "      <td>2019-07-01</td>\n",
       "      <td>25743.640001</td>\n",
       "      <td>False</td>\n",
       "      <td>151.953839</td>\n",
       "    </tr>\n",
       "    <tr>\n",
       "      <td>1762965</td>\n",
       "      <td>154311563</td>\n",
       "      <td>6000.0</td>\n",
       "      <td>6000.0</td>\n",
       "      <td>83.4</td>\n",
       "      <td>18852.0</td>\n",
       "      <td>705.0</td>\n",
       "      <td>709.0</td>\n",
       "      <td>0.0</td>\n",
       "      <td>8.0</td>\n",
       "      <td>2001-12-01</td>\n",
       "      <td>...</td>\n",
       "      <td>36 months</td>\n",
       "      <td>20.00</td>\n",
       "      <td>222.99</td>\n",
       "      <td>Not Verified</td>\n",
       "      <td>0.00</td>\n",
       "      <td>Fully Paid</td>\n",
       "      <td>2019-10-01</td>\n",
       "      <td>6333.814970</td>\n",
       "      <td>False</td>\n",
       "      <td>210.961211</td>\n",
       "    </tr>\n",
       "    <tr>\n",
       "      <td>1762976</td>\n",
       "      <td>153817414</td>\n",
       "      <td>12000.0</td>\n",
       "      <td>12000.0</td>\n",
       "      <td>15.7</td>\n",
       "      <td>1317.0</td>\n",
       "      <td>710.0</td>\n",
       "      <td>714.0</td>\n",
       "      <td>0.0</td>\n",
       "      <td>8.0</td>\n",
       "      <td>2006-12-01</td>\n",
       "      <td>...</td>\n",
       "      <td>60 months</td>\n",
       "      <td>15.24</td>\n",
       "      <td>287.00</td>\n",
       "      <td>Not Verified</td>\n",
       "      <td>0.00</td>\n",
       "      <td>Fully Paid</td>\n",
       "      <td>2019-10-01</td>\n",
       "      <td>12520.400076</td>\n",
       "      <td>False</td>\n",
       "      <td>150.968192</td>\n",
       "    </tr>\n",
       "    <tr>\n",
       "      <td>1763007</td>\n",
       "      <td>154053832</td>\n",
       "      <td>15000.0</td>\n",
       "      <td>15000.0</td>\n",
       "      <td>4.1</td>\n",
       "      <td>697.0</td>\n",
       "      <td>775.0</td>\n",
       "      <td>779.0</td>\n",
       "      <td>0.0</td>\n",
       "      <td>9.0</td>\n",
       "      <td>2006-12-01</td>\n",
       "      <td>...</td>\n",
       "      <td>36 months</td>\n",
       "      <td>8.81</td>\n",
       "      <td>475.68</td>\n",
       "      <td>Not Verified</td>\n",
       "      <td>0.00</td>\n",
       "      <td>Fully Paid</td>\n",
       "      <td>2019-09-01</td>\n",
       "      <td>15287.033886</td>\n",
       "      <td>False</td>\n",
       "      <td>150.968192</td>\n",
       "    </tr>\n",
       "    <tr>\n",
       "      <td>1763024</td>\n",
       "      <td>154105572</td>\n",
       "      <td>10000.0</td>\n",
       "      <td>10000.0</td>\n",
       "      <td>92.1</td>\n",
       "      <td>7089.0</td>\n",
       "      <td>665.0</td>\n",
       "      <td>669.0</td>\n",
       "      <td>1.0</td>\n",
       "      <td>11.0</td>\n",
       "      <td>2014-03-01</td>\n",
       "      <td>...</td>\n",
       "      <td>36 months</td>\n",
       "      <td>17.74</td>\n",
       "      <td>360.23</td>\n",
       "      <td>Not Verified</td>\n",
       "      <td>0.00</td>\n",
       "      <td>Fully Paid</td>\n",
       "      <td>2019-08-01</td>\n",
       "      <td>10248.808055</td>\n",
       "      <td>False</td>\n",
       "      <td>64.001314</td>\n",
       "    </tr>\n",
       "  </tbody>\n",
       "</table>\n",
       "<p>787693 rows × 28 columns</p>\n",
       "</div>"
      ],
      "text/plain": [
       "                id  loan_amnt  funded_amnt  revol_util  revol_bal  \\\n",
       "0         74121690     6000.0       6000.0        63.0    15055.0   \n",
       "2         74826201     7200.0       7200.0        18.4     9309.0   \n",
       "3         75061311    12000.0      12000.0        50.6    12152.0   \n",
       "4         75091735    11425.0      11425.0         7.2     2096.0   \n",
       "6         75235366    20625.0      20625.0        63.6    10742.0   \n",
       "...            ...        ...          ...         ...        ...   \n",
       "1762896  154225862    25525.0      25525.0        30.8    13484.0   \n",
       "1762965  154311563     6000.0       6000.0        83.4    18852.0   \n",
       "1762976  153817414    12000.0      12000.0        15.7     1317.0   \n",
       "1763007  154053832    15000.0      15000.0         4.1      697.0   \n",
       "1763024  154105572    10000.0      10000.0        92.1     7089.0   \n",
       "\n",
       "         fico_range_low  fico_range_high  pub_rec  open_acc earliest_cr_line  \\\n",
       "0                 675.0            679.0      0.0      16.0       2006-05-01   \n",
       "2                 750.0            754.0      0.0      11.0       2001-12-01   \n",
       "3                 670.0            674.0      0.0      10.0       1999-12-01   \n",
       "4                 730.0            734.0      0.0      11.0       2008-09-01   \n",
       "6                 695.0            699.0      0.0      10.0       1990-05-01   \n",
       "...                 ...              ...      ...       ...              ...   \n",
       "1762896           710.0            714.0      0.0      23.0       2006-11-01   \n",
       "1762965           705.0            709.0      0.0       8.0       2001-12-01   \n",
       "1762976           710.0            714.0      0.0       8.0       2006-12-01   \n",
       "1763007           775.0            779.0      0.0       9.0       2006-12-01   \n",
       "1763024           665.0            669.0      1.0      11.0       2014-03-01   \n",
       "\n",
       "         ...        term  int_rate installment verification_status  \\\n",
       "0        ...   36 months     12.99      202.14        Not Verified   \n",
       "2        ...   36 months      5.32      216.83     Source Verified   \n",
       "3        ...   60 months     11.99      266.88        Not Verified   \n",
       "4        ...   36 months     19.53      421.87     Source Verified   \n",
       "6        ...   36 months     10.75      672.80     Source Verified   \n",
       "...      ...         ...       ...         ...                 ...   \n",
       "1762896  ...   36 months     20.00      948.61     Source Verified   \n",
       "1762965  ...   36 months     20.00      222.99        Not Verified   \n",
       "1762976  ...   60 months     15.24      287.00        Not Verified   \n",
       "1763007  ...   36 months      8.81      475.68        Not Verified   \n",
       "1763024  ...   36 months     17.74      360.23        Not Verified   \n",
       "\n",
       "         recoveries  loan_status last_pymnt_d   total_pymnt default  \\\n",
       "0              0.00   Fully Paid   2019-04-01   7268.153165   False   \n",
       "2              0.00   Fully Paid   2016-04-01   7223.410000   False   \n",
       "3            443.49  Charged Off   2018-11-01   8448.900000    True   \n",
       "4              0.00   Fully Paid   2017-11-01  14331.034913   False   \n",
       "6              0.00   Fully Paid   2018-09-01  24142.676489   False   \n",
       "...             ...          ...          ...           ...     ...   \n",
       "1762896        0.00   Fully Paid   2019-07-01  25743.640001   False   \n",
       "1762965        0.00   Fully Paid   2019-10-01   6333.814970   False   \n",
       "1762976        0.00   Fully Paid   2019-10-01  12520.400076   False   \n",
       "1763007        0.00   Fully Paid   2019-09-01  15287.033886   False   \n",
       "1763024        0.00   Fully Paid   2019-08-01  10248.808055   False   \n",
       "\n",
       "            cr_hist  \n",
       "0        118.014744  \n",
       "2        170.976817  \n",
       "3        194.993737  \n",
       "4         89.956673  \n",
       "6        310.018686  \n",
       "...             ...  \n",
       "1762896  151.953839  \n",
       "1762965  210.961211  \n",
       "1762976  150.968192  \n",
       "1763007  150.968192  \n",
       "1763024   64.001314  \n",
       "\n",
       "[787693 rows x 28 columns]"
      ]
     },
     "execution_count": 6,
     "metadata": {},
     "output_type": "execute_result"
    }
   ],
   "source": [
    "final_data"
   ]
  },
  {
   "cell_type": "code",
   "execution_count": 7,
   "metadata": {},
   "outputs": [],
   "source": [
    "# data_type = pd.DataFrame(final_data.dtypes,columns=['dtypes'])"
   ]
  },
  {
   "cell_type": "code",
   "execution_count": 8,
   "metadata": {},
   "outputs": [],
   "source": [
    "discrete_features_touse = discrete_features\n",
    "continuous_features_touse = continuous_features"
   ]
  },
  {
   "cell_type": "markdown",
   "metadata": {},
   "source": [
    "# Part 1 Decision Tree Classifier"
   ]
  },
  {
   "cell_type": "markdown",
   "metadata": {},
   "source": [
    "#  Question 1\n"
   ]
  },
  {
   "cell_type": "code",
   "execution_count": 9,
   "metadata": {},
   "outputs": [
    {
     "name": "stdout",
     "output_type": "stream",
     "text": [
      "Population:\n",
      " False    623662\n",
      "True     164031\n",
      "Name: default, dtype: int64\n",
      "Train:\n",
      " False    374090\n",
      "True      98525\n",
      "Name: default, dtype: int64\n",
      "Test:\n",
      " False    249572\n",
      "True      65506\n",
      "Name: default, dtype: int64\n"
     ]
    }
   ],
   "source": [
    "from sklearn.model_selection import train_test_split\n",
    "from sklearn.preprocessing import MinMaxScaler\n",
    "\n",
    "# Create dummies for categorical features and concatenate with continuous features for X or predictor dataframe\n",
    "\n",
    "# Use this line of code if you do not want to scale the continuous features\n",
    "#X_continuous = data[continuous_features_touse]\n",
    "\n",
    "# use this line if you want to scale the continuous features using the MinMaxScaler in the function defined above\n",
    "X_continuous = minMaxScaleContinuous(continuous_features_touse)\n",
    "\n",
    "# create numeric dummy features for the discrete features to be used in modeling\n",
    "X_discrete = createDiscreteDummies(discrete_features_touse)\n",
    "\n",
    "\n",
    "#split dataset in features and target variable\n",
    "#concatenate the continuous and discrete features into one dataframe\n",
    "X = pd.concat([X_continuous, X_discrete], axis = 1)\n",
    "\n",
    "# this is the target variable \n",
    "target_col = \"default\"\n",
    "y=final_data[target_col]\n",
    "\n",
    "\n",
    "# create a test and train split of the transformed data\n",
    "X_train, X_test, y_train, y_test = train_test_split(X, y, random_state=1, test_size=.4)\n",
    "\n",
    "print(\"Population:\\n\",y.value_counts())\n",
    "print(\"Train:\\n\", y_train.value_counts())\n",
    "print(\"Test:\\n\", y_test.value_counts())\n"
   ]
  },
  {
   "cell_type": "markdown",
   "metadata": {},
   "source": [
    "# Build Model with Decision Tree GridsearchCV\n",
    "This is an example grid search with cross validation using a Decision Tree Classifier. Please note the following:\n",
    "\n",
    "It does not use the selected features from the RFE above.\n",
    "To use selected features: Replace X_train with rfecv_selected_train and Replace X_test with rfecv_selected_test\n",
    "You can adjust these parameters or add others\n",
    "The scoring method can be changed"
   ]
  },
  {
   "cell_type": "code",
   "execution_count": 10,
   "metadata": {},
   "outputs": [
    {
     "name": "stdout",
     "output_type": "stream",
     "text": [
      "Parameter grid:\n",
      "{'criterion': ['gini', 'entropy'], 'max_depth': [3]} \n",
      "\n",
      "best params  {'criterion': 'gini', 'max_depth': 3} \n",
      "\n",
      "best estimator  DecisionTreeClassifier(ccp_alpha=0.0, class_weight=None, criterion='gini',\n",
      "                       max_depth=3, max_features=None, max_leaf_nodes=None,\n",
      "                       min_impurity_decrease=0.0, min_impurity_split=None,\n",
      "                       min_samples_leaf=1, min_samples_split=2,\n",
      "                       min_weight_fraction_leaf=0.0, presort='deprecated',\n",
      "                       random_state=None, splitter='best') \n",
      "\n",
      "best validation score  0.9263783846569851 \n",
      "\n",
      "scoring method  make_scorer(roc_auc_score, needs_threshold=True)\n",
      "Test set accuracy score: 0.9256969\n"
     ]
    }
   ],
   "source": [
    "from sklearn.tree import DecisionTreeClassifier\n",
    "from sklearn.model_selection import GridSearchCV\n",
    "\n",
    "parameters = {'criterion'   : [\"gini\", \"entropy\"],\n",
    "              'max_depth'   : [3]\n",
    "             }\n",
    "\n",
    "print(\"Parameter grid:\\n{}\".format(parameters),'\\n')\n",
    "\n",
    "grid =  GridSearchCV(DecisionTreeClassifier(), parameters, cv=10, return_train_score=True, scoring='roc_auc', n_jobs=-1)\n",
    "\n",
    "# perform grid search cv on training data.  The CV algorithm divides this into training and validation\n",
    "dt_model = grid.fit(X_train, y_train)\n",
    "\n",
    "print('best params ',dt_model.best_params_,'\\n')\n",
    "print('best estimator ',dt_model.best_estimator_,'\\n')\n",
    "print('best validation score ', dt_model.best_score_,'\\n')\n",
    "print('scoring method ', dt_model.scorer_)\n",
    "\n",
    "print(\"Test set accuracy score: {:.7f}\".format(dt_model.score(X_test, y_test)))\n"
   ]
  },
  {
   "cell_type": "code",
   "execution_count": 11,
   "metadata": {},
   "outputs": [],
   "source": [
    "from sklearn.metrics import confusion_matrix\n",
    "from sklearn.metrics import accuracy_score, recall_score, precision_score, fbeta_score, classification_report\n",
    "\n",
    "'''Function to print model accuracy information'''\n",
    "\n",
    "def printAccuracyInfo(model, X_test, y_test):\n",
    "    print(y_test.value_counts())\n",
    "    # Make predictions against the test set\n",
    "    pred = dt_model.predict(X_test)\n",
    "    # Show the confusion matrix\n",
    "    ''' confusion matrix returned with Predicted as the Columns and Actual as the Rows\n",
    "         PN  PP\n",
    "         AN [tn  fp] \n",
    "         AP [fn  tp]\n",
    "    '''\n",
    "    # Show the confusion matrix\n",
    "    print(\"confusion matrix:\")\n",
    "    print(confusion_matrix(y_test, pred))\n",
    "    tn,fp,fn,tp=confusion_matrix(y_test, pred).ravel()\n",
    "    print('tn: ',tn)\n",
    "    print('fp: ',fp)\n",
    "    print('fn: ',fn)\n",
    "    print('tp: ',tp)\n",
    "\n",
    "    # Find the accuracy scores of the predictions against the true classes\n",
    "    print(\"accuracy: %0.3f\" % accuracy_score(y_test, pred))\n",
    "    print(\"recall: %0.3f\" % recall_score(y_test, pred, pos_label=True))\n",
    "    print(\"precision: %0.3f\" % precision_score(y_test, pred, pos_label=True))\n",
    "    print(\"f-measure: %0.3f\" % fbeta_score(y_test, pred, beta=1, pos_label=True))\n",
    "    print(classification_report(y_test,pred))"
   ]
  },
  {
   "cell_type": "code",
   "execution_count": 12,
   "metadata": {},
   "outputs": [
    {
     "name": "stdout",
     "output_type": "stream",
     "text": [
      "False    249572\n",
      "True      65506\n",
      "Name: default, dtype: int64\n",
      "confusion matrix:\n",
      "[[249559     13]\n",
      " [ 14193  51313]]\n",
      "tn:  249559\n",
      "fp:  13\n",
      "fn:  14193\n",
      "tp:  51313\n",
      "accuracy: 0.955\n",
      "recall: 0.783\n",
      "precision: 1.000\n",
      "f-measure: 0.878\n",
      "              precision    recall  f1-score   support\n",
      "\n",
      "       False       0.95      1.00      0.97    249572\n",
      "        True       1.00      0.78      0.88     65506\n",
      "\n",
      "    accuracy                           0.95    315078\n",
      "   macro avg       0.97      0.89      0.93    315078\n",
      "weighted avg       0.96      0.95      0.95    315078\n",
      "\n"
     ]
    }
   ],
   "source": [
    "# example use of printAccuracyInfo using gbc_model and X_test\n",
    "# note: if you trained model using rfecv_selected_train, you need to call the function with rfecv_selected_test for X_test\n",
    "printAccuracyInfo(dt_model, X_test, y_test)"
   ]
  },
  {
   "cell_type": "code",
   "execution_count": 13,
   "metadata": {},
   "outputs": [],
   "source": [
    "import matplotlib.pyplot as plt\n",
    "from sklearn.metrics import plot_confusion_matrix\n",
    "\n",
    "'''Function to print confusion matrix for a model\n",
    "   You may need to run this to update to scikit-learn version 0.22.1\n",
    "         !pip install -U scikit-learn --user\n",
    "'''\n",
    "\n",
    "def plotConfusionMatrix (negative_label, positive_label, model, X_test, y_test):\n",
    "    titles_options = [(\"Confusion matrix, without normalization\", None,'d'),\n",
    "                      (\"Normalized confusion matrix\", 'true','.3g')]\n",
    "    for title, normalize,val_frmt in titles_options:\n",
    "        disp = plot_confusion_matrix(model, X_test, y_test,\n",
    "                                     display_labels=[negative_label,positive_label],\n",
    "                                     cmap=plt.cm.Blues,\n",
    "                                     values_format=val_frmt,\n",
    "                                     normalize=normalize)\n",
    "        disp.ax_.set_title(title)\n",
    "        disp.ax_.set_xlabel('Predicted')\n",
    "        disp.ax_.set_ylabel('Actual')\n",
    "\n",
    "        print(title)\n",
    "        print(disp.confusion_matrix)\n",
    "\n",
    "    plt.show()"
   ]
  },
  {
   "cell_type": "code",
   "execution_count": 14,
   "metadata": {},
   "outputs": [
    {
     "name": "stdout",
     "output_type": "stream",
     "text": [
      "Confusion matrix, without normalization\n",
      "[[249559     13]\n",
      " [ 14193  51313]]\n",
      "Normalized confusion matrix\n",
      "[[9.99947911e-01 5.20891767e-05]\n",
      " [2.16667176e-01 7.83332824e-01]]\n"
     ]
    },
    {
     "data": {
      "image/png": "[encoded data removed]",
      "text/plain": [
       "<Figure size 432x288 with 2 Axes>"
      ]
     },
     "metadata": {
      "needs_background": "light"
     },
     "output_type": "display_data"
    },
    {
     "data": {
      "image/png": "[encoded data removed]",
      "text/plain": [
       "<Figure size 432x288 with 2 Axes>"
      ]
     },
     "metadata": {
      "needs_background": "light"
     },
     "output_type": "display_data"
    }
   ],
   "source": [
    "# example use of plotConfusionMatrix using gbc_model and X_test\n",
    "# note: if you trained model using rfecv_selected_train, you need to call the function with rfecv_selected_test for X_test\n",
    "plotConfusionMatrix('No Default', 'Default', dt_model, X_test, y_test)"
   ]
  },
  {
   "cell_type": "markdown",
   "metadata": {},
   "source": [
    "# VISUALIZE PERFORMANCE\n",
    "ROC Curve Function to create ROC curve for one model NOTE: This will not work with SVC models, as they do not have a predict_proba function"
   ]
  },
  {
   "cell_type": "code",
   "execution_count": 15,
   "metadata": {},
   "outputs": [],
   "source": [
    "def plot_roc_curve_1 (model, model_name, X_test, y_test):\n",
    "    from sklearn.metrics import roc_curve\n",
    "    from sklearn.metrics import roc_auc_score\n",
    "    from matplotlib import pyplot\n",
    "\n",
    "    # generate a no skill prediction (majority class)\n",
    "    ns_probs = [0 for _ in range(len(y_test))]\n",
    "\n",
    "    # predict probabilities\n",
    "    cf_probs = model.predict_proba(X_test)\n",
    "\n",
    "    # keep probabilities for the positive outcome only\n",
    "    cf_probs = cf_probs[:, 1]\n",
    "\n",
    "    # calculate scores\n",
    "    ns_auc = roc_auc_score(y_test, ns_probs)\n",
    "    cf_auc = roc_auc_score(y_test, cf_probs)\n",
    "\n",
    "    # summarize scores\n",
    "    print('No Skill: ROC AUC=%.3f' % (ns_auc))\n",
    "    print(model_name,': ROC AUC=%.3f' % (cf_auc))\n",
    "\n",
    "    # calculate roc curves\n",
    "    ns_fpr, ns_tpr, _ = roc_curve(y_test, ns_probs)\n",
    "    cf_fpr, cf_tpr, _ = roc_curve(y_test, cf_probs)\n",
    "\n",
    "    # plot the roc curve for the model\n",
    "    pyplot.plot(ns_fpr, ns_tpr, linestyle='--', label='No Skill')\n",
    "    pyplot.plot(cf_fpr, cf_tpr, marker='.', label=model_name)\n",
    "\n",
    "    # axis labels\n",
    "    pyplot.xlabel('False Positive Rate')\n",
    "    pyplot.ylabel('True Positive Rate')\n",
    "\n",
    "    # show the legend\n",
    "    pyplot.legend()\n",
    "\n",
    "    # show the plot\n",
    "    pyplot.show()"
   ]
  },
  {
   "cell_type": "code",
   "execution_count": 16,
   "metadata": {},
   "outputs": [
    {
     "name": "stdout",
     "output_type": "stream",
     "text": [
      "No Skill: ROC AUC=0.500\n",
      "dt_model : ROC AUC=0.926\n"
     ]
    },
    {
     "data": {
      "image/png": "[encoded data removed]",
      "text/plain": [
       "<Figure size 432x288 with 1 Axes>"
      ]
     },
     "metadata": {
      "needs_background": "light"
     },
     "output_type": "display_data"
    }
   ],
   "source": [
    "## example ROC plot for the decision tree model using X_test.\n",
    "plot_roc_curve_1(dt_model, 'dt_model', X_test, y_test)"
   ]
  },
  {
   "cell_type": "markdown",
   "metadata": {},
   "source": [
    "# Question 2 selecting optimal set features"
   ]
  },
  {
   "cell_type": "markdown",
   "metadata": {},
   "source": [
    "# RFE with Cross Validation using Decision Tree"
   ]
  },
  {
   "cell_type": "code",
   "execution_count": 17,
   "metadata": {},
   "outputs": [
    {
     "data": {
      "image/png": "[encoded data removed]",
      "text/plain": [
       "<Figure size 720x360 with 1 Axes>"
      ]
     },
     "metadata": {
      "needs_background": "light"
     },
     "output_type": "display_data"
    }
   ],
   "source": [
    "import matplotlib.pyplot as plt\n",
    "from sklearn.tree import DecisionTreeClassifier\n",
    "from sklearn.feature_selection import RFECV\n",
    "\n",
    "dt = DecisionTreeClassifier()\n",
    "\n",
    "rfecv = RFECV(estimator=dt,  min_features_to_select = 4, cv=10/, n_jobs=-1)\n",
    "rfecv.fit(X_train, y_train)\n",
    "\n",
    "# Plot number of features VS. cross-validation scores\n",
    "plt.figure(figsize=(10,5))\n",
    "plt.xlabel(\"Number of features selected\")\n",
    "plt.ylabel(\"Cross validation score (nb of correct classifications)\")\n",
    "plt.plot(range(1, len(rfecv.grid_scores_) + 1), rfecv.grid_scores_)\n",
    "plt.title(\"Optimal number of features : %d\" % rfecv.n_features_)\n",
    "plt.show()"
   ]
  },
  {
   "cell_type": "code",
   "execution_count": 18,
   "metadata": {},
   "outputs": [
    {
     "data": {
      "text/plain": [
       "loan_amnt      1\n",
       "recoveries     1\n",
       "total_pymnt    1\n",
       "funded_amnt    1\n",
       "revol_bal      2\n",
       "installment    3\n",
       "dti            4\n",
       "cr_hist        5\n",
       "revol_util     6\n",
       "annual_inc     7\n",
       "dtype: int32"
      ]
     },
     "execution_count": 18,
     "metadata": {},
     "output_type": "execute_result"
    }
   ],
   "source": [
    "# look at the ranking of each feature after using RFECV\n",
    "pd.Series(rfecv.ranking_, index=X_train.columns).sort_values(ascending=True).head(10)"
   ]
  },
  {
   "cell_type": "code",
   "execution_count": 19,
   "metadata": {},
   "outputs": [
    {
     "name": "stdout",
     "output_type": "stream",
     "text": [
      "train: (472615, 4)\n",
      "test: (315078, 4)\n"
     ]
    }
   ],
   "source": [
    "# create new training and test datasets with the selected features only\n",
    "\n",
    "rfecv_selected_train = pd.DataFrame(rfecv.transform(X_train)\n",
    "                                    ,columns=list(X_train.columns[rfecv.get_support()])\n",
    "                                    ,index=X_train.index)\n",
    "\n",
    "rfecv_selected_test = pd.DataFrame(rfecv.transform(X_test)\n",
    "                                    ,columns=list(X_test.columns[rfecv.get_support()])\n",
    "                                    ,index=X_test.index)\n",
    "\n",
    "print(\"train:\", rfecv_selected_train.shape)\n",
    "print(\"test:\", rfecv_selected_test.shape)"
   ]
  },
  {
   "cell_type": "code",
   "execution_count": 20,
   "metadata": {},
   "outputs": [
    {
     "data": {
      "text/plain": [
       "['loan_amnt', 'funded_amnt', 'recoveries', 'total_pymnt']"
      ]
     },
     "execution_count": 20,
     "metadata": {},
     "output_type": "execute_result"
    }
   ],
   "source": [
    "# get boolean mask of features selected and use the mask to find the feature names\n",
    "list(X.columns[rfecv.get_support()])"
   ]
  },
  {
   "cell_type": "markdown",
   "metadata": {},
   "source": [
    "# Build the model with GridSearchCV and optimal selected feature"
   ]
  },
  {
   "cell_type": "code",
   "execution_count": 21,
   "metadata": {},
   "outputs": [
    {
     "name": "stdout",
     "output_type": "stream",
     "text": [
      "Parameter grid:\n",
      "{'criterion': ['gini', 'entropy'], 'max_depth': [3]} \n",
      "\n",
      "best params  {'criterion': 'gini', 'max_depth': 3} \n",
      "\n",
      "best estimator  DecisionTreeClassifier(ccp_alpha=0.0, class_weight=None, criterion='gini',\n",
      "                       max_depth=3, max_features=None, max_leaf_nodes=None,\n",
      "                       min_impurity_decrease=0.0, min_impurity_split=None,\n",
      "                       min_samples_leaf=1, min_samples_split=2,\n",
      "                       min_weight_fraction_leaf=0.0, presort='deprecated',\n",
      "                       random_state=None, splitter='best') \n",
      "\n",
      "best validation score  0.9263783846569851 \n",
      "\n",
      "scoring method  make_scorer(roc_auc_score, needs_threshold=True)\n",
      "Test set accuracy score: 0.9256969\n"
     ]
    }
   ],
   "source": [
    "from sklearn.tree import DecisionTreeClassifier\n",
    "from sklearn.model_selection import GridSearchCV\n",
    "\n",
    "parameters = {'criterion'   : [\"gini\", \"entropy\"],\n",
    "              'max_depth'   : [3]\n",
    "             }\n",
    "\n",
    "print(\"Parameter grid:\\n{}\".format(parameters),'\\n')\n",
    "\n",
    "grid = GridSearchCV(DecisionTreeClassifier(), parameters, cv=10, return_train_score=True, scoring='roc_auc', n_jobs=-1)\n",
    "\n",
    "# perform grid search cv on training data.  The CV algorithm divides this into training and validation\n",
    "dt_model = grid.fit( rfecv_selected_train, y_train)\n",
    "\n",
    "print('best params ',dt_model.best_params_,'\\n')\n",
    "print('best estimator ',dt_model.best_estimator_,'\\n')\n",
    "print('best validation score ', dt_model.best_score_,'\\n')\n",
    "print('scoring method ', dt_model.scorer_)\n",
    "\n",
    "print(\"Test set accuracy score: {:.7f}\".format(dt_model.score(rfecv_selected_test, y_test)))\n",
    "\n",
    "#saveModel('dt_model', dt_model)"
   ]
  },
  {
   "cell_type": "code",
   "execution_count": 55,
   "metadata": {},
   "outputs": [],
   "source": [
    "from sklearn.metrics import confusion_matrix\n",
    "from sklearn.metrics import accuracy_score, recall_score, precision_score, fbeta_score, classification_report\n",
    "\n",
    "'''Function to print model accuracy information'''\n",
    "\n",
    "def printAccuracyInfo(model, rfecv_selected_test, y_test):\n",
    "    print(y_test.value_counts())\n",
    "    # Make predictions against the test set\n",
    "    pred = dt_model.predict(rfecv_selected_test)\n",
    "    # Show the confusion matrix\n",
    "    ''' confusion matrix returned with Predicted as the Columns and Actual as the Rows\n",
    "         PN  PP\n",
    "         AN [tn  fp] \n",
    "         AP [fn  tp]\n",
    "    '''\n",
    "    # Show the confusion matrix\n",
    "    print(\"confusion matrix:\")\n",
    "    print(confusion_matrix(y_test, pred))\n",
    "    tn,fp,fn,tp=confusion_matrix(y_test, pred).ravel()\n",
    "    print('tn: ',tn)\n",
    "    print('fp: ',fp)\n",
    "    print('fn: ',fn)\n",
    "    print('tp: ',tp)\n",
    "\n",
    "    # Find the accuracy scores of the predictions against the true classes\n",
    "    print(\"accuracy: %0.3f\" % accuracy_score(y_test, pred))\n",
    "    print(\"recall: %0.3f\" % recall_score(y_test, pred, pos_label=True))\n",
    "    print(\"precision: %0.3f\" % precision_score(y_test, pred, pos_label=True))\n",
    "    print(\"f-measure: %0.3f\" % fbeta_score(y_test, pred, beta=1, pos_label=True))\n",
    "    print(classification_report(y_test,pred))"
   ]
  },
  {
   "cell_type": "code",
   "execution_count": 56,
   "metadata": {},
   "outputs": [
    {
     "name": "stdout",
     "output_type": "stream",
     "text": [
      "False    249572\n",
      "True      65506\n",
      "Name: default, dtype: int64\n",
      "confusion matrix:\n",
      "[[249559     13]\n",
      " [ 14193  51313]]\n",
      "tn:  249559\n",
      "fp:  13\n",
      "fn:  14193\n",
      "tp:  51313\n",
      "accuracy: 0.955\n",
      "recall: 0.783\n",
      "precision: 1.000\n",
      "f-measure: 0.878\n",
      "              precision    recall  f1-score   support\n",
      "\n",
      "       False       0.95      1.00      0.97    249572\n",
      "        True       1.00      0.78      0.88     65506\n",
      "\n",
      "    accuracy                           0.95    315078\n",
      "   macro avg       0.97      0.89      0.93    315078\n",
      "weighted avg       0.96      0.95      0.95    315078\n",
      "\n"
     ]
    }
   ],
   "source": [
    "# example use of printAccuracyInfo using gbc_model and X_test\n",
    "# note: if you trained model using rfecv_selected_train, you need to call the function with rfecv_selected_test for X_test\n",
    "printAccuracyInfo(dt_model,rfecv_selected_test, y_test)"
   ]
  },
  {
   "cell_type": "code",
   "execution_count": 57,
   "metadata": {},
   "outputs": [],
   "source": [
    "import matplotlib.pyplot as plt\n",
    "from sklearn.metrics import plot_confusion_matrix\n",
    "\n",
    "'''Function to print confusion matrix for a model\n",
    "   You may need to run this to update to scikit-learn version 0.22.1\n",
    "         !pip install -U scikit-learn --user\n",
    "'''\n",
    "\n",
    "def plotConfusionMatrix (negative_label, positive_label, model, rfecv_selected_test, y_test):\n",
    "    titles_options = [(\"Confusion matrix, without normalization\", None,'d'),\n",
    "                      (\"Normalized confusion matrix\", 'true','.3g')]\n",
    "    for title, normalize,val_frmt in titles_options:\n",
    "        disp = plot_confusion_matrix(model, rfecv_selected_test, y_test,\n",
    "                                     display_labels=[negative_label,positive_label],\n",
    "                                     cmap=plt.cm.Blues,\n",
    "                                     values_format=val_frmt,\n",
    "                                     normalize=normalize)\n",
    "        disp.ax_.set_title(title)\n",
    "        disp.ax_.set_xlabel('Predicted')\n",
    "        disp.ax_.set_ylabel('Actual')\n",
    "\n",
    "        print(title)\n",
    "        print(disp.confusion_matrix)\n",
    "\n",
    "    plt.show()"
   ]
  },
  {
   "cell_type": "code",
   "execution_count": 58,
   "metadata": {},
   "outputs": [
    {
     "name": "stdout",
     "output_type": "stream",
     "text": [
      "Confusion matrix, without normalization\n",
      "[[249559     13]\n",
      " [ 14193  51313]]\n",
      "Normalized confusion matrix\n",
      "[[9.99947911e-01 5.20891767e-05]\n",
      " [2.16667176e-01 7.83332824e-01]]\n"
     ]
    },
    {
     "data": {
      "image/png": "[encoded data removed]",
      "text/plain": [
       "<Figure size 432x288 with 2 Axes>"
      ]
     },
     "metadata": {
      "needs_background": "light"
     },
     "output_type": "display_data"
    },
    {
     "data": {
      "image/png": "[encoded data removed]",
      "text/plain": [
       "<Figure size 432x288 with 2 Axes>"
      ]
     },
     "metadata": {
      "needs_background": "light"
     },
     "output_type": "display_data"
    }
   ],
   "source": [
    "# example use of plotConfusionMatrix using gbc_model and X_test\n",
    "# note: if you trained model using rfecv_selected_train, you need to call the function with rfecv_selected_test for X_test\n",
    "plotConfusionMatrix('No Default', 'Default', dt_model, rfecv_selected_test, y_test)"
   ]
  },
  {
   "cell_type": "markdown",
   "metadata": {},
   "source": [
    "# VISUALIZE PERFORMANCE"
   ]
  },
  {
   "cell_type": "code",
   "execution_count": 59,
   "metadata": {},
   "outputs": [],
   "source": [
    "def plot_roc_curve_1 (model, model_name, rfecv_selected_test, y_test):\n",
    "    from sklearn.metrics import roc_curve\n",
    "    from sklearn.metrics import roc_auc_score\n",
    "    from matplotlib import pyplot\n",
    "\n",
    "    # generate a no skill prediction (majority class)\n",
    "    ns_probs = [0 for _ in range(len(y_test))]\n",
    "\n",
    "    # predict probabilities\n",
    "    cf_probs = model.predict_proba(rfecv_selected_test)\n",
    "\n",
    "    # keep probabilities for the positive outcome only\n",
    "    cf_probs = cf_probs[:, 1]\n",
    "\n",
    "    # calculate scores\n",
    "    ns_auc = roc_auc_score(y_test, ns_probs)\n",
    "    cf_auc = roc_auc_score(y_test, cf_probs)\n",
    "\n",
    "    # summarize scores\n",
    "    print('No Skill: ROC AUC=%.3f' % (ns_auc))\n",
    "    print(model_name,': ROC AUC=%.3f' % (cf_auc))\n",
    "\n",
    "    # calculate roc curves\n",
    "    ns_fpr, ns_tpr, _ = roc_curve(y_test, ns_probs)\n",
    "    cf_fpr, cf_tpr, _ = roc_curve(y_test, cf_probs)\n",
    "\n",
    "    # plot the roc curve for the model\n",
    "    pyplot.plot(ns_fpr, ns_tpr, linestyle='--', label='No Skill')\n",
    "    pyplot.plot(cf_fpr, cf_tpr, marker='.', label=model_name)\n",
    "\n",
    "    # axis labels\n",
    "    pyplot.xlabel('False Positive Rate')\n",
    "    pyplot.ylabel('True Positive Rate')\n",
    "\n",
    "    # show the legend\n",
    "    pyplot.legend()\n",
    "\n",
    "    # show the plot\n",
    "    pyplot.show()"
   ]
  },
  {
   "cell_type": "code",
   "execution_count": 60,
   "metadata": {},
   "outputs": [
    {
     "name": "stdout",
     "output_type": "stream",
     "text": [
      "No Skill: ROC AUC=0.500\n",
      "dt_model : ROC AUC=0.926\n"
     ]
    },
    {
     "data": {
      "image/png": "[encoded data removed]",
      "text/plain": [
       "<Figure size 432x288 with 1 Axes>"
      ]
     },
     "metadata": {
      "needs_background": "light"
     },
     "output_type": "display_data"
    }
   ],
   "source": [
    "## example ROC plot for the decision tree model using X_test.\n",
    "plot_roc_curve_1(dt_model, 'dt_model', rfecv_selected_test, y_test)"
   ]
  },
  {
   "cell_type": "markdown",
   "metadata": {},
   "source": [
    "# Part 2 ogistic regression "
   ]
  },
  {
   "cell_type": "markdown",
   "metadata": {},
   "source": [
    "# Question 1"
   ]
  },
  {
   "cell_type": "code",
   "execution_count": 61,
   "metadata": {},
   "outputs": [
    {
     "name": "stdout",
     "output_type": "stream",
     "text": [
      "Parameter grid:\n",
      "{'penalty': ['l1'], 'C': [0.1], 'solver': ['liblinear']} \n",
      "\n",
      "best params  {'C': 0.1, 'penalty': 'l1', 'solver': 'liblinear'} \n",
      "\n",
      "best estimator  LogisticRegression(C=0.1, class_weight=None, dual=False, fit_intercept=True,\n",
      "                   intercept_scaling=1, l1_ratio=None, max_iter=100,\n",
      "                   multi_class='auto', n_jobs=None, penalty='l1',\n",
      "                   random_state=None, solver='liblinear', tol=0.0001, verbose=0,\n",
      "                   warm_start=False) \n",
      "\n",
      "best validation score  0.994513663970892 \n",
      "\n",
      "scoring method  make_scorer(roc_auc_score, needs_threshold=True)\n",
      "Test set accuracy score: 0.9942356\n"
     ]
    }
   ],
   "source": [
    "from sklearn.linear_model import LogisticRegression\n",
    "from sklearn.model_selection import GridSearchCV\n",
    "\n",
    "''' These are just example parameter settings. You can change these parameters or add others.\n",
    "    The grid search uses a scoring method of roc_auc. You can change that to another scoring method.\n",
    "'''\n",
    "\n",
    "parameters = {'penalty': [\"l1\"],\n",
    "              'C'      : [0.1],\n",
    "              'solver' : ['liblinear']\n",
    "             }\n",
    "\n",
    "print(\"Parameter grid:\\n{}\".format(parameters),'\\n')\n",
    "\n",
    "grid =  GridSearchCV(LogisticRegression(), parameters, cv=10, return_train_score=True, scoring='roc_auc', n_jobs=-1)\n",
    "\n",
    "# perform grid search cv on training data.  The CV algorithm divides this into training and validation\n",
    "lr_model = grid.fit(X_train, y_train)\n",
    "\n",
    "print('best params ',lr_model.best_params_,'\\n')\n",
    "print('best estimator ',lr_model.best_estimator_,'\\n')\n",
    "print('best validation score ', lr_model.best_score_,'\\n')\n",
    "print('scoring method ', lr_model.scorer_)\n",
    "\n",
    "print(\"Test set accuracy score: {:.7f}\".format(lr_model.score(X_test, y_test)))\n",
    "\n",
    "#saveModel('lr_model', lr_model)"
   ]
  },
  {
   "cell_type": "code",
   "execution_count": 74,
   "metadata": {},
   "outputs": [],
   "source": [
    "from sklearn.metrics import confusion_matrix\n",
    "from sklearn.metrics import accuracy_score, recall_score, precision_score, fbeta_score, classification_report\n",
    "\n",
    "'''Function to print model accuracy information'''\n",
    "\n",
    "def printAccuracyInfo(model, X_test, y_test):\n",
    "    print(y_test.value_counts())\n",
    "    # Make predictions against the test set\n",
    "    pred = lr_model.predict(X_test)\n",
    "    # Show the confusion matrix\n",
    "    ''' confusion matrix returned with Predicted as the Columns and Actual as the Rows\n",
    "         PN  PP\n",
    "         AN [tn  fp] \n",
    "         AP [fn  tp]\n",
    "    '''\n",
    "    # Show the confusion matrix\n",
    "    print(\"confusion matrix:\")\n",
    "    print(confusion_matrix(y_test, pred))\n",
    "    tn,fp,fn,tp=confusion_matrix(y_test, pred).ravel()\n",
    "    print('tn: ',tn)\n",
    "    print('fp: ',fp)\n",
    "    print('fn: ',fn)\n",
    "    print('tp: ',tp)\n",
    "\n",
    "    # Find the accuracy scores of the predictions against the true classes\n",
    "    print(\"accuracy: %0.3f\" % accuracy_score(y_test, pred))\n",
    "    print(\"recall: %0.3f\" % recall_score(y_test, pred, pos_label=True))\n",
    "    print(\"precision: %0.3f\" % precision_score(y_test, pred, pos_label=True))\n",
    "    print(\"f-measure: %0.3f\" % fbeta_score(y_test, pred, beta=1, pos_label=True))\n",
    "    print(classification_report(y_test,pred))"
   ]
  },
  {
   "cell_type": "code",
   "execution_count": 75,
   "metadata": {},
   "outputs": [
    {
     "name": "stdout",
     "output_type": "stream",
     "text": [
      "False    249572\n",
      "True      65506\n",
      "Name: default, dtype: int64\n",
      "confusion matrix:\n",
      "[[249546     26]\n",
      " [  3047  62459]]\n",
      "tn:  249546\n",
      "fp:  26\n",
      "fn:  3047\n",
      "tp:  62459\n",
      "accuracy: 0.990\n",
      "recall: 0.953\n",
      "precision: 1.000\n",
      "f-measure: 0.976\n",
      "              precision    recall  f1-score   support\n",
      "\n",
      "       False       0.99      1.00      0.99    249572\n",
      "        True       1.00      0.95      0.98     65506\n",
      "\n",
      "    accuracy                           0.99    315078\n",
      "   macro avg       0.99      0.98      0.98    315078\n",
      "weighted avg       0.99      0.99      0.99    315078\n",
      "\n"
     ]
    }
   ],
   "source": [
    "# example use of printAccuracyInfo using gbc_model and X_test\n",
    "# note: if you trained model using rfecv_selected_train, you need to call the function with rfecv_selected_test for X_test\n",
    "printAccuracyInfo(lr_model, X_test, y_test)"
   ]
  },
  {
   "cell_type": "code",
   "execution_count": 76,
   "metadata": {},
   "outputs": [],
   "source": [
    "import matplotlib.pyplot as plt\n",
    "from sklearn.metrics import plot_confusion_matrix\n",
    "\n",
    "'''Function to print confusion matrix for a model\n",
    "   You may need to run this to update to scikit-learn version 0.22.1\n",
    "         !pip install -U scikit-learn --user\n",
    "'''\n",
    "\n",
    "def plotConfusionMatrix (negative_label, positive_label, model,  X_test, y_test):\n",
    "    titles_options = [(\"Confusion matrix, without normalization\", None,'d'),\n",
    "                      (\"Normalized confusion matrix\", 'true','.3g')]\n",
    "    for title, normalize,val_frmt in titles_options:\n",
    "        disp = plot_confusion_matrix(model, X_test, y_test,\n",
    "                                     display_labels=[negative_label,positive_label],\n",
    "                                     cmap=plt.cm.Blues,\n",
    "                                     values_format=val_frmt,\n",
    "                                     normalize=normalize)\n",
    "        disp.ax_.set_title(title)\n",
    "        disp.ax_.set_xlabel('Predicted')\n",
    "        disp.ax_.set_ylabel('Actual')\n",
    "\n",
    "        print(title)\n",
    "        print(disp.confusion_matrix)\n",
    "\n",
    "    plt.show()"
   ]
  },
  {
   "cell_type": "code",
   "execution_count": 77,
   "metadata": {},
   "outputs": [
    {
     "name": "stdout",
     "output_type": "stream",
     "text": [
      "Confusion matrix, without normalization\n",
      "[[249546     26]\n",
      " [  3047  62459]]\n",
      "Normalized confusion matrix\n",
      "[[9.99895822e-01 1.04178353e-04]\n",
      " [4.65148231e-02 9.53485177e-01]]\n"
     ]
    },
    {
     "data": {
      "image/png": "[encoded data removed]",
      "text/plain": [
       "<Figure size 432x288 with 2 Axes>"
      ]
     },
     "metadata": {
      "needs_background": "light"
     },
     "output_type": "display_data"
    },
    {
     "data": {
      "image/png": "[encoded data removed]",
      "text/plain": [
       "<Figure size 432x288 with 2 Axes>"
      ]
     },
     "metadata": {
      "needs_background": "light"
     },
     "output_type": "display_data"
    }
   ],
   "source": [
    "# example use of plotConfusionMatrix using gbc_model and X_test\n",
    "# note: if you trained model using rfecv_selected_train, you need to call the function with rfecv_selected_test for X_test\n",
    "plotConfusionMatrix('No Default', 'Default', lr_model, X_test, y_test)"
   ]
  },
  {
   "cell_type": "markdown",
   "metadata": {},
   "source": [
    "# VISUALIZE PERFORMANCE"
   ]
  },
  {
   "cell_type": "code",
   "execution_count": 78,
   "metadata": {},
   "outputs": [],
   "source": [
    "def plot_roc_curve_1 (model, model_name, X_test, y_test):\n",
    "    from sklearn.metrics import roc_curve\n",
    "    from sklearn.metrics import roc_auc_score\n",
    "    from matplotlib import pyplot\n",
    "\n",
    "    # generate a no skill prediction (majority class)\n",
    "    ns_probs = [0 for _ in range(len(y_test))]\n",
    "\n",
    "    # predict probabilities\n",
    "    cf_probs = model.predict_proba(X_test)\n",
    "\n",
    "    # keep probabilities for the positive outcome only\n",
    "    cf_probs = cf_probs[:, 1]\n",
    "\n",
    "    # calculate scores\n",
    "    ns_auc = roc_auc_score(y_test, ns_probs)\n",
    "    cf_auc = roc_auc_score(y_test, cf_probs)\n",
    "\n",
    "    # summarize scores\n",
    "    print('No Skill: ROC AUC=%.3f' % (ns_auc))\n",
    "    print(model_name,': ROC AUC=%.3f' % (cf_auc))\n",
    "\n",
    "    # calculate roc curves\n",
    "    ns_fpr, ns_tpr, _ = roc_curve(y_test, ns_probs)\n",
    "    cf_fpr, cf_tpr, _ = roc_curve(y_test, cf_probs)\n",
    "\n",
    "    # plot the roc curve for the model\n",
    "    pyplot.plot(ns_fpr, ns_tpr, linestyle='--', label='No Skill')\n",
    "    pyplot.plot(cf_fpr, cf_tpr, marker='.', label=model_name)\n",
    "\n",
    "    # axis labels\n",
    "    pyplot.xlabel('False Positive Rate')\n",
    "    pyplot.ylabel('True Positive Rate')\n",
    "\n",
    "    # show the legend\n",
    "    pyplot.legend()\n",
    "\n",
    "    # show the plot\n",
    "    pyplot.show()"
   ]
  },
  {
   "cell_type": "code",
   "execution_count": 79,
   "metadata": {},
   "outputs": [
    {
     "name": "stdout",
     "output_type": "stream",
     "text": [
      "No Skill: ROC AUC=0.500\n",
      "dt_model : ROC AUC=0.994\n"
     ]
    },
    {
     "data": {
      "image/png": "[encoded data removed]",
      "text/plain": [
       "<Figure size 432x288 with 1 Axes>"
      ]
     },
     "metadata": {
      "needs_background": "light"
     },
     "output_type": "display_data"
    }
   ],
   "source": [
    "## example ROC plot for the decision tree model using X_test.\n",
    "plot_roc_curve_1(lr_model, 'dt_model',  X_test, y_test)"
   ]
  },
  {
   "cell_type": "markdown",
   "metadata": {},
   "source": [
    "# Question 2 selecting optimal set features"
   ]
  },
  {
   "cell_type": "code",
   "execution_count": 83,
   "metadata": {},
   "outputs": [
    {
     "name": "stdout",
     "output_type": "stream",
     "text": [
      "Parameter grid:\n",
      "{'penalty': ['l1'], 'C': [0.1], 'solver': ['liblinear']} \n",
      "\n",
      "best params  {'C': 0.1, 'penalty': 'l1', 'solver': 'liblinear'} \n",
      "\n",
      "best estimator  LogisticRegression(C=0.1, class_weight=None, dual=False, fit_intercept=True,\n",
      "                   intercept_scaling=1, l1_ratio=None, max_iter=100,\n",
      "                   multi_class='auto', n_jobs=None, penalty='l1',\n",
      "                   random_state=None, solver='liblinear', tol=0.0001, verbose=0,\n",
      "                   warm_start=False) \n",
      "\n",
      "best validation score  0.9930054933425353 \n",
      "\n",
      "scoring method  make_scorer(roc_auc_score, needs_threshold=True)\n",
      "Test set accuracy score: 0.9925439\n"
     ]
    }
   ],
   "source": [
    "from sklearn.linear_model import LogisticRegression\n",
    "from sklearn.model_selection import GridSearchCV\n",
    "\n",
    "''' These are just example parameter settings. You can change these parameters or add others.\n",
    "    The grid search uses a scoring method of roc_auc. You can change that to another scoring method.\n",
    "'''\n",
    "\n",
    "parameters = {'penalty': [\"l1\"],\n",
    "              'C'      : [0.1],\n",
    "              'solver' : ['liblinear']\n",
    "             }\n",
    "\n",
    "print(\"Parameter grid:\\n{}\".format(parameters),'\\n')\n",
    "\n",
    "grid =  GridSearchCV(LogisticRegression(), parameters, cv=10, return_train_score=True, scoring='roc_auc', n_jobs=-1)\n",
    "\n",
    "# perform grid search cv on training data.  The CV algorithm divides this into training and validation\n",
    "lr_model = grid.fit( rfecv_selected_train, y_train)\n",
    "\n",
    "print('best params ',lr_model.best_params_,'\\n')\n",
    "print('best estimator ',lr_model.best_estimator_,'\\n')\n",
    "print('best validation score ', lr_model.best_score_,'\\n')\n",
    "print('scoring method ', lr_model.scorer_)\n",
    "\n",
    "print(\"Test set accuracy score: {:.7f}\".format(lr_model.score(rfecv_selected_test, y_test)))\n",
    "\n",
    "#saveModel('lr_model', lr_model)"
   ]
  },
  {
   "cell_type": "code",
   "execution_count": 84,
   "metadata": {},
   "outputs": [
    {
     "data": {
      "text/plain": [
       "['loan_amnt', 'funded_amnt', 'recoveries', 'total_pymnt']"
      ]
     },
     "execution_count": 84,
     "metadata": {},
     "output_type": "execute_result"
    }
   ],
   "source": [
    "# get boolean mask of features selected and use the mask to find the feature names\n",
    "list(X.columns[rfecv.get_support()])"
   ]
  },
  {
   "cell_type": "code",
   "execution_count": 85,
   "metadata": {},
   "outputs": [],
   "source": [
    "from sklearn.metrics import confusion_matrix\n",
    "from sklearn.metrics import accuracy_score, recall_score, precision_score, fbeta_score, classification_report\n",
    "\n",
    "'''Function to print model accuracy information'''\n",
    "\n",
    "def printAccuracyInfo(model, rfecv_selected_test, y_test):\n",
    "    print(y_test.value_counts())\n",
    "    # Make predictions against the test set\n",
    "    pred = lr_model.predict(rfecv_selected_test)\n",
    "    # Show the confusion matrix\n",
    "    ''' confusion matrix returned with Predicted as the Columns and Actual as the Rows\n",
    "         PN  PP\n",
    "         AN [tn  fp] \n",
    "         AP [fn  tp]\n",
    "    '''\n",
    "    # Show the confusion matrix\n",
    "    print(\"confusion matrix:\")\n",
    "    print(confusion_matrix(y_test, pred))\n",
    "    tn,fp,fn,tp=confusion_matrix(y_test, pred).ravel()\n",
    "    print('tn: ',tn)\n",
    "    print('fp: ',fp)\n",
    "    print('fn: ',fn)\n",
    "    print('tp: ',tp)\n",
    "\n",
    "    # Find the accuracy scores of the predictions against the true classes\n",
    "    print(\"accuracy: %0.3f\" % accuracy_score(y_test, pred))\n",
    "    print(\"recall: %0.3f\" % recall_score(y_test, pred, pos_label=True))\n",
    "    print(\"precision: %0.3f\" % precision_score(y_test, pred, pos_label=True))\n",
    "    print(\"f-measure: %0.3f\" % fbeta_score(y_test, pred, beta=1, pos_label=True))\n",
    "    print(classification_report(y_test,pred))"
   ]
  },
  {
   "cell_type": "code",
   "execution_count": 86,
   "metadata": {},
   "outputs": [
    {
     "name": "stdout",
     "output_type": "stream",
     "text": [
      "False    249572\n",
      "True      65506\n",
      "Name: default, dtype: int64\n",
      "confusion matrix:\n",
      "[[249570      2]\n",
      " [  3278  62228]]\n",
      "tn:  249570\n",
      "fp:  2\n",
      "fn:  3278\n",
      "tp:  62228\n",
      "accuracy: 0.990\n",
      "recall: 0.950\n",
      "precision: 1.000\n",
      "f-measure: 0.974\n",
      "              precision    recall  f1-score   support\n",
      "\n",
      "       False       0.99      1.00      0.99    249572\n",
      "        True       1.00      0.95      0.97     65506\n",
      "\n",
      "    accuracy                           0.99    315078\n",
      "   macro avg       0.99      0.97      0.98    315078\n",
      "weighted avg       0.99      0.99      0.99    315078\n",
      "\n"
     ]
    }
   ],
   "source": [
    "# example use of printAccuracyInfo using gbc_model and X_test\n",
    "# note: if you trained model using rfecv_selected_train, you need to call the function with rfecv_selected_test for X_test\n",
    "printAccuracyInfo(lr_model, rfecv_selected_test, y_test)"
   ]
  },
  {
   "cell_type": "code",
   "execution_count": 87,
   "metadata": {},
   "outputs": [],
   "source": [
    "import matplotlib.pyplot as plt\n",
    "from sklearn.metrics import plot_confusion_matrix\n",
    "\n",
    "'''Function to print confusion matrix for a model\n",
    "   You may need to run this to update to scikit-learn version 0.22.1\n",
    "         !pip install -U scikit-learn --user\n",
    "'''\n",
    "\n",
    "def plotConfusionMatrix (negative_label, positive_label, model, rfecv_selected_test, y_test):\n",
    "    titles_options = [(\"Confusion matrix, without normalization\", None,'d'),\n",
    "                      (\"Normalized confusion matrix\", 'true','.3g')]\n",
    "    for title, normalize,val_frmt in titles_options:\n",
    "        disp = plot_confusion_matrix(model, rfecv_selected_test, y_test,\n",
    "                                     display_labels=[negative_label,positive_label],\n",
    "                                     cmap=plt.cm.Blues,\n",
    "                                     values_format=val_frmt,\n",
    "                                     normalize=normalize)\n",
    "        disp.ax_.set_title(title)\n",
    "        disp.ax_.set_xlabel('Predicted')\n",
    "        disp.ax_.set_ylabel('Actual')\n",
    "\n",
    "        print(title)\n",
    "        print(disp.confusion_matrix)\n",
    "\n",
    "    plt.show()"
   ]
  },
  {
   "cell_type": "code",
   "execution_count": 89,
   "metadata": {},
   "outputs": [
    {
     "name": "stdout",
     "output_type": "stream",
     "text": [
      "Confusion matrix, without normalization\n",
      "[[249570      2]\n",
      " [  3278  62228]]\n",
      "Normalized confusion matrix\n",
      "[[9.99991986e-01 8.01371949e-06]\n",
      " [5.00412176e-02 9.49958782e-01]]\n"
     ]
    },
    {
     "data": {
      "image/png": "[encoded data removed]",
      "text/plain": [
       "<Figure size 432x288 with 2 Axes>"
      ]
     },
     "metadata": {
      "needs_background": "light"
     },
     "output_type": "display_data"
    },
    {
     "data": {
      "image/png": "[encoded data removed]",
      "text/plain": [
       "<Figure size 432x288 with 2 Axes>"
      ]
     },
     "metadata": {
      "needs_background": "light"
     },
     "output_type": "display_data"
    }
   ],
   "source": [
    "# example use of plotConfusionMatrix using gbc_model and X_test\n",
    "# note: if you trained model using rfecv_selected_train, you need to call the function with rfecv_selected_test for X_test\n",
    "plotConfusionMatrix('No Default', 'Default', lr_model, rfecv_selected_test, y_test)"
   ]
  },
  {
   "cell_type": "markdown",
   "metadata": {},
   "source": [
    "# VISUALIZE PERFORMANCE"
   ]
  },
  {
   "cell_type": "code",
   "execution_count": 90,
   "metadata": {},
   "outputs": [],
   "source": [
    "def plot_roc_curve_1 (model, model_name, rfecv_selected_test, y_test):\n",
    "    from sklearn.metrics import roc_curve\n",
    "    from sklearn.metrics import roc_auc_score\n",
    "    from matplotlib import pyplot\n",
    "\n",
    "    # generate a no skill prediction (majority class)\n",
    "    ns_probs = [0 for _ in range(len(y_test))]\n",
    "\n",
    "    # predict probabilities\n",
    "    cf_probs = model.predict_proba(rfecv_selected_test)\n",
    "\n",
    "    # keep probabilities for the positive outcome only\n",
    "    cf_probs = cf_probs[:, 1]\n",
    "\n",
    "    # calculate scores\n",
    "    ns_auc = roc_auc_score(y_test, ns_probs)\n",
    "    cf_auc = roc_auc_score(y_test, cf_probs)\n",
    "\n",
    "    # summarize scores\n",
    "    print('No Skill: ROC AUC=%.3f' % (ns_auc))\n",
    "    print(model_name,': ROC AUC=%.3f' % (cf_auc))\n",
    "\n",
    "    # calculate roc curves\n",
    "    ns_fpr, ns_tpr, _ = roc_curve(y_test, ns_probs)\n",
    "    cf_fpr, cf_tpr, _ = roc_curve(y_test, cf_probs)\n",
    "\n",
    "    # plot the roc curve for the model\n",
    "    pyplot.plot(ns_fpr, ns_tpr, linestyle='--', label='No Skill')\n",
    "    pyplot.plot(cf_fpr, cf_tpr, marker='.', label=model_name)\n",
    "\n",
    "    # axis labels\n",
    "    pyplot.xlabel('False Positive Rate')\n",
    "    pyplot.ylabel('True Positive Rate')\n",
    "\n",
    "    # show the legend\n",
    "    pyplot.legend()\n",
    "\n",
    "    # show the plot\n",
    "    pyplot.show()"
   ]
  },
  {
   "cell_type": "code",
   "execution_count": 91,
   "metadata": {},
   "outputs": [
    {
     "name": "stdout",
     "output_type": "stream",
     "text": [
      "No Skill: ROC AUC=0.500\n",
      "lr_model : ROC AUC=0.993\n"
     ]
    },
    {
     "data": {
      "image/png": "[encoded data removed]",
      "text/plain": [
       "<Figure size 432x288 with 1 Axes>"
      ]
     },
     "metadata": {
      "needs_background": "light"
     },
     "output_type": "display_data"
    }
   ],
   "source": [
    "## example ROC plot for the decision tree model using X_test.\n",
    "plot_roc_curve_1(lr_model, 'lr_model', rfecv_selected_test, y_test)"
   ]
  },
  {
   "cell_type": "code",
   "execution_count": null,
   "metadata": {},
   "outputs": [],
   "source": []
  }
 ],
 "metadata": {
  "kernelspec": {
   "display_name": "Python 3",
   "language": "python",
   "name": "python3"
  },
  "language_info": {
   "codemirror_mode": {
    "name": "ipython",
    "version": 3
   },
   "file_extension": ".py",
   "mimetype": "text/x-python",
   "name": "python",
   "nbconvert_exporter": "python",
   "pygments_lexer": "ipython3",
   "version": "3.7.4"
  }
 },
 "nbformat": 4,
 "nbformat_minor": 2
}
