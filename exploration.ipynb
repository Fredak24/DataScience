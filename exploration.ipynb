{
 "cells": [
  {
   "cell_type": "markdown",
   "metadata": {},
   "source": [
    "# Data Exploration\n",
    "\n",
    "### Contributors\n",
    "Professor Foster Provost - NYU Stern School of Business and Carlos Fernandez - teaching assistant\n"
   ]
  },
  {
   "cell_type": "markdown",
   "metadata": {},
   "source": [
    "## Imports Needed"
   ]
  },
  {
   "cell_type": "code",
   "execution_count": null,
   "metadata": {},
   "outputs": [],
   "source": [
    "import os\n",
    "import numpy as np\n",
    "import pandas as pd\n",
    "import math\n",
    "import matplotlib.pylab as plt\n",
    "import seaborn as sns\n",
    "\n",
    "%matplotlib inline\n",
    "sns.set(style='ticks', palette='Set2')"
   ]
  },
  {
   "cell_type": "markdown",
   "metadata": {},
   "source": [
    "## Predicting who will survive the Titanic"
   ]
  },
  {
   "cell_type": "markdown",
   "metadata": {},
   "source": [
    "This time we will use a classic introductory dataset that contains demographic and traveling information for the Titanic passengers. The goal is to predict the survival of these passengers. We will only keep a few variables of interest and transform all of them to numeric variables. We will also drop some outliers."
   ]
  },
  {
   "cell_type": "code",
   "execution_count": null,
   "metadata": {},
   "outputs": [],
   "source": [
    "# Load data\n",
    "path = \"./data/titanic.csv\"\n",
    "df = pd.read_csv(path)[[\"survived\", \"pclass\", \"sex\", \"age\", \"fare\"]].dropna()\n",
    "df['survive'] = df.survived.astype(bool)\n",
    "df.head()"
   ]
  },
  {
   "cell_type": "code",
   "execution_count": null,
   "metadata": {},
   "outputs": [],
   "source": [
    "# create a copy of df and call it df2 so that we can make some transformations and still keep df\n",
    "df2 = df.copy()\n",
    "# Transform sex column to a numeric variable\n",
    "df2[\"female\"] = (df2.sex == \"female\").astype(int)\n",
    "df2 = df2.drop(\"sex\", axis=\"columns\")\n",
    "# Drop outliers. This is to help the visualization in the next examples.\n",
    "df2 = df2[df2.fare < 400]\n",
    "# Take a look at the data\n",
    "df2.head(5)"
   ]
  },
  {
   "cell_type": "code",
   "execution_count": null,
   "metadata": {},
   "outputs": [],
   "source": [
    "df.info()"
   ]
  },
  {
   "cell_type": "code",
   "execution_count": null,
   "metadata": {},
   "outputs": [],
   "source": [
    "df2.info()"
   ]
  },
  {
   "cell_type": "code",
   "execution_count": null,
   "metadata": {
    "scrolled": true
   },
   "outputs": [],
   "source": [
    "# just the numeric columns\n",
    "df.describe()"
   ]
  },
  {
   "cell_type": "code",
   "execution_count": null,
   "metadata": {},
   "outputs": [],
   "source": [
    "# all columns including the categorical\n",
    "df.describe(include='all')"
   ]
  },
  {
   "cell_type": "code",
   "execution_count": null,
   "metadata": {},
   "outputs": [],
   "source": [
    "# just the categorical columns\n",
    "df.describe(include=['O','bool'])"
   ]
  },
  {
   "cell_type": "code",
   "execution_count": null,
   "metadata": {},
   "outputs": [],
   "source": [
    "# describe specific column (series)\n",
    "# what does the mean here tell us?\n",
    "df2.female.describe()"
   ]
  },
  {
   "cell_type": "markdown",
   "metadata": {},
   "source": [
    "### Exploration Visualizations"
   ]
  },
  {
   "cell_type": "markdown",
   "metadata": {},
   "source": [
    "We'd like to use information about the passengers to predict whether they will survive. Let's start by taking a look at how well some of the variables \"split\" the data according to our target."
   ]
  },
  {
   "cell_type": "code",
   "execution_count": null,
   "metadata": {
    "scrolled": true
   },
   "outputs": [],
   "source": [
    "df.groupby('sex')['fare'].median()"
   ]
  },
  {
   "cell_type": "code",
   "execution_count": null,
   "metadata": {},
   "outputs": [],
   "source": [
    "def createBoxPlot(df, x, y):\n",
    "    sns.set(style=\"whitegrid\")\n",
    "    p = sns.boxplot(x=x, y=y, data=df)\n",
    "    m1 = df.groupby([x])[y].median().values\n",
    "    mL1 = [str(np.round(s, 2)) for s in m1]\n",
    "\n",
    "    ind = 0\n",
    "    for tick in range(len(p.get_xticklabels())):\n",
    "        p.text(tick-.2, m1[ind], mL1[ind],  horizontalalignment='center',  color='w', weight='semibold')\n",
    "        ind += 1    \n",
    "    plt.show()"
   ]
  },
  {
   "cell_type": "code",
   "execution_count": null,
   "metadata": {},
   "outputs": [],
   "source": [
    "createBoxPlot(df,'sex','fare')"
   ]
  },
  {
   "cell_type": "code",
   "execution_count": null,
   "metadata": {},
   "outputs": [],
   "source": [
    "sns.set(style=\"whitegrid\")\n",
    "sns.boxplot(x=\"survive\", y=\"fare\", hue='sex', width=0.4, data=df)\n",
    "plt.show()"
   ]
  },
  {
   "cell_type": "markdown",
   "metadata": {},
   "source": [
    "Above we see boxplots that shows the fare distribution grouped by our target variable (survival). The left boxplot corresponds to people that died and the right one to people that survived. Alternatively, we could plot the distribution of fare according to survival"
   ]
  },
  {
   "cell_type": "code",
   "execution_count": null,
   "metadata": {},
   "outputs": [],
   "source": [
    "for r in range(2):\n",
    "    hist = df[df.survived == r].hist('fare')\n",
    "    plt.title(\"survived =\" + str(r))\n",
    "    plt.ylim(0,470)\n",
    "    plt.show()"
   ]
  },
  {
   "cell_type": "markdown",
   "metadata": {},
   "source": [
    "It seems that people that paid less are less likely to survive. We could use this to predict that people that paid more than 50 will survive."
   ]
  },
  {
   "cell_type": "code",
   "execution_count": null,
   "metadata": {},
   "outputs": [],
   "source": [
    "def createCorrelationPlot(df):\n",
    "    sns.set(style=\"white\")\n",
    "    # Compute the correlation matrix\n",
    "    #corr = d.corr()\n",
    "\n",
    "    # Generate a mask for the upper triangle\n",
    "    #mask = np.triu(np.ones_like(corr, dtype=np.bool))\n",
    "\n",
    "    # Set up the matplotlib figure\n",
    "    f, ax = plt.subplots(figsize=(11, 9))\n",
    "\n",
    "    # Generate a custom diverging colormap\n",
    "    #cmap = sns.diverging_palette(220, 10, as_cmap=True)\n",
    "\n",
    "    # Draw the heatmap with the mask and correct aspect ratio\n",
    "    sns.heatmap(df.corr()\n",
    "                ,mask=np.triu(np.ones_like(df.corr(), dtype=np.bool))\n",
    "                ,cmap=sns.diverging_palette(220, 10, as_cmap=True)\n",
    "                ,vmax=.3, center=0\n",
    "                ,square=True, linewidths=.5, cbar_kws={\"shrink\": .5})\n",
    "    plt.show()"
   ]
  },
  {
   "cell_type": "code",
   "execution_count": null,
   "metadata": {},
   "outputs": [],
   "source": [
    "createCorrelationPlot(df)"
   ]
  },
  {
   "cell_type": "markdown",
   "metadata": {},
   "source": [
    "### Skewness & Kurtosis\n",
    "\n",
    "#### Kurtosis: nature of the peaks of distribution\n",
    "* Larger value indicates\n",
    "    * sharper peak\n",
    "    * smaller variance and/or fewer extreme values\n",
    "* Positive value: acute peak\n",
    "* Negative value: flat peak\n",
    "\n",
    "#### Skewness: how asymmetrically the data is distributed\n",
    "* Greater than 1\n",
    "    * Obvious extended spread in one direction\n",
    "* Positive value: longer right tail\n",
    "* Negative value: longer left tail\n",
    "* The greater skewness, the greater distortion and the worse for data mining generally"
   ]
  },
  {
   "cell_type": "code",
   "execution_count": null,
   "metadata": {
    "scrolled": true
   },
   "outputs": [],
   "source": [
    "import seaborn as sns\n",
    "from scipy.stats import kurtosis, skew\n",
    "\n",
    "sns.distplot(df.fare, rug=True)\n",
    "plt.show()\n",
    "\n",
    "print('kurtosis is: {}'.format(kurtosis(df.fare)))\n",
    "\n",
    "print('skewness is: {}'.format(skew(df.fare)))"
   ]
  },
  {
   "cell_type": "code",
   "execution_count": null,
   "metadata": {},
   "outputs": [],
   "source": [
    "for s in df.sex.unique():\n",
    "    sns.distplot(df.fare[df.sex==s])"
   ]
  },
  {
   "cell_type": "code",
   "execution_count": null,
   "metadata": {
    "scrolled": true
   },
   "outputs": [],
   "source": [
    "import seaborn as sns\n",
    "from scipy.stats import kurtosis, skew\n",
    "\n",
    "sns.distplot(df.age)\n",
    "plt.show()\n",
    "\n",
    "print('kurtosis is: {}'.format(kurtosis(df.age)))\n",
    "\n",
    "print('skewness is: {}'.format(skew(df.age)))"
   ]
  },
  {
   "cell_type": "code",
   "execution_count": null,
   "metadata": {},
   "outputs": [],
   "source": [
    "from statsmodels.graphics.mosaicplot import mosaic\n",
    "import matplotlib.pyplot as plt\n",
    "\n",
    "mosaic(df, ['sex', 'survive'])\n",
    "plt.xlabel('Sex')\n",
    "plt.show()"
   ]
  }
 ],
 "metadata": {
  "kernelspec": {
   "display_name": "Python 3",
   "language": "python",
   "name": "python3"
  },
  "language_info": {
   "codemirror_mode": {
    "name": "ipython",
    "version": 3
   },
   "file_extension": ".py",
   "mimetype": "text/x-python",
   "name": "python",
   "nbconvert_exporter": "python",
   "pygments_lexer": "ipython3",
   "version": "3.7.3"
  }
 },
 "nbformat": 4,
 "nbformat_minor": 1
}
