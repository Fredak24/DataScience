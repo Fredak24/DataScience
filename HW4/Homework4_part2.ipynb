{
 "cells": [
  {
   "cell_type": "markdown",
   "metadata": {},
   "source": [
    "## Clustering Functions for Homework 4\n",
    "\n",
    "This notebook contains code to create the complete the clustering needed for homework 4.\n",
    "\n",
    "Please read __ALL__ the comments in the code and the headings. This notebook is NOT intended to be run as a script from top to bottom, although there are some code cells that need to be run first.\n",
    "- The general utility libraries need to be loaded first\n",
    "- Then you need to execute the load data and engineer features code cells"
   ]
  },
  {
   "cell_type": "code",
   "execution_count": 1,
   "metadata": {},
   "outputs": [],
   "source": [
    "# Load general utilities\n",
    "# ----------------------\n",
    "import pandas as pd\n",
    "import matplotlib.pyplot as plt\n",
    "import matplotlib.axes as ax\n",
    "import datetime\n",
    "import math\n",
    "import numpy as np\n",
    "import pickle\n",
    "\n",
    "import warnings\n",
    "warnings.filterwarnings(\"ignore\")"
   ]
  },
  {
   "cell_type": "markdown",
   "metadata": {},
   "source": [
    "### PREP AND PREPROCESSING SECTION"
   ]
  },
  {
   "cell_type": "markdown",
   "metadata": {},
   "source": [
    "###  Load the data and engineer features"
   ]
  },
  {
   "cell_type": "code",
   "execution_count": 2,
   "metadata": {},
   "outputs": [],
   "source": [
    "# This is the code you can use to open your pickle file\n",
    "# Read the data and features from the pickle\n",
    "data, discrete_features, continuous_features, ret_cols = pickle.load( open( \"../clean_data.pickle\", \"rb\" ) )"
   ]
  },
  {
   "cell_type": "code",
   "execution_count": 3,
   "metadata": {},
   "outputs": [],
   "source": [
    "# Create a feature for the length of a person's credit history at the\n",
    "# time the loan is issued\n",
    "data['cr_hist'] = (data.issue_d - data.earliest_cr_line) / np.timedelta64(1, 'M')\n",
    "continuous_features.append('cr_hist')"
   ]
  },
  {
   "cell_type": "markdown",
   "metadata": {},
   "source": [
    "#### If you want to use a smaller sample of the data due to time constraints, use the following code"
   ]
  },
  {
   "cell_type": "code",
   "execution_count": 4,
   "metadata": {},
   "outputs": [],
   "source": [
    "# this code randomly samples 55% of the rows\n",
    "# change the frac paramter if you want a different % to sample\n",
    "# replace = False insures we won't select the same row twice\n",
    "data=data.sample(frac=.55, replace=False, ).copy()"
   ]
  },
  {
   "cell_type": "markdown",
   "metadata": {},
   "source": [
    "#### VERY IMPORTANT STEP\n",
    "You need to define which features to use in the clustering."
   ]
  },
  {
   "cell_type": "code",
   "execution_count": 5,
   "metadata": {},
   "outputs": [],
   "source": [
    "# define the discrete features you want to use in modeling.\n",
    "# if you want to use all the discrete features, just set discrete_features_touse = discrete_features\n",
    "discrete_features_touse =['purpose', 'term', 'verification_status', 'emp_length', 'home_ownership']\n",
    "\n",
    "# define the continuous features to use in modeling\n",
    "# if you want to use all the continuous features, just set the continuous_features_touse = continuous_features\n",
    "continuous_features_touse = ['loan_amnt', 'funded_amnt','installment','annual_inc','dti','revol_bal','delinq_2yrs','open_acc',\n",
    " 'pub_rec','fico_range_high','fico_range_low','revol_util','cr_hist']"
   ]
  },
  {
   "cell_type": "markdown",
   "metadata": {},
   "source": [
    "#### Run the code below if you want to use all the features"
   ]
  },
  {
   "cell_type": "code",
   "execution_count": null,
   "metadata": {},
   "outputs": [],
   "source": [
    "discrete_features_touse=discrete_features\n",
    "continuous_features_touse = continuous_features"
   ]
  },
  {
   "cell_type": "markdown",
   "metadata": {},
   "source": [
    "#### Functions to scale data"
   ]
  },
  {
   "cell_type": "code",
   "execution_count": 6,
   "metadata": {},
   "outputs": [],
   "source": [
    "from sklearn.preprocessing import MinMaxScaler\n",
    "\n",
    "def minMaxScaleContinuous(continuousList):\n",
    "    return pd.DataFrame(MinMaxScaler().fit_transform(data[continuousList])\n",
    "                             ,columns=list(data[continuousList].columns)\n",
    "                             ,index = data[continuousList].index)\n",
    "\n",
    "def createDiscreteDummies(discreteList):\n",
    "    return pd.get_dummies(data[discreteList], dummy_na = True, prefix_sep = \"::\", drop_first = False)\n",
    "\n",
    "def createTransformedData(continuousList,discreteList):\n",
    "    # use this line if you want to scale the continuous features using the MinMaxScaler in the function defined above\n",
    "    continuous = minMaxScaleContinuous(continuousList)\n",
    "\n",
    "    # create numeric dummy features for the discrete features to be used in modeling\n",
    "    discrete = createDiscreteDummies(discreteList)\n",
    "\n",
    "    #concatenate the continuous and discrete features into one dataframe\n",
    "    return pd.concat([continuous, discrete], axis = 1)"
   ]
  },
  {
   "cell_type": "markdown",
   "metadata": {},
   "source": [
    "#### Function to Determine Number of Clusters"
   ]
  },
  {
   "cell_type": "code",
   "execution_count": 7,
   "metadata": {},
   "outputs": [],
   "source": [
    "from sklearn.cluster import KMeans\n",
    "\n",
    "def determineClusters(transformed_data, range_min, range_max):\n",
    "    Sum_of_squared_distances = []\n",
    "    K = range(range_min, range_max)\n",
    "    for k in K:\n",
    "        km = KMeans(n_clusters=k, n_jobs=-1)\n",
    "        km = km.fit(transformed_data)\n",
    "        Sum_of_squared_distances.append(km.inertia_)\n",
    "        \n",
    "    plt.plot(K, Sum_of_squared_distances, 'bx-')\n",
    "    plt.xlabel('k')\n",
    "    plt.ylabel('Sum_of_squared_distances')\n",
    "    plt.title('Elbow Method For Optimal k')\n",
    "    plt.show()"
   ]
  },
  {
   "cell_type": "markdown",
   "metadata": {},
   "source": [
    "### Scale and Transform Data\n",
    "\n",
    "- The continuous features are scaled and dummies are created for the discrete features\n",
    "- The dataset is split into Training and Testing"
   ]
  },
  {
   "cell_type": "code",
   "execution_count": 8,
   "metadata": {
    "scrolled": true
   },
   "outputs": [
    {
     "data": {
      "text/html": [
       "<div>\n",
       "<style scoped>\n",
       "    .dataframe tbody tr th:only-of-type {\n",
       "        vertical-align: middle;\n",
       "    }\n",
       "\n",
       "    .dataframe tbody tr th {\n",
       "        vertical-align: top;\n",
       "    }\n",
       "\n",
       "    .dataframe thead th {\n",
       "        text-align: right;\n",
       "    }\n",
       "</style>\n",
       "<table border=\"1\" class=\"dataframe\">\n",
       "  <thead>\n",
       "    <tr style=\"text-align: right;\">\n",
       "      <th></th>\n",
       "      <th>loan_amnt</th>\n",
       "      <th>funded_amnt</th>\n",
       "      <th>installment</th>\n",
       "      <th>annual_inc</th>\n",
       "      <th>dti</th>\n",
       "      <th>revol_bal</th>\n",
       "      <th>delinq_2yrs</th>\n",
       "      <th>open_acc</th>\n",
       "      <th>pub_rec</th>\n",
       "      <th>fico_range_high</th>\n",
       "      <th>...</th>\n",
       "      <th>home_ownership::MORTGAGE</th>\n",
       "      <th>home_ownership::NONE</th>\n",
       "      <th>home_ownership::OWN</th>\n",
       "      <th>home_ownership::RENT</th>\n",
       "      <th>home_ownership::nan</th>\n",
       "      <th>ret_PESS</th>\n",
       "      <th>ret_OPT</th>\n",
       "      <th>ret_INTa</th>\n",
       "      <th>ret_INTb</th>\n",
       "      <th>ret_INTc</th>\n",
       "    </tr>\n",
       "  </thead>\n",
       "  <tbody>\n",
       "    <tr>\n",
       "      <td>751161</td>\n",
       "      <td>0.179487</td>\n",
       "      <td>0.179487</td>\n",
       "      <td>0.135483</td>\n",
       "      <td>0.005460</td>\n",
       "      <td>0.007297</td>\n",
       "      <td>0.002744</td>\n",
       "      <td>0.142857</td>\n",
       "      <td>0.114943</td>\n",
       "      <td>0.000000</td>\n",
       "      <td>0.026882</td>\n",
       "      <td>...</td>\n",
       "      <td>0</td>\n",
       "      <td>0</td>\n",
       "      <td>0</td>\n",
       "      <td>1</td>\n",
       "      <td>0</td>\n",
       "      <td>0.025626</td>\n",
       "      <td>0.092367</td>\n",
       "      <td>0.027436</td>\n",
       "      <td>0.046782</td>\n",
       "      <td>0.082686</td>\n",
       "    </tr>\n",
       "    <tr>\n",
       "      <td>417288</td>\n",
       "      <td>0.384615</td>\n",
       "      <td>0.384615</td>\n",
       "      <td>0.294496</td>\n",
       "      <td>0.008401</td>\n",
       "      <td>0.019770</td>\n",
       "      <td>0.007733</td>\n",
       "      <td>0.000000</td>\n",
       "      <td>0.068966</td>\n",
       "      <td>0.000000</td>\n",
       "      <td>0.053763</td>\n",
       "      <td>...</td>\n",
       "      <td>0</td>\n",
       "      <td>0</td>\n",
       "      <td>0</td>\n",
       "      <td>1</td>\n",
       "      <td>0</td>\n",
       "      <td>0.061750</td>\n",
       "      <td>0.060090</td>\n",
       "      <td>0.046981</td>\n",
       "      <td>0.062698</td>\n",
       "      <td>0.091252</td>\n",
       "    </tr>\n",
       "    <tr>\n",
       "      <td>247560</td>\n",
       "      <td>0.102564</td>\n",
       "      <td>0.102564</td>\n",
       "      <td>0.082315</td>\n",
       "      <td>0.004200</td>\n",
       "      <td>0.011572</td>\n",
       "      <td>0.004621</td>\n",
       "      <td>0.023810</td>\n",
       "      <td>0.091954</td>\n",
       "      <td>0.000000</td>\n",
       "      <td>0.188172</td>\n",
       "      <td>...</td>\n",
       "      <td>0</td>\n",
       "      <td>0</td>\n",
       "      <td>0</td>\n",
       "      <td>1</td>\n",
       "      <td>0</td>\n",
       "      <td>0.038933</td>\n",
       "      <td>0.116878</td>\n",
       "      <td>0.035631</td>\n",
       "      <td>0.055294</td>\n",
       "      <td>0.091718</td>\n",
       "    </tr>\n",
       "    <tr>\n",
       "      <td>226630</td>\n",
       "      <td>0.107051</td>\n",
       "      <td>0.107051</td>\n",
       "      <td>0.097891</td>\n",
       "      <td>0.002415</td>\n",
       "      <td>0.022513</td>\n",
       "      <td>0.002508</td>\n",
       "      <td>0.000000</td>\n",
       "      <td>0.126437</td>\n",
       "      <td>0.038462</td>\n",
       "      <td>0.134409</td>\n",
       "      <td>...</td>\n",
       "      <td>0</td>\n",
       "      <td>0</td>\n",
       "      <td>0</td>\n",
       "      <td>1</td>\n",
       "      <td>0</td>\n",
       "      <td>0.118255</td>\n",
       "      <td>0.118334</td>\n",
       "      <td>0.082447</td>\n",
       "      <td>0.100646</td>\n",
       "      <td>0.133729</td>\n",
       "    </tr>\n",
       "    <tr>\n",
       "      <td>697801</td>\n",
       "      <td>0.410256</td>\n",
       "      <td>0.410256</td>\n",
       "      <td>0.285732</td>\n",
       "      <td>0.012181</td>\n",
       "      <td>0.013584</td>\n",
       "      <td>0.011009</td>\n",
       "      <td>0.000000</td>\n",
       "      <td>0.057471</td>\n",
       "      <td>0.000000</td>\n",
       "      <td>0.725806</td>\n",
       "      <td>...</td>\n",
       "      <td>0</td>\n",
       "      <td>0</td>\n",
       "      <td>0</td>\n",
       "      <td>1</td>\n",
       "      <td>0</td>\n",
       "      <td>0.014322</td>\n",
       "      <td>0.046985</td>\n",
       "      <td>0.020165</td>\n",
       "      <td>0.038718</td>\n",
       "      <td>0.073118</td>\n",
       "    </tr>\n",
       "  </tbody>\n",
       "</table>\n",
       "<p>5 rows × 58 columns</p>\n",
       "</div>"
      ],
      "text/plain": [
       "        loan_amnt  funded_amnt  installment  annual_inc       dti  revol_bal  \\\n",
       "751161   0.179487     0.179487     0.135483    0.005460  0.007297   0.002744   \n",
       "417288   0.384615     0.384615     0.294496    0.008401  0.019770   0.007733   \n",
       "247560   0.102564     0.102564     0.082315    0.004200  0.011572   0.004621   \n",
       "226630   0.107051     0.107051     0.097891    0.002415  0.022513   0.002508   \n",
       "697801   0.410256     0.410256     0.285732    0.012181  0.013584   0.011009   \n",
       "\n",
       "        delinq_2yrs  open_acc   pub_rec  fico_range_high  ...  \\\n",
       "751161     0.142857  0.114943  0.000000         0.026882  ...   \n",
       "417288     0.000000  0.068966  0.000000         0.053763  ...   \n",
       "247560     0.023810  0.091954  0.000000         0.188172  ...   \n",
       "226630     0.000000  0.126437  0.038462         0.134409  ...   \n",
       "697801     0.000000  0.057471  0.000000         0.725806  ...   \n",
       "\n",
       "        home_ownership::MORTGAGE  home_ownership::NONE  home_ownership::OWN  \\\n",
       "751161                         0                     0                    0   \n",
       "417288                         0                     0                    0   \n",
       "247560                         0                     0                    0   \n",
       "226630                         0                     0                    0   \n",
       "697801                         0                     0                    0   \n",
       "\n",
       "        home_ownership::RENT  home_ownership::nan  ret_PESS   ret_OPT  \\\n",
       "751161                     1                    0  0.025626  0.092367   \n",
       "417288                     1                    0  0.061750  0.060090   \n",
       "247560                     1                    0  0.038933  0.116878   \n",
       "226630                     1                    0  0.118255  0.118334   \n",
       "697801                     1                    0  0.014322  0.046985   \n",
       "\n",
       "        ret_INTa  ret_INTb  ret_INTc  \n",
       "751161  0.027436  0.046782  0.082686  \n",
       "417288  0.046981  0.062698  0.091252  \n",
       "247560  0.035631  0.055294  0.091718  \n",
       "226630  0.082447  0.100646  0.133729  \n",
       "697801  0.020165  0.038718  0.073118  \n",
       "\n",
       "[5 rows x 58 columns]"
      ]
     },
     "execution_count": 8,
     "metadata": {},
     "output_type": "execute_result"
    }
   ],
   "source": [
    "transformed_data = pd.concat([createTransformedData(continuous_features_touse, discrete_features_touse),data[ret_cols]], axis = 1)\n",
    "transformed_data.head()"
   ]
  },
  {
   "cell_type": "code",
   "execution_count": 9,
   "metadata": {},
   "outputs": [],
   "source": [
    "from sklearn.model_selection import train_test_split\n",
    "\n",
    "X = pd.concat([createTransformedData(continuous_features_touse, discrete_features_touse),data[ret_cols]], axis = 1)\n",
    "#y = data[ret_cols]\n",
    "\n",
    "# create a test and train split of the transformed data\n",
    "X_train, X_test = train_test_split(X, random_state=0, test_size=.3)\n",
    "\n",
    "clusterInput = X_train.iloc[:,:-len(ret_cols)]\n",
    "predictInput = X_test.iloc[:,:-len(ret_cols)]\n"
   ]
  },
  {
   "cell_type": "markdown",
   "metadata": {},
   "source": [
    "### Determine Number of Clusters\n",
    "\n",
    "- Use the Elbow Method to determine proper number of clusters\n",
    "- You can change the range_min and range_max parameters to control the range of clusters that are considered in the graph"
   ]
  },
  {
   "cell_type": "code",
   "execution_count": 10,
   "metadata": {},
   "outputs": [
    {
     "data": {
      "image/png": "[encoded data removed]",
      "text/plain": [
       "<Figure size 432x288 with 1 Axes>"
      ]
     },
     "metadata": {
      "needs_background": "light"
     },
     "output_type": "display_data"
    }
   ],
   "source": [
    "determineClusters(clusterInput, range_min=2, range_max=25)"
   ]
  },
  {
   "cell_type": "markdown",
   "metadata": {},
   "source": [
    "### Fit Kmeans Clustering\n",
    "\n",
    "- Fit the clustering on the training data\n",
    "- The number of clusters parameter comes from the ideal number as determined by the Elbow method above\n",
    "- The other parameters can be adjusted as well. You can find documentation at the link below\n",
    "\n",
    "https://scikit-learn.org/stable/modules/generated/sklearn.cluster.KMeans.html"
   ]
  },
  {
   "cell_type": "code",
   "execution_count": 11,
   "metadata": {},
   "outputs": [
    {
     "name": "stdout",
     "output_type": "stream",
     "text": [
      "Sum Squared Distances:  550646.3058615786\n"
     ]
    }
   ],
   "source": [
    "from sklearn.cluster import KMeans\n",
    "\n",
    "kmeans = KMeans(n_clusters=12, random_state=0, n_jobs=-1).fit(clusterInput)\n",
    "\n",
    "print(\"Sum Squared Distances: \", kmeans.inertia_)"
   ]
  },
  {
   "cell_type": "markdown",
   "metadata": {},
   "source": [
    "### Add Cluster to the Training Data\n",
    "- Create a dataframe of the standard deviations by cluster"
   ]
  },
  {
   "cell_type": "code",
   "execution_count": 12,
   "metadata": {},
   "outputs": [],
   "source": [
    "X_train['cluster'] = kmeans.labels_"
   ]
  },
  {
   "cell_type": "code",
   "execution_count": 15,
   "metadata": {},
   "outputs": [
    {
     "name": "stdout",
     "output_type": "stream",
     "text": [
      "         ret_PESS   ret_OPT  ret_INTa  ret_INTb  ret_INTc\n",
      "cluster                                                  \n",
      "0        0.080152  0.102231  0.050280  0.053814  0.060452\n",
      "1        0.094290  0.117039  0.059141  0.063266  0.070952\n",
      "2        0.102372  0.135052  0.073140  0.078320  0.087907\n",
      "3        0.073677  0.129837  0.077352  0.083248  0.094198\n",
      "4        0.091757  0.117098  0.057567  0.061609  0.069158\n",
      "5        0.094111  0.117107  0.059043  0.063183  0.070894\n",
      "6        0.071651  0.091757  0.044974  0.048188  0.054259\n",
      "7        0.077818  0.137648  0.081734  0.088014  0.099671\n",
      "8        0.086119  0.113684  0.060614  0.065096  0.073456\n",
      "9        0.081461  0.105728  0.057047  0.061234  0.069064\n",
      "10       0.093113  0.119651  0.058426  0.062539  0.070207\n",
      "11       0.069778  0.088625  0.043780  0.046887  0.052773\n"
     ]
    }
   ],
   "source": [
    "clusterStdDev=X_train.groupby('cluster')[ret_cols].std()\n",
    "\n",
    "print(clusterStdDev)"
   ]
  },
  {
   "cell_type": "markdown",
   "metadata": {},
   "source": [
    "### Get Clusters for Test Data"
   ]
  },
  {
   "cell_type": "code",
   "execution_count": 16,
   "metadata": {},
   "outputs": [],
   "source": [
    "X_test['cluster'] = kmeans.predict(predictInput)"
   ]
  },
  {
   "cell_type": "code",
   "execution_count": 18,
   "metadata": {},
   "outputs": [
    {
     "name": "stdout",
     "output_type": "stream",
     "text": [
      "         ret_PESS   ret_OPT  ret_INTa  ret_INTb  ret_INTc\n",
      "cluster                                                  \n",
      "0        0.081132  0.103409  0.050896  0.054474  0.061191\n",
      "1        0.093169  0.115093  0.058432  0.062499  0.070082\n",
      "2        0.101984  0.134538  0.072527  0.077641  0.087110\n",
      "3        0.073517  0.130393  0.077199  0.083106  0.094078\n",
      "4        0.091713  0.118035  0.057556  0.061623  0.069224\n",
      "5        0.095296  0.118547  0.059794  0.063995  0.071819\n",
      "6        0.068792  0.089699  0.043162  0.046223  0.052020\n",
      "7        0.076911  0.137126  0.080794  0.087024  0.098590\n",
      "8        0.086013  0.114085  0.059859  0.064289  0.072558\n",
      "9        0.081706  0.104422  0.057664  0.061877  0.069751\n",
      "10       0.094558  0.121767  0.059348  0.063548  0.071377\n",
      "11       0.069656  0.089214  0.043706  0.046812  0.052696\n"
     ]
    }
   ],
   "source": [
    "testClusterStdDev=X_test.groupby('cluster')[ret_cols].std()\n",
    "print(testClusterStdDev)"
   ]
  },
  {
   "cell_type": "code",
   "execution_count": 24,
   "metadata": {},
   "outputs": [
    {
     "data": {
      "text/html": [
       "<div>\n",
       "<style scoped>\n",
       "    .dataframe tbody tr th:only-of-type {\n",
       "        vertical-align: middle;\n",
       "    }\n",
       "\n",
       "    .dataframe tbody tr th {\n",
       "        vertical-align: top;\n",
       "    }\n",
       "\n",
       "    .dataframe thead th {\n",
       "        text-align: right;\n",
       "    }\n",
       "</style>\n",
       "<table border=\"1\" class=\"dataframe\">\n",
       "  <thead>\n",
       "    <tr style=\"text-align: right;\">\n",
       "      <th></th>\n",
       "      <th>ret_PESS</th>\n",
       "      <th>ret_OPT</th>\n",
       "      <th>ret_INTa</th>\n",
       "      <th>ret_INTb</th>\n",
       "      <th>ret_INTc</th>\n",
       "    </tr>\n",
       "    <tr>\n",
       "      <th>cluster</th>\n",
       "      <th></th>\n",
       "      <th></th>\n",
       "      <th></th>\n",
       "      <th></th>\n",
       "      <th></th>\n",
       "    </tr>\n",
       "  </thead>\n",
       "  <tbody>\n",
       "    <tr>\n",
       "      <td>0</td>\n",
       "      <td>0.081132</td>\n",
       "      <td>0.103409</td>\n",
       "      <td>0.050896</td>\n",
       "      <td>0.054474</td>\n",
       "      <td>0.061191</td>\n",
       "    </tr>\n",
       "    <tr>\n",
       "      <td>1</td>\n",
       "      <td>0.093169</td>\n",
       "      <td>0.115093</td>\n",
       "      <td>0.058432</td>\n",
       "      <td>0.062499</td>\n",
       "      <td>0.070082</td>\n",
       "    </tr>\n",
       "    <tr>\n",
       "      <td>2</td>\n",
       "      <td>0.101984</td>\n",
       "      <td>0.134538</td>\n",
       "      <td>0.072527</td>\n",
       "      <td>0.077641</td>\n",
       "      <td>0.087110</td>\n",
       "    </tr>\n",
       "    <tr>\n",
       "      <td>3</td>\n",
       "      <td>0.073517</td>\n",
       "      <td>0.130393</td>\n",
       "      <td>0.077199</td>\n",
       "      <td>0.083106</td>\n",
       "      <td>0.094078</td>\n",
       "    </tr>\n",
       "    <tr>\n",
       "      <td>4</td>\n",
       "      <td>0.091713</td>\n",
       "      <td>0.118035</td>\n",
       "      <td>0.057556</td>\n",
       "      <td>0.061623</td>\n",
       "      <td>0.069224</td>\n",
       "    </tr>\n",
       "    <tr>\n",
       "      <td>5</td>\n",
       "      <td>0.095296</td>\n",
       "      <td>0.118547</td>\n",
       "      <td>0.059794</td>\n",
       "      <td>0.063995</td>\n",
       "      <td>0.071819</td>\n",
       "    </tr>\n",
       "    <tr>\n",
       "      <td>6</td>\n",
       "      <td>0.068792</td>\n",
       "      <td>0.089699</td>\n",
       "      <td>0.043162</td>\n",
       "      <td>0.046223</td>\n",
       "      <td>0.052020</td>\n",
       "    </tr>\n",
       "    <tr>\n",
       "      <td>7</td>\n",
       "      <td>0.076911</td>\n",
       "      <td>0.137126</td>\n",
       "      <td>0.080794</td>\n",
       "      <td>0.087024</td>\n",
       "      <td>0.098590</td>\n",
       "    </tr>\n",
       "    <tr>\n",
       "      <td>8</td>\n",
       "      <td>0.086013</td>\n",
       "      <td>0.114085</td>\n",
       "      <td>0.059859</td>\n",
       "      <td>0.064289</td>\n",
       "      <td>0.072558</td>\n",
       "    </tr>\n",
       "    <tr>\n",
       "      <td>9</td>\n",
       "      <td>0.081706</td>\n",
       "      <td>0.104422</td>\n",
       "      <td>0.057664</td>\n",
       "      <td>0.061877</td>\n",
       "      <td>0.069751</td>\n",
       "    </tr>\n",
       "    <tr>\n",
       "      <td>10</td>\n",
       "      <td>0.094558</td>\n",
       "      <td>0.121767</td>\n",
       "      <td>0.059348</td>\n",
       "      <td>0.063548</td>\n",
       "      <td>0.071377</td>\n",
       "    </tr>\n",
       "    <tr>\n",
       "      <td>11</td>\n",
       "      <td>0.069656</td>\n",
       "      <td>0.089214</td>\n",
       "      <td>0.043706</td>\n",
       "      <td>0.046812</td>\n",
       "      <td>0.052696</td>\n",
       "    </tr>\n",
       "  </tbody>\n",
       "</table>\n",
       "</div>"
      ],
      "text/plain": [
       "         ret_PESS   ret_OPT  ret_INTa  ret_INTb  ret_INTc\n",
       "cluster                                                  \n",
       "0        0.081132  0.103409  0.050896  0.054474  0.061191\n",
       "1        0.093169  0.115093  0.058432  0.062499  0.070082\n",
       "2        0.101984  0.134538  0.072527  0.077641  0.087110\n",
       "3        0.073517  0.130393  0.077199  0.083106  0.094078\n",
       "4        0.091713  0.118035  0.057556  0.061623  0.069224\n",
       "5        0.095296  0.118547  0.059794  0.063995  0.071819\n",
       "6        0.068792  0.089699  0.043162  0.046223  0.052020\n",
       "7        0.076911  0.137126  0.080794  0.087024  0.098590\n",
       "8        0.086013  0.114085  0.059859  0.064289  0.072558\n",
       "9        0.081706  0.104422  0.057664  0.061877  0.069751\n",
       "10       0.094558  0.121767  0.059348  0.063548  0.071377\n",
       "11       0.069656  0.089214  0.043706  0.046812  0.052696"
      ]
     },
     "execution_count": 24,
     "metadata": {},
     "output_type": "execute_result"
    }
   ],
   "source": [
    "df=pd.DataFrame(testClusterStdDev)\n",
    "df.head(15)"
   ]
  },
  {
   "cell_type": "code",
   "execution_count": null,
   "metadata": {},
   "outputs": [],
   "source": []
  }
 ],
 "metadata": {
  "kernelspec": {
   "display_name": "Python 3",
   "language": "python",
   "name": "python3"
  },
  "language_info": {
   "codemirror_mode": {
    "name": "ipython",
    "version": 3
   },
   "file_extension": ".py",
   "mimetype": "text/x-python",
   "name": "python",
   "nbconvert_exporter": "python",
   "pygments_lexer": "ipython3",
   "version": "3.7.4"
  }
 },
 "nbformat": 4,
 "nbformat_minor": 2
}
