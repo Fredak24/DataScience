{
 "cells": [
  {
   "cell_type": "markdown",
   "metadata": {},
   "source": [
    "# Decision Trees & Model Evaluation\n",
    "\n",
    "### Contributors\n",
    "Professor Foster Provost - NYU Stern School of Business and Carlos Fernandez - teaching assistant\n",
    "\n",
    "References: \n",
    "- Documentation scikit-learn (http://scikit-learn.org/stable/documentation.html)\n",
    "- Introduction to Machine Learning with Python (http://shop.oreilly.com/product/0636920030515.do)"
   ]
  },
  {
   "cell_type": "code",
   "execution_count": 1,
   "metadata": {},
   "outputs": [],
   "source": [
    "import os\n",
    "import numpy as np\n",
    "import pandas as pd\n",
    "import math\n",
    "import matplotlib.pylab as plt\n",
    "import seaborn as sns\n",
    "\n",
    "%matplotlib inline\n",
    "sns.set(style='ticks', palette='Set2')"
   ]
  },
  {
   "cell_type": "code",
   "execution_count": 3,
   "metadata": {},
   "outputs": [
    {
     "data": {
      "text/html": [
       "<div>\n",
       "<style scoped>\n",
       "    .dataframe tbody tr th:only-of-type {\n",
       "        vertical-align: middle;\n",
       "    }\n",
       "\n",
       "    .dataframe tbody tr th {\n",
       "        vertical-align: top;\n",
       "    }\n",
       "\n",
       "    .dataframe thead th {\n",
       "        text-align: right;\n",
       "    }\n",
       "</style>\n",
       "<table border=\"1\" class=\"dataframe\">\n",
       "  <thead>\n",
       "    <tr style=\"text-align: right;\">\n",
       "      <th></th>\n",
       "      <th>survived</th>\n",
       "      <th>pclass</th>\n",
       "      <th>sex</th>\n",
       "      <th>age</th>\n",
       "      <th>fare</th>\n",
       "      <th>survive</th>\n",
       "    </tr>\n",
       "  </thead>\n",
       "  <tbody>\n",
       "    <tr>\n",
       "      <td>0</td>\n",
       "      <td>1.0</td>\n",
       "      <td>1.0</td>\n",
       "      <td>female</td>\n",
       "      <td>29.0000</td>\n",
       "      <td>211.3375</td>\n",
       "      <td>True</td>\n",
       "    </tr>\n",
       "    <tr>\n",
       "      <td>1</td>\n",
       "      <td>1.0</td>\n",
       "      <td>1.0</td>\n",
       "      <td>male</td>\n",
       "      <td>0.9167</td>\n",
       "      <td>151.5500</td>\n",
       "      <td>True</td>\n",
       "    </tr>\n",
       "    <tr>\n",
       "      <td>2</td>\n",
       "      <td>0.0</td>\n",
       "      <td>1.0</td>\n",
       "      <td>female</td>\n",
       "      <td>2.0000</td>\n",
       "      <td>151.5500</td>\n",
       "      <td>False</td>\n",
       "    </tr>\n",
       "    <tr>\n",
       "      <td>3</td>\n",
       "      <td>0.0</td>\n",
       "      <td>1.0</td>\n",
       "      <td>male</td>\n",
       "      <td>30.0000</td>\n",
       "      <td>151.5500</td>\n",
       "      <td>False</td>\n",
       "    </tr>\n",
       "    <tr>\n",
       "      <td>4</td>\n",
       "      <td>0.0</td>\n",
       "      <td>1.0</td>\n",
       "      <td>female</td>\n",
       "      <td>25.0000</td>\n",
       "      <td>151.5500</td>\n",
       "      <td>False</td>\n",
       "    </tr>\n",
       "  </tbody>\n",
       "</table>\n",
       "</div>"
      ],
      "text/plain": [
       "   survived  pclass     sex      age      fare  survive\n",
       "0       1.0     1.0  female  29.0000  211.3375     True\n",
       "1       1.0     1.0    male   0.9167  151.5500     True\n",
       "2       0.0     1.0  female   2.0000  151.5500    False\n",
       "3       0.0     1.0    male  30.0000  151.5500    False\n",
       "4       0.0     1.0  female  25.0000  151.5500    False"
      ]
     },
     "execution_count": 3,
     "metadata": {},
     "output_type": "execute_result"
    }
   ],
   "source": [
    "# Load data\n",
    "path = \"./data/titanic.csv\"\n",
    "df = pd.read_csv(path)[[\"survived\", \"pclass\", \"sex\", \"age\", \"fare\"]].dropna()\n",
    "df['survive'] = df.survived.astype(bool)\n",
    "df.head()"
   ]
  },
  {
   "cell_type": "code",
   "execution_count": 4,
   "metadata": {},
   "outputs": [
    {
     "data": {
      "text/html": [
       "<div>\n",
       "<style scoped>\n",
       "    .dataframe tbody tr th:only-of-type {\n",
       "        vertical-align: middle;\n",
       "    }\n",
       "\n",
       "    .dataframe tbody tr th {\n",
       "        vertical-align: top;\n",
       "    }\n",
       "\n",
       "    .dataframe thead th {\n",
       "        text-align: right;\n",
       "    }\n",
       "</style>\n",
       "<table border=\"1\" class=\"dataframe\">\n",
       "  <thead>\n",
       "    <tr style=\"text-align: right;\">\n",
       "      <th></th>\n",
       "      <th>survived</th>\n",
       "      <th>pclass</th>\n",
       "      <th>age</th>\n",
       "      <th>fare</th>\n",
       "      <th>survive</th>\n",
       "      <th>female</th>\n",
       "    </tr>\n",
       "  </thead>\n",
       "  <tbody>\n",
       "    <tr>\n",
       "      <td>0</td>\n",
       "      <td>1.0</td>\n",
       "      <td>1.0</td>\n",
       "      <td>29.0000</td>\n",
       "      <td>211.3375</td>\n",
       "      <td>True</td>\n",
       "      <td>1</td>\n",
       "    </tr>\n",
       "    <tr>\n",
       "      <td>1</td>\n",
       "      <td>1.0</td>\n",
       "      <td>1.0</td>\n",
       "      <td>0.9167</td>\n",
       "      <td>151.5500</td>\n",
       "      <td>True</td>\n",
       "      <td>0</td>\n",
       "    </tr>\n",
       "    <tr>\n",
       "      <td>2</td>\n",
       "      <td>0.0</td>\n",
       "      <td>1.0</td>\n",
       "      <td>2.0000</td>\n",
       "      <td>151.5500</td>\n",
       "      <td>False</td>\n",
       "      <td>1</td>\n",
       "    </tr>\n",
       "    <tr>\n",
       "      <td>3</td>\n",
       "      <td>0.0</td>\n",
       "      <td>1.0</td>\n",
       "      <td>30.0000</td>\n",
       "      <td>151.5500</td>\n",
       "      <td>False</td>\n",
       "      <td>0</td>\n",
       "    </tr>\n",
       "    <tr>\n",
       "      <td>4</td>\n",
       "      <td>0.0</td>\n",
       "      <td>1.0</td>\n",
       "      <td>25.0000</td>\n",
       "      <td>151.5500</td>\n",
       "      <td>False</td>\n",
       "      <td>1</td>\n",
       "    </tr>\n",
       "  </tbody>\n",
       "</table>\n",
       "</div>"
      ],
      "text/plain": [
       "   survived  pclass      age      fare  survive  female\n",
       "0       1.0     1.0  29.0000  211.3375     True       1\n",
       "1       1.0     1.0   0.9167  151.5500     True       0\n",
       "2       0.0     1.0   2.0000  151.5500    False       1\n",
       "3       0.0     1.0  30.0000  151.5500    False       0\n",
       "4       0.0     1.0  25.0000  151.5500    False       1"
      ]
     },
     "execution_count": 4,
     "metadata": {},
     "output_type": "execute_result"
    }
   ],
   "source": [
    "# create a copy of df and call it df2 so that we can make some transformations and still keep df\n",
    "df2 = df.copy()\n",
    "# Transform sex column to a numeric variable\n",
    "df2[\"female\"] = (df2.sex == \"female\").astype(int)\n",
    "df2 = df2.drop(\"sex\", axis=\"columns\")\n",
    "# Drop outliers. This is to help the visualization in the next examples.\n",
    "df2 = df2[df2.fare < 400]\n",
    "# Take a look at the data\n",
    "df2.head(5)"
   ]
  },
  {
   "cell_type": "markdown",
   "metadata": {},
   "source": [
    "### Entropy & Information Gain"
   ]
  },
  {
   "cell_type": "markdown",
   "metadata": {},
   "source": [
    "***\n",
    "\n",
    "\n",
    "**Entropy** ($H$) and **information gain** ($IG$) au useful tools for measuring the effectiveness of a split on the data. Entropy measures how random data is, information gain is a measure of the reduction in randomness after performing a split.\n",
    "\n",
    "<table style=\"border: 0px\">\n",
    "<tr style=\"border: 0px\">\n",
    "<td style=\"border: 0px\"><img src=\"images/dsfb_0304.png\" height=80% width=80%>\n",
    "Figure 3-4. Splitting the \"write-off\" sample into two segments, based on splitting the Balance attribute (account balance) at 50K.</td>\n",
    "<td style=\"border: 0px; width: 30px\"></td>\n",
    "<td style=\"border: 0px\"><img src=\"images/dsfb_0305.png\" height=75% width=75%>\n",
    "Figure 3-5. A classification tree split on the three-values Residence attribute.</td>\n",
    "</tr>\n",
    "</table>\n",
    "\n",
    "Given the data, it is fairly straight forward to calculate both of these quantities."
   ]
  },
  {
   "cell_type": "markdown",
   "metadata": {},
   "source": [
    "#### Functions to get the entropy and IG\n",
    "__Using df__"
   ]
  },
  {
   "cell_type": "code",
   "execution_count": 26,
   "metadata": {},
   "outputs": [],
   "source": [
    "def entropy(target_column):\n",
    "    \"\"\"\n",
    "        computes -sum_i p_i * log_2 (p_i) for each i\n",
    "    \"\"\"\n",
    "    # get the counts of each target value\n",
    "    target_counts = target_column.value_counts().astype(float).values\n",
    "    total = target_column.count()  \n",
    "    # compute probas\n",
    "    probas = target_counts/total\n",
    "    # p_i * log_2 (p_i)\n",
    "    entropy_components = probas * np.log2(probas)\n",
    "    # return negative sum\n",
    "    return - entropy_components.sum()\n",
    "\n",
    "def information_gain(df, info_column, target_column, threshold):\n",
    "    \"\"\"\n",
    "        computes H(target) - H(target | info > thresh) - H(target | info <= thresh)\n",
    "    \"\"\"\n",
    "    # split data\n",
    "    data_above_thresh = df[df[info_column] > threshold]\n",
    "    data_below_thresh = df[df[info_column] <= threshold]\n",
    "    # get entropy\n",
    "    H = entropy(df[target_column])\n",
    "    entropy_above = entropy(data_above_thresh[target_column])\n",
    "    entropy_below = entropy(data_below_thresh[target_column])\n",
    "    # compute weighted average\n",
    "    ct_above = data_above_thresh.shape[0]\n",
    "    ct_below = data_below_thresh.shape[0]\n",
    "    tot = float(df.shape[0])\n",
    "    return H - entropy_above*ct_above/tot - entropy_below*ct_below/tot "
   ]
  },
  {
   "cell_type": "markdown",
   "metadata": {},
   "source": [
    "Now that we have a way of calculating $H$ and $IG$, let's test the hunch that using 50 as a split on fare allows us to determine if someone will survive."
   ]
  },
  {
   "cell_type": "code",
   "execution_count": 27,
   "metadata": {},
   "outputs": [
    {
     "name": "stdout",
     "output_type": "stream",
     "text": [
      "IG of 0.0581 using a threshold of 50.00 given a prior entropy of 0.9758\n"
     ]
    }
   ],
   "source": [
    "threshold = 50\n",
    "prior_entropy = entropy(df[\"survive\"])\n",
    "IG = information_gain(df, \"fare\", \"survive\", threshold)\n",
    "print (\"IG of %.4f using a threshold of %.2f given a prior entropy of %.4f\" % (IG, threshold, prior_entropy))"
   ]
  },
  {
   "cell_type": "markdown",
   "metadata": {},
   "source": [
    "How good was our guess of 50? Let's loop through all possible splits on fare and see what is the best!"
   ]
  },
  {
   "cell_type": "code",
   "execution_count": 28,
   "metadata": {},
   "outputs": [
    {
     "name": "stdout",
     "output_type": "stream",
     "text": [
      "the maximum IG we can achieve splitting on fare is 0.0606 using a thresh of 52.00\n"
     ]
    }
   ],
   "source": [
    "def best_threshold(df, info_column, target_column, criteria=information_gain):\n",
    "    maximum_ig = 0\n",
    "    maximum_threshold = 0\n",
    "\n",
    "    for thresh in df[info_column]:\n",
    "        IG = criteria(df, info_column, target_column, thresh)\n",
    "        if IG > maximum_ig:\n",
    "            maximum_ig = IG\n",
    "            maximum_threshold = thresh\n",
    "            \n",
    "    return (maximum_threshold, maximum_ig)\n",
    "\n",
    "info_col = 'fare'\n",
    "maximum_threshold, maximum_ig = best_threshold(df, info_col, \"survive\")\n",
    "\n",
    "print (\"the maximum IG we can achieve splitting on %s is %.4f using a thresh of %.2f\" % (info_col,maximum_ig, maximum_threshold))"
   ]
  },
  {
   "cell_type": "markdown",
   "metadata": {},
   "source": [
    "Other observed features may also give us a strong clue about survival using __df2__."
   ]
  },
  {
   "cell_type": "code",
   "execution_count": 29,
   "metadata": {
    "scrolled": true
   },
   "outputs": [
    {
     "data": {
      "image/png": "[encoded data removed]",
      "text/plain": [
       "<Figure size 1008x1008 with 4 Axes>"
      ]
     },
     "metadata": {
      "needs_background": "light"
     },
     "output_type": "display_data"
    }
   ],
   "source": [
    "# Names of different columns\n",
    "categorical_cols = [\"pclass\", \"female\"]\n",
    "continuous_cols = [\"age\", \"fare\"]\n",
    "target_col = \"survived\"\n",
    "predictor_cols = categorical_cols + continuous_cols\n",
    "\n",
    "# This is to plot everything in a 2x2 space\n",
    "rows, cols = 2, 2\n",
    "fig, axs = plt.subplots(ncols=cols, nrows=rows, figsize=(7*cols, 7*rows))\n",
    "axs = axs.flatten()\n",
    "posn = 0\n",
    "\n",
    "# Plot continous features\n",
    "for col in continuous_cols:\n",
    "    sns.boxplot(target_col, col, data=df2, ax=axs[posn])\n",
    "    axs[posn].set_ylabel(col)\n",
    "    axs[posn].set_title(\"\")\n",
    "    posn += 1\n",
    "\n",
    "# Plot categorical features\n",
    "for col in categorical_cols:\n",
    "    df2.groupby(col)[target_col].mean().plot(kind=\"bar\", ax=axs[posn])\n",
    "    axs[posn].set_ylabel(\"Fraction that survived\")\n",
    "    posn += 1\n",
    "    \n",
    "plt.tight_layout()"
   ]
  },
  {
   "cell_type": "markdown",
   "metadata": {},
   "source": [
    "This now begs the question: what feature gives the most effective split? "
   ]
  },
  {
   "cell_type": "code",
   "execution_count": 30,
   "metadata": {},
   "outputs": [
    {
     "name": "stdout",
     "output_type": "stream",
     "text": [
      "The best column to split on is female giving us a IG of 0.2164 using a thresh of 0.00\n"
     ]
    }
   ],
   "source": [
    "def best_split(df, info_columns, target_column, criteria=information_gain):\n",
    "    maximum_ig = 0\n",
    "    maximum_threshold = 0\n",
    "    maximum_column = \"\"\n",
    "    \n",
    "    for info_column in info_columns:\n",
    "        thresh, ig = best_threshold(df, info_column, target_column, criteria)\n",
    "        \n",
    "        if ig > maximum_ig:\n",
    "            maximum_ig = ig\n",
    "            maximum_threshold = thresh\n",
    "            maximum_column = info_column\n",
    "\n",
    "    return maximum_column, maximum_threshold, maximum_ig\n",
    "\n",
    "max_col, max_threshold, max_ig = best_split(df2, predictor_cols, \"survived\")\n",
    "\n",
    "print (\"The best column to split on is %s giving us a IG of %.4f using a thresh of %.2f\" % (max_col, max_ig, max_threshold))"
   ]
  },
  {
   "cell_type": "markdown",
   "metadata": {},
   "source": [
    "### The Classifier Tree: Recursive Splitting\n",
    "\n",
    "Of course, splitting the data one time sometimes isn't enough to make accurate categorical predictions. However, we can continue to split the data recursively, building a tree-structured model that may give better results. This recursive splitting is the basis for a \"decision tree classifier\" or \"classifier tree\", a popular and powerful class of machine learning algorithm. In particular, this specific algorithm is known as ID3 for Iterative Dichotomizer. \n",
    "\n",
    "What are some other ways you might consider splitting the data?"
   ]
  },
  {
   "cell_type": "code",
   "execution_count": 31,
   "metadata": {},
   "outputs": [
    {
     "data": {
      "image/png": "[encoded data removed]",
      "text/plain": [
       "<Figure size 432x288 with 1 Axes>"
      ]
     },
     "metadata": {
      "needs_background": "light"
     },
     "output_type": "display_data"
    }
   ],
   "source": [
    "import matplotlib.patches as mpatches\n",
    "\n",
    "target_col='survive'\n",
    "cmap = {True: 'blue', False: 'red'}\n",
    "df.plot(kind=\"scatter\", x=\"fare\", y=\"age\", c=[cmap[c] for c in df[target_col]])\n",
    "plt.legend(handles=[mpatches.Patch(color=cmap[k], label=k) for k in cmap], loc=1, title=\"Target\", frameon=True)\n",
    "plt.show()"
   ]
  },
  {
   "cell_type": "markdown",
   "metadata": {},
   "source": [
    "### Decision Tree Classifier\n",
    "\n",
    "Rather than build a classifier tree from scratch let's use sklearn's implementation which includes some additional functionality."
   ]
  },
  {
   "cell_type": "code",
   "execution_count": 33,
   "metadata": {},
   "outputs": [
    {
     "name": "stdout",
     "output_type": "stream",
     "text": [
      "Population:\n",
      " 0.0    618\n",
      "1.0    423\n",
      "Name: survived, dtype: int64\n",
      "Train:\n",
      " 0.0    453\n",
      "1.0    327\n",
      "Name: survived, dtype: int64\n",
      "Test:\n",
      " 0.0    165\n",
      "1.0     96\n",
      "Name: survived, dtype: int64\n"
     ]
    }
   ],
   "source": [
    "from sklearn.model_selection import train_test_split\n",
    "\n",
    "# Names of different columns\n",
    "categorical_cols = [\"pclass\", \"female\"]\n",
    "continuous_cols = [\"age\", \"fare\"]\n",
    "target_col = \"survived\"\n",
    "predictor_cols = categorical_cols + continuous_cols\n",
    "\n",
    "X=df2[predictor_cols]\n",
    "y=df2[target_col]\n",
    "\n",
    "X_train, X_test, y_train, y_test = train_test_split(X, y, random_state=0)\n",
    "\n",
    "print(\"Population:\\n\",y.value_counts())\n",
    "print(\"Train:\\n\", y_train.value_counts())\n",
    "print(\"Test:\\n\", y_test.value_counts())"
   ]
  },
  {
   "cell_type": "code",
   "execution_count": 34,
   "metadata": {},
   "outputs": [
    {
     "data": {
      "text/html": [
       "<div>\n",
       "<style scoped>\n",
       "    .dataframe tbody tr th:only-of-type {\n",
       "        vertical-align: middle;\n",
       "    }\n",
       "\n",
       "    .dataframe tbody tr th {\n",
       "        vertical-align: top;\n",
       "    }\n",
       "\n",
       "    .dataframe thead th {\n",
       "        text-align: right;\n",
       "    }\n",
       "</style>\n",
       "<table border=\"1\" class=\"dataframe\">\n",
       "  <thead>\n",
       "    <tr style=\"text-align: right;\">\n",
       "      <th></th>\n",
       "      <th>survived</th>\n",
       "      <th>pclass</th>\n",
       "      <th>sex</th>\n",
       "      <th>age</th>\n",
       "      <th>fare</th>\n",
       "      <th>survive</th>\n",
       "      <th>sex_female</th>\n",
       "      <th>sex_male</th>\n",
       "      <th>sex_female</th>\n",
       "      <th>sex_male</th>\n",
       "    </tr>\n",
       "  </thead>\n",
       "  <tbody>\n",
       "    <tr>\n",
       "      <td>0</td>\n",
       "      <td>1.0</td>\n",
       "      <td>1.0</td>\n",
       "      <td>female</td>\n",
       "      <td>29.0000</td>\n",
       "      <td>211.3375</td>\n",
       "      <td>True</td>\n",
       "      <td>1</td>\n",
       "      <td>0</td>\n",
       "      <td>1</td>\n",
       "      <td>0</td>\n",
       "    </tr>\n",
       "    <tr>\n",
       "      <td>1</td>\n",
       "      <td>1.0</td>\n",
       "      <td>1.0</td>\n",
       "      <td>male</td>\n",
       "      <td>0.9167</td>\n",
       "      <td>151.5500</td>\n",
       "      <td>True</td>\n",
       "      <td>0</td>\n",
       "      <td>1</td>\n",
       "      <td>0</td>\n",
       "      <td>1</td>\n",
       "    </tr>\n",
       "    <tr>\n",
       "      <td>2</td>\n",
       "      <td>0.0</td>\n",
       "      <td>1.0</td>\n",
       "      <td>female</td>\n",
       "      <td>2.0000</td>\n",
       "      <td>151.5500</td>\n",
       "      <td>False</td>\n",
       "      <td>1</td>\n",
       "      <td>0</td>\n",
       "      <td>1</td>\n",
       "      <td>0</td>\n",
       "    </tr>\n",
       "    <tr>\n",
       "      <td>3</td>\n",
       "      <td>0.0</td>\n",
       "      <td>1.0</td>\n",
       "      <td>male</td>\n",
       "      <td>30.0000</td>\n",
       "      <td>151.5500</td>\n",
       "      <td>False</td>\n",
       "      <td>0</td>\n",
       "      <td>1</td>\n",
       "      <td>0</td>\n",
       "      <td>1</td>\n",
       "    </tr>\n",
       "    <tr>\n",
       "      <td>4</td>\n",
       "      <td>0.0</td>\n",
       "      <td>1.0</td>\n",
       "      <td>female</td>\n",
       "      <td>25.0000</td>\n",
       "      <td>151.5500</td>\n",
       "      <td>False</td>\n",
       "      <td>1</td>\n",
       "      <td>0</td>\n",
       "      <td>1</td>\n",
       "      <td>0</td>\n",
       "    </tr>\n",
       "  </tbody>\n",
       "</table>\n",
       "</div>"
      ],
      "text/plain": [
       "   survived  pclass     sex      age      fare  survive  sex_female  sex_male  \\\n",
       "0       1.0     1.0  female  29.0000  211.3375     True           1         0   \n",
       "1       1.0     1.0    male   0.9167  151.5500     True           0         1   \n",
       "2       0.0     1.0  female   2.0000  151.5500    False           1         0   \n",
       "3       0.0     1.0    male  30.0000  151.5500    False           0         1   \n",
       "4       0.0     1.0  female  25.0000  151.5500    False           1         0   \n",
       "\n",
       "   sex_female  sex_male  \n",
       "0           1         0  \n",
       "1           0         1  \n",
       "2           1         0  \n",
       "3           0         1  \n",
       "4           1         0  "
      ]
     },
     "execution_count": 34,
     "metadata": {},
     "output_type": "execute_result"
    }
   ],
   "source": [
    "df = pd.concat([df,pd.get_dummies(df['sex'], prefix='sex')],axis=1)\n",
    "df.head()"
   ]
  },
  {
   "cell_type": "markdown",
   "metadata": {},
   "source": [
    "What happens when we use df?"
   ]
  },
  {
   "cell_type": "code",
   "execution_count": 36,
   "metadata": {},
   "outputs": [
    {
     "data": {
      "text/plain": [
       "DecisionTreeClassifier(class_weight=None, criterion='entropy', max_depth=3,\n",
       "                       max_features=None, max_leaf_nodes=None,\n",
       "                       min_impurity_decrease=0.0, min_impurity_split=None,\n",
       "                       min_samples_leaf=1, min_samples_split=2,\n",
       "                       min_weight_fraction_leaf=0.0, presort=False,\n",
       "                       random_state=None, splitter='best')"
      ]
     },
     "execution_count": 36,
     "metadata": {},
     "output_type": "execute_result"
    }
   ],
   "source": [
    "from sklearn.tree import DecisionTreeClassifier\n",
    "\n",
    "# Let's define the model (tree)\n",
    "decision_tree = DecisionTreeClassifier(max_depth=3, criterion=\"entropy\")   # Look at those 2 arguments !!! \n",
    "\n",
    "# Let's tell the model what is the data\n",
    "#decision_tree.fit(df[[\"age\", \"fare\",\"sex\",\"pclass\"]], df.survive)\n",
    "\n",
    "decision_tree.fit(df[[\"age\", \"fare\",\"sex_female\",\"pclass\"]], df.survive)"
   ]
  },
  {
   "cell_type": "markdown",
   "metadata": {},
   "source": [
    "How about __df2__?"
   ]
  },
  {
   "cell_type": "code",
   "execution_count": 37,
   "metadata": {
    "scrolled": true
   },
   "outputs": [
    {
     "data": {
      "text/plain": [
       "DecisionTreeClassifier(class_weight=None, criterion='entropy', max_depth=3,\n",
       "                       max_features=None, max_leaf_nodes=None,\n",
       "                       min_impurity_decrease=0.0, min_impurity_split=None,\n",
       "                       min_samples_leaf=1, min_samples_split=2,\n",
       "                       min_weight_fraction_leaf=0.0, presort=False,\n",
       "                       random_state=None, splitter='best')"
      ]
     },
     "execution_count": 37,
     "metadata": {},
     "output_type": "execute_result"
    }
   ],
   "source": [
    "from sklearn.tree import DecisionTreeClassifier\n",
    "\n",
    "# Let's define the model (tree)\n",
    "decision_tree = DecisionTreeClassifier(max_depth=3, criterion=\"entropy\")   # Look at those 2 arguments !!! \n",
    "\n",
    "# Let's tell the model what is the data\n",
    "decision_tree.fit(X_train, y_train)"
   ]
  },
  {
   "cell_type": "markdown",
   "metadata": {},
   "source": [
    "We now have a classifier tree, let's visualize the results!"
   ]
  },
  {
   "cell_type": "code",
   "execution_count": 38,
   "metadata": {
    "scrolled": true
   },
   "outputs": [
    {
     "data": {
      "image/png": "[encoded data removed]",
      "text/plain": [
       "<IPython.core.display.Image object>"
      ]
     },
     "execution_count": 38,
     "metadata": {},
     "output_type": "execute_result"
    }
   ],
   "source": [
    "from IPython.display import Image\n",
    "from sklearn.tree import export_graphviz\n",
    "\n",
    "def visualize_tree(decision_tree, feature_names, class_names, directory=\"./images\", name=\"tree\",proportion=True):\n",
    "    # Export our decision tree to graphviz format\n",
    "    dot_name = \"%s/%s.dot\" % (directory, name)\n",
    "    dot_file = export_graphviz(decision_tree, out_file=dot_name,\n",
    "                               feature_names=feature_names, class_names=class_names,proportion=proportion)\n",
    "    # Call graphviz to make an image file from our decision tree\n",
    "    image_name = \"%s/%s.png\" % (directory, name)\n",
    "    os.system(\"dot -T png %s -o %s\" % (dot_name, image_name))\n",
    "    # Return the .png image so we can see it\n",
    "    return Image(filename=image_name)\n",
    "\n",
    "visualize_tree(decision_tree, predictor_cols, [\"dies\", \"survives\"])"
   ]
  },
  {
   "cell_type": "markdown",
   "metadata": {},
   "source": [
    "### Confusion Matrix & Accuracy"
   ]
  },
  {
   "cell_type": "code",
   "execution_count": 39,
   "metadata": {},
   "outputs": [
    {
     "name": "stdout",
     "output_type": "stream",
     "text": [
      "0.0    165\n",
      "1.0     96\n",
      "Name: survived, dtype: int64\n",
      "confusion matrix:\n",
      "[[142  23]\n",
      " [ 25  71]]\n",
      "tn:  142\n",
      "fp:  23\n",
      "fn:  25\n",
      "tp:  71\n",
      "accuracy: 0.816\n",
      "recall: 0.740\n",
      "precision: 0.755\n",
      "f-measure: 0.747\n",
      "              precision    recall  f1-score   support\n",
      "\n",
      "         0.0       0.85      0.86      0.86       165\n",
      "         1.0       0.76      0.74      0.75        96\n",
      "\n",
      "    accuracy                           0.82       261\n",
      "   macro avg       0.80      0.80      0.80       261\n",
      "weighted avg       0.82      0.82      0.82       261\n",
      "\n"
     ]
    }
   ],
   "source": [
    "from sklearn.metrics import confusion_matrix\n",
    "from sklearn.metrics import accuracy_score, recall_score, precision_score, fbeta_score, classification_report\n",
    "\n",
    "print(y_test.value_counts())\n",
    "\n",
    "# Make predictions against the test set\n",
    "pred = decision_tree.predict(X_test)\n",
    "\n",
    "# Show the confusion matrix\n",
    "''' confusion matrix returned with Predicted as the Columns and Actual as the Rows\n",
    "         PN  PP\n",
    "     AN [tn  fp] \n",
    "     AP [fn  tp]\n",
    "'''\n",
    "print(\"confusion matrix:\")\n",
    "print(confusion_matrix(y_test, pred))\n",
    "tn,fp,fn,tp=confusion_matrix(y_test, pred).ravel()\n",
    "print('tn: ',tn)\n",
    "print('fp: ',fp)\n",
    "print('fn: ',fn)\n",
    "print('tp: ',tp)\n",
    "\n",
    "# Find the accuracy scores of the predictions against the true classes\n",
    "print(\"accuracy: %0.3f\" % accuracy_score(y_test, pred))\n",
    "print(\"recall: %0.3f\" % recall_score(y_test, pred))\n",
    "print(\"precision: %0.3f\" % precision_score(y_test, pred))\n",
    "print(\"f-measure: %0.3f\" % fbeta_score(y_test, pred, beta=1))\n",
    "print(classification_report(y_test,pred))"
   ]
  },
  {
   "cell_type": "code",
   "execution_count": 44,
   "metadata": {},
   "outputs": [
    {
     "name": "stdout",
     "output_type": "stream",
     "text": [
      "Requirement already up-to-date: scikit-learn in /Users/lukedunscombe/.local/lib/python3.7/site-packages (0.22.1)\r\n",
      "Requirement already satisfied, skipping upgrade: numpy>=1.11.0 in /usr/local/anaconda3/lib/python3.7/site-packages (from scikit-learn) (1.17.2)\r\n",
      "Requirement already satisfied, skipping upgrade: scipy>=0.17.0 in /usr/local/anaconda3/lib/python3.7/site-packages (from scikit-learn) (1.3.1)\r\n",
      "Requirement already satisfied, skipping upgrade: joblib>=0.11 in /usr/local/anaconda3/lib/python3.7/site-packages (from scikit-learn) (0.13.2)\r\n"
     ]
    }
   ],
   "source": [
    "# you may need to run this to update to scikit-learn version 0.22.1\n",
    "!pip install -U scikit-learn --user"
   ]
  },
  {
   "cell_type": "code",
   "execution_count": 45,
   "metadata": {
    "scrolled": true
   },
   "outputs": [
    {
     "ename": "ImportError",
     "evalue": "cannot import name 'plot_confusion_matrix' from 'sklearn.metrics' (/usr/local/anaconda3/lib/python3.7/site-packages/sklearn/metrics/__init__.py)",
     "output_type": "error",
     "traceback": [
      "\u001b[0;31m---------------------------------------------------------------------------\u001b[0m",
      "\u001b[0;31mImportError\u001b[0m                               Traceback (most recent call last)",
      "\u001b[0;32m<ipython-input-45-bef11f5e000d>\u001b[0m in \u001b[0;36m<module>\u001b[0;34m\u001b[0m\n\u001b[1;32m      1\u001b[0m \u001b[0;32mimport\u001b[0m \u001b[0mmatplotlib\u001b[0m\u001b[0;34m.\u001b[0m\u001b[0mpyplot\u001b[0m \u001b[0;32mas\u001b[0m \u001b[0mplt\u001b[0m\u001b[0;34m\u001b[0m\u001b[0;34m\u001b[0m\u001b[0m\n\u001b[0;32m----> 2\u001b[0;31m \u001b[0;32mfrom\u001b[0m \u001b[0msklearn\u001b[0m\u001b[0;34m.\u001b[0m\u001b[0mmetrics\u001b[0m \u001b[0;32mimport\u001b[0m \u001b[0mplot_confusion_matrix\u001b[0m\u001b[0;34m\u001b[0m\u001b[0;34m\u001b[0m\u001b[0m\n\u001b[0m\u001b[1;32m      3\u001b[0m \u001b[0;34m\u001b[0m\u001b[0m\n\u001b[1;32m      4\u001b[0m \u001b[0mnegative_label\u001b[0m\u001b[0;34m=\u001b[0m\u001b[0;34m'Not Survive'\u001b[0m\u001b[0;34m\u001b[0m\u001b[0;34m\u001b[0m\u001b[0m\n\u001b[1;32m      5\u001b[0m \u001b[0mpositive_label\u001b[0m\u001b[0;34m=\u001b[0m\u001b[0;34m'Survive'\u001b[0m\u001b[0;34m\u001b[0m\u001b[0;34m\u001b[0m\u001b[0m\n",
      "\u001b[0;31mImportError\u001b[0m: cannot import name 'plot_confusion_matrix' from 'sklearn.metrics' (/usr/local/anaconda3/lib/python3.7/site-packages/sklearn/metrics/__init__.py)"
     ]
    }
   ],
   "source": [
    "import matplotlib.pyplot as plt\n",
    "from sklearn.metrics import plot_confusion_matrix\n",
    "\n",
    "negative_label='Not Survive'\n",
    "positive_label='Survive'\n",
    "\n",
    "# Plot non-normalized confusion matrix\n",
    "titles_options = [(\"Confusion matrix, without normalization\", None),\n",
    "                  (\"Normalized confusion matrix\", 'true')]\n",
    "for title, normalize in titles_options:\n",
    "    disp = plot_confusion_matrix(decision_tree, X_test, y_test,\n",
    "                                 display_labels=[negative_label,positive_label],\n",
    "                                 cmap=plt.cm.Blues,\n",
    "                                 normalize=normalize)\n",
    "    disp.ax_.set_title(title)\n",
    "    disp.ax_.set_xlabel('Predicted')\n",
    "    disp.ax_.set_ylabel('Actual')\n",
    "\n",
    "    print(title)\n",
    "    print(disp.confusion_matrix)\n",
    "\n",
    "plt.show()"
   ]
  },
  {
   "cell_type": "markdown",
   "metadata": {},
   "source": [
    "### Cross Validation "
   ]
  },
  {
   "cell_type": "markdown",
   "metadata": {},
   "source": [
    "It is important to keep in mind that cross-validation is not a way to build a model that can be applied to new data. Cross-validation does not return a model. When calling cross_val_score, multiple models are built internally, but the purpose of cross-validation is only to evaluate how well a given algorithm will generalize when trained on a specific dataset.\n",
    "\n",
    "- Introduction to Machine Learning with Python (http://shop.oreilly.com/product/0636920030515.do)"
   ]
  },
  {
   "cell_type": "markdown",
   "metadata": {},
   "source": [
    "#### Cross_val_score\n",
    "\n",
    "Evaluate a model by score using cross-validation"
   ]
  },
  {
   "cell_type": "code",
   "execution_count": 23,
   "metadata": {
    "scrolled": true
   },
   "outputs": [
    {
     "name": "stdout",
     "output_type": "stream",
     "text": [
      "Cross-validation scores: [0.48571429 0.86666667 0.86666667 0.82692308 0.84615385 0.84615385\n",
      " 0.89423077 0.67307692 0.66990291 0.59223301]\n",
      "Average cross-validation score: 0.76\n"
     ]
    }
   ],
   "source": [
    "from sklearn.model_selection import cross_val_score\n",
    "from sklearn.tree import DecisionTreeClassifier\n",
    "\n",
    "# Let's define the model (tree)\n",
    "decision_tree = DecisionTreeClassifier(max_depth=3, criterion=\"entropy\")\n",
    "\n",
    "scores = cross_val_score(decision_tree, X, y, cv=10)\n",
    "print(\"Cross-validation scores: {}\".format(scores))\n",
    "print(\"Average cross-validation score: {:.2f}\".format(scores.mean()))\n"
   ]
  },
  {
   "cell_type": "markdown",
   "metadata": {},
   "source": [
    "You can change the scoring parameter to utilize a different score\n",
    "- https://scikit-learn.org/stable/modules/model_evaluation.html#scoring-parameter"
   ]
  },
  {
   "cell_type": "code",
   "execution_count": 24,
   "metadata": {},
   "outputs": [
    {
     "name": "stdout",
     "output_type": "stream",
     "text": [
      "Cross-validation scores: [0.97674419 0.72093023 0.79069767 0.66666667 0.88095238 0.85714286\n",
      " 0.9047619  0.52380952 0.5        0.        ]\n",
      "Average cross-validation score: 0.68\n"
     ]
    }
   ],
   "source": [
    "from sklearn.model_selection import cross_val_score\n",
    "from sklearn.tree import DecisionTreeClassifier\n",
    "\n",
    "# Let's define the model (tree)\n",
    "decision_tree = DecisionTreeClassifier(max_depth=3, criterion=\"entropy\")\n",
    "\n",
    "scores = cross_val_score(decision_tree, X, y, cv=10, scoring='recall')\n",
    "print(\"Cross-validation scores: {}\".format(scores))\n",
    "print(\"Average cross-validation score: {:.2f}\".format(scores.mean()))"
   ]
  },
  {
   "cell_type": "markdown",
   "metadata": {},
   "source": [
    "#### Cross_validate \n",
    "\n",
    "Evaluate metric(s) by cross-validation and also record fit/score times."
   ]
  },
  {
   "cell_type": "code",
   "execution_count": 25,
   "metadata": {
    "scrolled": true
   },
   "outputs": [
    {
     "name": "stdout",
     "output_type": "stream",
     "text": [
      "Mean times and scores:\n",
      " fit_time       0.002911\n",
      "score_time     0.001244\n",
      "test_score     0.756772\n",
      "train_score    0.810327\n",
      "dtype: float64\n"
     ]
    }
   ],
   "source": [
    "from sklearn.model_selection import cross_validate\n",
    "result = cross_validate(decision_tree, X, y, cv=10, return_train_score=True)\n",
    "print(\"Mean times and scores:\\n\", pd.DataFrame(result).mean())"
   ]
  },
  {
   "cell_type": "code",
   "execution_count": null,
   "metadata": {},
   "outputs": [],
   "source": []
  }
 ],
 "metadata": {
  "kernelspec": {
   "display_name": "Python 3",
   "language": "python",
   "name": "python3"
  },
  "language_info": {
   "codemirror_mode": {
    "name": "ipython",
    "version": 3
   },
   "file_extension": ".py",
   "mimetype": "text/x-python",
   "name": "python",
   "nbconvert_exporter": "python",
   "pygments_lexer": "ipython3",
   "version": "3.7.4"
  }
 },
 "nbformat": 4,
 "nbformat_minor": 2
}
