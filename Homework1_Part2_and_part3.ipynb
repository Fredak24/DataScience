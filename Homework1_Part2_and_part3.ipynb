{
 "cells": [
  {
   "cell_type": "markdown",
   "metadata": {},
   "source": [
    "# Part 2"
   ]
  },
  {
   "cell_type": "markdown",
   "metadata": {},
   "source": [
    "### ALWAYS run this code below first "
   ]
  },
  {
   "cell_type": "code",
   "execution_count": 29,
   "metadata": {},
   "outputs": [],
   "source": [
    "import pandas as pd\n",
    "import os\n",
    "from sys import platform\n",
    "import matplotlib.pyplot as plt\n",
    "import datetime\n",
    "import numpy as np\n",
    "import pickle\n",
    "import seaborn\n",
    "\n",
    "# Helper functions\n",
    "def is_integer(x):\n",
    "   \n",
    "    try:\n",
    "        return (int(x) == float(x))\n",
    "    except:\n",
    "        return False\n",
    "\n",
    "def ingest_files(directory: str):\n",
    "    \n",
    "    \n",
    "    # If the directory has no trailing slash, add one\n",
    "    if directory[-1] != \"/\":\n",
    "        directory = directory + \"/\"\n",
    "    \n",
    "    all_files = os.listdir(directory)\n",
    "    output = {}\n",
    "    \n",
    "    print(\"Directory \" + directory + \" has \" + str(len(all_files)) + \" files:\")\n",
    "    for i in all_files:\n",
    "        print(\" Reading file \" + i)\n",
    "        output[i] = pd.read_csv(directory + i, dtype = str, skiprows = 1)\n",
    "        \n",
    "        # To remove those lines, find any lines with non-integer IDs\n",
    "        # and remove them\n",
    "        invalid_rows = (output[i].id.apply( lambda x : is_integer(x) == False ))\n",
    "        if invalid_rows.sum() > 0:\n",
    "            print(\" Found \" + str(invalid_rows.sum()) + \" invalid rows which were removed\")\n",
    "            output[i] = output[i][invalid_rows == False]\n",
    "    \n",
    "    return output\n",
    "\n",
    "def clean_perc(x):\n",
    "    if pd.isnull(x):\n",
    "        return np.nan\n",
    "    else:\n",
    "        return float(x.strip()[:-1])\n",
    "\n",
    "def clean_date(x):\n",
    "    if pd.isnull(x):\n",
    "        return None\n",
    "    else:\n",
    "        return datetime.datetime.strptime( x, \"%b-%Y\").date()\n",
    "\n",
    "def visualize_columns(data, float_cols, cat_cols, date_cols):\n",
    "    '''\n",
    "    This function visualizes all columns\n",
    "      - Box-and-whisker plots for continuous variables\n",
    "      - Lists of distinct values for categorical columns\n",
    "      - A timeline density for dates\n",
    "    '''\n",
    "    \n",
    "    # FLoat columns\n",
    "    for i in float_cols:\n",
    "        seaborn.boxplot(data[i])\n",
    "\n",
    "        # Print the three highest values\n",
    "        highest_vals = sorted(data[i], reverse=True)[:3]\n",
    "        smallest_val = min(data[i])\n",
    "        plt.text(smallest_val, -0.3, highest_vals[0])\n",
    "        plt.text(smallest_val, -0.2, highest_vals[1])\n",
    "        plt.text(smallest_val, -0.1, highest_vals[2])\n",
    "\n",
    "        plt.show()\n",
    "        \n",
    "    # Categorical columns \n",
    "    for i in cat_cols:\n",
    "        print(i)\n",
    "        print(str(len(set(data[i]))) + \" distinct values\")\n",
    "        print(data[i].value_counts())\n",
    "        print(\"\")\n",
    "        print(\"\")\n",
    "    \n",
    "    # Date columns\n",
    "    for i in date_cols:\n",
    "        data[data[i].isnull() == False][i].apply(lambda x : str(x.year) +\n",
    "                                                \"-\" + str(x.month)).value_counts(ascending = True).plot()\n",
    "        plt.title(i + \" (\" + str(data[i].isnull().sum()) + \" null values)\")\n",
    "        plt.show()\n",
    "\n",
    "# Identify the columns we'll be keeping from the dataset\n",
    "cols_to_pick = [\"id\",\n",
    "                \"loan_amnt\",\n",
    "                \"funded_amnt\",\n",
    "                \"revol_util\",\n",
    "                \"revol_bal\",\n",
    "                \"fico_range_low\",\n",
    "                \"fico_range_high\",\n",
    "                \"pub_rec\",\n",
    "                \"open_acc\",\n",
    "                \"earliest_cr_line\",\n",
    "                \"delinq_2yrs\",\n",
    "                \"dti\",\n",
    "                \"purpose\",\n",
    "                \"issue_d\",\n",
    "                \"annual_inc\",\n",
    "                \"home_ownership\",\n",
    "                \"emp_length\",\n",
    "                \"grade\",\n",
    "                \"term\",\n",
    "                \"int_rate\",\n",
    "                \"installment\",\n",
    "                \"verification_status\",\n",
    "                \"recoveries\",\n",
    "                \"loan_status\",\n",
    "                \"last_pymnt_d\",\n",
    "                \"total_pymnt\"]\n",
    "\n",
    "# Identify the type of each of these column\n",
    "\n",
    "float_cols = [\"loan_amnt\",\n",
    "                \"funded_amnt\",\n",
    "                \"revol_bal\",\n",
    "                \"fico_range_low\",\n",
    "                \"fico_range_high\",\n",
    "                \"pub_rec\",\n",
    "                \"open_acc\",\n",
    "                \"delinq_2yrs\",\n",
    "                \"dti\",\n",
    "                \"annual_inc\",\n",
    "                \"installment\",\n",
    "                \"recoveries\",\n",
    "                \"total_pymnt\"]\n",
    "\n",
    "cat_cols = [\"purpose\",\n",
    "            \"home_ownership\",\n",
    "            \"emp_length\",\n",
    "            \"grade\",\n",
    "            \"term\",\n",
    "            \"verification_status\",\n",
    "            \"loan_status\"]\n",
    "\n",
    "perc_cols = [\"revol_util\",\n",
    "             \"int_rate\"]\n",
    "\n",
    "date_cols = [\"earliest_cr_line\",\n",
    "             \"issue_d\",\n",
    "             \"last_pymnt_d\"]\n",
    "\n",
    "\n",
    "# Ensure that we have types for every column\n",
    "assert set(cols_to_pick) - set(float_cols) - set(cat_cols) - set(perc_cols) - set(date_cols) == set([\"id\"])\n",
    "\n",
    "# Define the names of the four returns we'll be calculating\n",
    "ret_cols = [\"ret_PESS\", \"ret_OPT\", \"ret_INTa\", \"ret_INTb\", \"ret_INTc\"]\n",
    "\n",
    "# Some of the columns selected will not be used directly in the model, but will be used to generate other features.\n",
    "# Create variables specifying the features that will be used\n",
    "\n",
    "# All categorical columns other than \"loan_status\" will be used as\n",
    "# discrete features\n",
    "discrete_features = list(set(cat_cols) - set([\"loan_status\"]))\n",
    "\n",
    "# All numeric columns will be used as continuous features\n",
    "continuous_features = list(float_cols + perc_cols)"
   ]
  },
  {
   "cell_type": "markdown",
   "metadata": {},
   "source": [
    "# Question 1"
   ]
  },
  {
   "cell_type": "code",
   "execution_count": 30,
   "metadata": {},
   "outputs": [
    {
     "name": "stdout",
     "output_type": "stream",
     "text": [
      "Reading in data...\n",
      "Directory Data/full_dataset/ has 15 files:\n",
      " Reading file LoanStats_securev1_2016Q1.csv\n",
      " Found 2 invalid rows which were removed\n",
      " Reading file LoanStats_securev1_2016Q2.csv\n",
      " Found 2 invalid rows which were removed\n",
      " Reading file LoanStats_securev1_2016Q3.csv\n",
      " Found 2 invalid rows which were removed\n",
      " Reading file LoanStats_securev1_2016Q4.csv\n",
      " Found 2 invalid rows which were removed\n",
      " Reading file LoanStats_securev1_2017Q1.csv\n",
      " Found 2 invalid rows which were removed\n",
      " Reading file LoanStats_securev1_2017Q2.csv\n",
      " Found 2 invalid rows which were removed\n",
      " Reading file LoanStats_securev1_2017Q3.csv\n",
      " Found 2 invalid rows which were removed\n",
      " Reading file LoanStats_securev1_2017Q4.csv\n",
      " Found 2 invalid rows which were removed\n",
      " Reading file LoanStats_securev1_2018Q1.csv\n",
      " Found 2 invalid rows which were removed\n",
      " Reading file LoanStats_securev1_2018Q2.csv\n",
      " Found 2 invalid rows which were removed\n",
      " Reading file LoanStats_securev1_2018Q3.csv\n",
      " Found 2 invalid rows which were removed\n",
      " Reading file LoanStats_securev1_2018Q4.csv\n",
      " Found 2 invalid rows which were removed\n",
      " Reading file LoanStats_securev1_2019Q1.csv\n",
      " Found 2 invalid rows which were removed\n",
      " Reading file LoanStats_securev1_2019Q2.csv\n",
      " Found 2 invalid rows which were removed\n",
      " Reading file LoanStats_securev1_2019Q3.csv\n",
      " Found 2 invalid rows which were removed\n",
      "Starting with 1763077 rows\n"
     ]
    }
   ],
   "source": [
    "# Read in data\n",
    "print (\"Reading in data...\")\n",
    "\n",
    "# Define the directories that contain the full dataset files downloaded in 2019\n",
    "dir_full = \"/\".join([\"Data\"] + [\"full_dataset\"] )\n",
    "\n",
    "# Ingest the set of files\n",
    "files_full = ingest_files(dir_full)\n",
    "data_all = pd.concat(files_full.values()).reset_index(drop = True)\n",
    "\n",
    "# Keep only the columns we care about\n",
    "final_data = data_all[cols_to_pick].copy()\n",
    "\n",
    "print(\"Starting with \" + str(len(final_data)) + \" rows\")"
   ]
  },
  {
   "cell_type": "code",
   "execution_count": 31,
   "metadata": {},
   "outputs": [
    {
     "data": {
      "text/html": [
       "<div>\n",
       "<style scoped>\n",
       "    .dataframe tbody tr th:only-of-type {\n",
       "        vertical-align: middle;\n",
       "    }\n",
       "\n",
       "    .dataframe tbody tr th {\n",
       "        vertical-align: top;\n",
       "    }\n",
       "\n",
       "    .dataframe thead th {\n",
       "        text-align: right;\n",
       "    }\n",
       "</style>\n",
       "<table border=\"1\" class=\"dataframe\">\n",
       "  <thead>\n",
       "    <tr style=\"text-align: right;\">\n",
       "      <th></th>\n",
       "      <th>total_pymnt</th>\n",
       "      <th>total_pymnt_inv</th>\n",
       "    </tr>\n",
       "  </thead>\n",
       "  <tbody>\n",
       "    <tr>\n",
       "      <td>0</td>\n",
       "      <td>7268.1531646293</td>\n",
       "      <td>7268.15</td>\n",
       "    </tr>\n",
       "    <tr>\n",
       "      <td>1</td>\n",
       "      <td>23643.13</td>\n",
       "      <td>23643.13</td>\n",
       "    </tr>\n",
       "    <tr>\n",
       "      <td>2</td>\n",
       "      <td>7223.41</td>\n",
       "      <td>7223.41</td>\n",
       "    </tr>\n",
       "    <tr>\n",
       "      <td>3</td>\n",
       "      <td>8448.9</td>\n",
       "      <td>8448.90</td>\n",
       "    </tr>\n",
       "    <tr>\n",
       "      <td>4</td>\n",
       "      <td>14331.0349132191</td>\n",
       "      <td>14331.03</td>\n",
       "    </tr>\n",
       "  </tbody>\n",
       "</table>\n",
       "</div>"
      ],
      "text/plain": [
       "        total_pymnt total_pymnt_inv\n",
       "0   7268.1531646293         7268.15\n",
       "1          23643.13        23643.13\n",
       "2           7223.41         7223.41\n",
       "3            8448.9         8448.90\n",
       "4  14331.0349132191        14331.03"
      ]
     },
     "execution_count": 31,
     "metadata": {},
     "output_type": "execute_result"
    }
   ],
   "source": [
    "new_data = data_all[['total_pymnt', 'total_pymnt_inv']].copy()\n",
    "new_data.head()\n"
   ]
  },
  {
   "cell_type": "markdown",
   "metadata": {},
   "source": [
    "# Question 2"
   ]
  },
  {
   "cell_type": "code",
   "execution_count": 32,
   "metadata": {},
   "outputs": [
    {
     "name": "stdout",
     "output_type": "stream",
     "text": [
      "Reading in data...\n",
      "Directory Data/1712_download/ has 8 files:\n",
      " Reading file LoanStats_securev1_2016Q1.csv\n",
      " Found 2 invalid rows which were removed\n",
      " Reading file LoanStats_securev1_2016Q2.csv\n",
      " Found 2 invalid rows which were removed\n",
      " Reading file LoanStats_securev1_2016Q3.csv\n",
      " Found 2 invalid rows which were removed\n",
      " Reading file LoanStats_securev1_2016Q4.csv\n",
      " Found 2 invalid rows which were removed\n",
      " Reading file LoanStats_securev1_2017Q1.csv\n",
      " Found 2 invalid rows which were removed\n",
      " Reading file LoanStats_securev1_2017Q2.csv\n",
      " Found 2 invalid rows which were removed\n",
      " Reading file LoanStats_securev1_2017Q3.csv\n",
      " Found 2 invalid rows which were removed\n",
      " Reading file LoanStats_securev1_2017Q4.csv\n",
      " Found 2 invalid rows which were removed\n",
      "Directory Data/1912_download/ has 8 files:\n",
      " Reading file LoanStats_securev1_2016Q1.csv\n",
      " Found 2 invalid rows which were removed\n",
      " Reading file LoanStats_securev1_2016Q2.csv\n",
      " Found 2 invalid rows which were removed\n",
      " Reading file LoanStats_securev1_2016Q3.csv\n",
      " Found 2 invalid rows which were removed\n",
      " Reading file LoanStats_securev1_2016Q4.csv\n",
      " Found 2 invalid rows which were removed\n",
      " Reading file LoanStats_securev1_2017Q1.csv\n",
      " Found 2 invalid rows which were removed\n",
      " Reading file LoanStats_securev1_2017Q2.csv\n",
      " Found 2 invalid rows which were removed\n",
      " Reading file LoanStats_securev1_2017Q3.csv\n",
      " Found 2 invalid rows which were removed\n",
      " Reading file LoanStats_securev1_2017Q4.csv\n",
      " Found 2 invalid rows which were removed\n"
     ]
    }
   ],
   "source": [
    "# Read in data\n",
    "print (\"Reading in data...\")\n",
    "\n",
    "# Tell where the directories that contain the files downloaded in 2017 and 2019\n",
    "dir_2017 = \"/\".join([\"Data\"] + [\"1712_download\"] )\n",
    "dir_2019 = \"/\".join([\"Data\"] + [\"1912_download\"] )\n",
    "\n",
    "# Ingest the set of files downloaded in 2017 and then the files downloaded in 2019\n",
    "files_2017 = ingest_files(dir_2017)\n",
    "files_2019 = ingest_files(dir_2019)"
   ]
  },
  {
   "cell_type": "code",
   "execution_count": 33,
   "metadata": {},
   "outputs": [
    {
     "name": "stdout",
     "output_type": "stream",
     "text": [
      "Loading complete, let's compare columns...\n",
      "{'disbursement_method'}\n",
      "Looks like disbursement_method is not found on 2019 data, we will remove this column.\n",
      "Now we will merge the two datasets to compare...\n",
      "Let's look for static columns...\n",
      "Below is the percentange of data for each of our columns that is the same:\n",
      "                 column  perc_equal\n",
      "1             loan_amnt  100.000000\n",
      "32              pub_rec  100.000000\n",
      "31             open_acc  100.000000\n",
      "27      fico_range_high  100.000000\n",
      "26       fico_range_low  100.000000\n",
      "25     earliest_cr_line  100.000000\n",
      "24          delinq_2yrs  100.000000\n",
      "23                  dti  100.000000\n",
      "19              purpose  100.000000\n",
      "34           revol_util  100.000000\n",
      "14              issue_d  100.000000\n",
      "12           annual_inc  100.000000\n",
      "11       home_ownership  100.000000\n",
      "10           emp_length  100.000000\n",
      "7                 grade  100.000000\n",
      "4                  term  100.000000\n",
      "2           funded_amnt  100.000000\n",
      "33            revol_bal  100.000000\n",
      "5              int_rate   99.969248\n",
      "6           installment   99.965489\n",
      "13  verification_status   98.282319\n",
      "44           recoveries   92.055340\n",
      "15          loan_status   52.771229\n",
      "46         last_pymnt_d   28.438950\n",
      "39          total_pymnt   23.959038\n"
     ]
    }
   ],
   "source": [
    "# Check the two sets of files have the same number of files\n",
    "# with the same names\n",
    "assert len(files_2017) == len(files_2019)\n",
    "assert sorted(files_2017) == sorted(files_2019)\n",
    "\n",
    "# Ensure each set of files has the same loan IDs in both instances\n",
    "for i in files_2017:\n",
    "    assert sorted(files_2017[i].id) == sorted(files_2019[i].id)\n",
    "    \n",
    "\n",
    "data_2017 = pd.concat(files_2017.values()).reset_index(drop = True)\n",
    "data_2019 = pd.concat(files_2019.values()).reset_index(drop = True)\n",
    "\n",
    "print(\"Loading complete, let's compare columns...\")\n",
    "print(set(data_2017.columns) - set(data_2019.columns))\n",
    "\n",
    "print(\"Looks like disbursement_method is not found on 2019 data, we will remove this column.\")\n",
    "\n",
    "# There is somethings that not quite right\n",
    "# 2017 dataset has an additional column which is disbursement_method\n",
    "data_2017.drop(['disbursement_method'], axis=1, inplace=True)\n",
    "\n",
    "print(\"Now we will merge the two datasets to compare...\")\n",
    "\n",
    "# Ensure the loan IDs are a unique key\n",
    "assert len(set(data_2019.id)) == len(data_2019)\n",
    "assert len(set(data_2017.id)) == len(data_2017)\n",
    "\n",
    "# Ensure columns are same\n",
    "columns = list(data_2017.columns)\n",
    "assert sorted(columns) == sorted(data_2019.columns)\n",
    "\n",
    "# Just in case, check the datasets have the same number of rows\n",
    "n_rows = len(data_2017)\n",
    "assert n_rows == len(data_2019)\n",
    "\n",
    "# Merge them\n",
    "combined = pd.merge(data_2017, data_2019, how = 'inner', on=\"id\", suffixes=('_x', '_y'))\n",
    "\n",
    "# Ensure the merged dataset has the same number of rows\n",
    "assert n_rows == len(combined)\n",
    "\n",
    "print(\"Let's look for static columns...\")\n",
    "\n",
    "# Go through each column, and find what percentage of the values in\n",
    "# that column are identical in the two datasets\n",
    "static_perc = {}\n",
    "\n",
    "# Remove the ID column first\n",
    "columns = [i for i in columns if i != \"id\"]\n",
    "\n",
    "for i in columns:\n",
    "    combined[i+\"_comp\"] = (combined[i+\"_x\"] == combined[i+\"_y\"]) | (combined[i+\"_x\"].isnull() & combined[i+\"_y\"].isnull())\n",
    "    static_perc[i] = combined[i+\"_comp\"].sum()*100.0/len(combined)\n",
    "    \n",
    "static_perc_data = pd.DataFrame([ [i, static_perc[i]] for i in static_perc], columns=[\"column\", \"perc_equal\"]).\\\n",
    "                                                    sort_values(\"perc_equal\", ascending = False)\n",
    "\n",
    "# Ensure that the columns we want to pick for our model are in\n",
    "# the above, and check how consistent they've been\n",
    "assert set(cols_to_pick) - set(static_perc_data.column) - set([\"id\"]) == set()\n",
    "\n",
    "print(\"Below is the percentange of data for each of our columns that is the same:\")\n",
    "\n",
    "print(static_perc_data[static_perc_data.column.isin(cols_to_pick)])\n"
   ]
  },
  {
   "cell_type": "code",
   "execution_count": 34,
   "metadata": {},
   "outputs": [
    {
     "data": {
      "text/html": [
       "<div>\n",
       "<style scoped>\n",
       "    .dataframe tbody tr th:only-of-type {\n",
       "        vertical-align: middle;\n",
       "    }\n",
       "\n",
       "    .dataframe tbody tr th {\n",
       "        vertical-align: top;\n",
       "    }\n",
       "\n",
       "    .dataframe thead th {\n",
       "        text-align: right;\n",
       "    }\n",
       "</style>\n",
       "<table border=\"1\" class=\"dataframe\">\n",
       "  <thead>\n",
       "    <tr style=\"text-align: right;\">\n",
       "      <th></th>\n",
       "      <th>id</th>\n",
       "      <th>int_rate_x</th>\n",
       "      <th>int_rate_y</th>\n",
       "      <th>term_x</th>\n",
       "      <th>term_y</th>\n",
       "      <th>installment_x</th>\n",
       "      <th>installment_y</th>\n",
       "    </tr>\n",
       "  </thead>\n",
       "  <tbody>\n",
       "    <tr>\n",
       "      <td>39618</td>\n",
       "      <td>74722704</td>\n",
       "      <td>10.75%</td>\n",
       "      <td>10.75%</td>\n",
       "      <td>60 months</td>\n",
       "      <td>60 months</td>\n",
       "      <td>432.36</td>\n",
       "      <td>405.03</td>\n",
       "    </tr>\n",
       "    <tr>\n",
       "      <td>88840</td>\n",
       "      <td>71003261</td>\n",
       "      <td>6.00%</td>\n",
       "      <td>11.16%</td>\n",
       "      <td>36 months</td>\n",
       "      <td>36 months</td>\n",
       "      <td>452.35</td>\n",
       "      <td>452.35</td>\n",
       "    </tr>\n",
       "    <tr>\n",
       "      <td>99418</td>\n",
       "      <td>70391991</td>\n",
       "      <td>6.00%</td>\n",
       "      <td>6.00%</td>\n",
       "      <td>36 months</td>\n",
       "      <td>36 months</td>\n",
       "      <td>655.91</td>\n",
       "      <td>653.38</td>\n",
       "    </tr>\n",
       "    <tr>\n",
       "      <td>102292</td>\n",
       "      <td>69980465</td>\n",
       "      <td>6.00%</td>\n",
       "      <td>6.00%</td>\n",
       "      <td>60 months</td>\n",
       "      <td>60 months</td>\n",
       "      <td>704.42</td>\n",
       "      <td>699.75</td>\n",
       "    </tr>\n",
       "    <tr>\n",
       "      <td>184837</td>\n",
       "      <td>78600054</td>\n",
       "      <td>13.67%</td>\n",
       "      <td>13.67%</td>\n",
       "      <td>60 months</td>\n",
       "      <td>60 months</td>\n",
       "      <td>461.96</td>\n",
       "      <td>441.9</td>\n",
       "    </tr>\n",
       "    <tr>\n",
       "      <td>198862</td>\n",
       "      <td>77538744</td>\n",
       "      <td>6.00%</td>\n",
       "      <td>6.00%</td>\n",
       "      <td>36 months</td>\n",
       "      <td>36 months</td>\n",
       "      <td>1032.57</td>\n",
       "      <td>1032.72</td>\n",
       "    </tr>\n",
       "    <tr>\n",
       "      <td>231097</td>\n",
       "      <td>76012596</td>\n",
       "      <td>6.00%</td>\n",
       "      <td>6.00%</td>\n",
       "      <td>60 months</td>\n",
       "      <td>60 months</td>\n",
       "      <td>467.41</td>\n",
       "      <td>461.68</td>\n",
       "    </tr>\n",
       "    <tr>\n",
       "      <td>295368</td>\n",
       "      <td>86136443</td>\n",
       "      <td>14.49%</td>\n",
       "      <td>14.49%</td>\n",
       "      <td>60 months</td>\n",
       "      <td>60 months</td>\n",
       "      <td>258.76</td>\n",
       "      <td>134.1</td>\n",
       "    </tr>\n",
       "    <tr>\n",
       "      <td>320463</td>\n",
       "      <td>83709004</td>\n",
       "      <td>19.99%</td>\n",
       "      <td>19.99%</td>\n",
       "      <td>60 months</td>\n",
       "      <td>60 months</td>\n",
       "      <td>303.04</td>\n",
       "      <td>279.86</td>\n",
       "    </tr>\n",
       "    <tr>\n",
       "      <td>384458</td>\n",
       "      <td>93413738</td>\n",
       "      <td>12.74%</td>\n",
       "      <td>12.74%</td>\n",
       "      <td>36 months</td>\n",
       "      <td>36 months</td>\n",
       "      <td>211.49</td>\n",
       "      <td>195.32</td>\n",
       "    </tr>\n",
       "    <tr>\n",
       "      <td>390913</td>\n",
       "      <td>92523389</td>\n",
       "      <td>6.00%</td>\n",
       "      <td>6.00%</td>\n",
       "      <td>36 months</td>\n",
       "      <td>36 months</td>\n",
       "      <td>630.37</td>\n",
       "      <td>639.36</td>\n",
       "    </tr>\n",
       "    <tr>\n",
       "      <td>473830</td>\n",
       "      <td>99535008</td>\n",
       "      <td>6.00%</td>\n",
       "      <td>6.00%</td>\n",
       "      <td>60 months</td>\n",
       "      <td>60 months</td>\n",
       "      <td>691.94</td>\n",
       "      <td>683.53</td>\n",
       "    </tr>\n",
       "    <tr>\n",
       "      <td>538880</td>\n",
       "      <td>111428146</td>\n",
       "      <td>6.00%</td>\n",
       "      <td>6.00%</td>\n",
       "      <td>36 months</td>\n",
       "      <td>36 months</td>\n",
       "      <td>304.18</td>\n",
       "      <td>298.27</td>\n",
       "    </tr>\n",
       "    <tr>\n",
       "      <td>563273</td>\n",
       "      <td>109651663</td>\n",
       "      <td>13.59%</td>\n",
       "      <td>13.59%</td>\n",
       "      <td>36 months</td>\n",
       "      <td>36 months</td>\n",
       "      <td>203.88</td>\n",
       "      <td>199.55</td>\n",
       "    </tr>\n",
       "    <tr>\n",
       "      <td>570326</td>\n",
       "      <td>110022313</td>\n",
       "      <td>20.00%</td>\n",
       "      <td>20.00%</td>\n",
       "      <td>36 months</td>\n",
       "      <td>36 months</td>\n",
       "      <td>628.07</td>\n",
       "      <td>595.85</td>\n",
       "    </tr>\n",
       "    <tr>\n",
       "      <td>586909</td>\n",
       "      <td>108147170</td>\n",
       "      <td>6.00%</td>\n",
       "      <td>6.00%</td>\n",
       "      <td>36 months</td>\n",
       "      <td>36 months</td>\n",
       "      <td>122.78</td>\n",
       "      <td>122.7</td>\n",
       "    </tr>\n",
       "    <tr>\n",
       "      <td>594116</td>\n",
       "      <td>107600128</td>\n",
       "      <td>12.74%</td>\n",
       "      <td>12.74%</td>\n",
       "      <td>60 months</td>\n",
       "      <td>60 months</td>\n",
       "      <td>361.93</td>\n",
       "      <td>348.79</td>\n",
       "    </tr>\n",
       "    <tr>\n",
       "      <td>608446</td>\n",
       "      <td>106508810</td>\n",
       "      <td>18.99%</td>\n",
       "      <td>18.99%</td>\n",
       "      <td>36 months</td>\n",
       "      <td>36 months</td>\n",
       "      <td>73.31</td>\n",
       "      <td>67.06</td>\n",
       "    </tr>\n",
       "    <tr>\n",
       "      <td>638375</td>\n",
       "      <td>120018914</td>\n",
       "      <td>7.35%</td>\n",
       "      <td>7.35%</td>\n",
       "      <td>36 months</td>\n",
       "      <td>36 months</td>\n",
       "      <td>1241.5</td>\n",
       "      <td>1235</td>\n",
       "    </tr>\n",
       "    <tr>\n",
       "      <td>679314</td>\n",
       "      <td>117273468</td>\n",
       "      <td>12.62%</td>\n",
       "      <td>12.62%</td>\n",
       "      <td>36 months</td>\n",
       "      <td>36 months</td>\n",
       "      <td>33.52</td>\n",
       "      <td>32.04</td>\n",
       "    </tr>\n",
       "    <tr>\n",
       "      <td>713218</td>\n",
       "      <td>114853903</td>\n",
       "      <td>6.00%</td>\n",
       "      <td>6.00%</td>\n",
       "      <td>36 months</td>\n",
       "      <td>36 months</td>\n",
       "      <td>591.71</td>\n",
       "      <td>573.14</td>\n",
       "    </tr>\n",
       "    <tr>\n",
       "      <td>719836</td>\n",
       "      <td>113825222</td>\n",
       "      <td>14.08%</td>\n",
       "      <td>14.08%</td>\n",
       "      <td>60 months</td>\n",
       "      <td>60 months</td>\n",
       "      <td>699.3</td>\n",
       "      <td>666.09</td>\n",
       "    </tr>\n",
       "    <tr>\n",
       "      <td>743198</td>\n",
       "      <td>113162286</td>\n",
       "      <td>12.62%</td>\n",
       "      <td>12.62%</td>\n",
       "      <td>36 months</td>\n",
       "      <td>36 months</td>\n",
       "      <td>469.16</td>\n",
       "      <td>437.04</td>\n",
       "    </tr>\n",
       "    <tr>\n",
       "      <td>758817</td>\n",
       "      <td>111651514</td>\n",
       "      <td>16.02%</td>\n",
       "      <td>16.02%</td>\n",
       "      <td>60 months</td>\n",
       "      <td>60 months</td>\n",
       "      <td>486.58</td>\n",
       "      <td>446.24</td>\n",
       "    </tr>\n",
       "    <tr>\n",
       "      <td>760867</td>\n",
       "      <td>125114786</td>\n",
       "      <td>12.62%</td>\n",
       "      <td>12.62%</td>\n",
       "      <td>60 months</td>\n",
       "      <td>60 months</td>\n",
       "      <td>360.95</td>\n",
       "      <td>340.79</td>\n",
       "    </tr>\n",
       "    <tr>\n",
       "      <td>788935</td>\n",
       "      <td>125291665</td>\n",
       "      <td>19.03%</td>\n",
       "      <td>19.03%</td>\n",
       "      <td>36 months</td>\n",
       "      <td>36 months</td>\n",
       "      <td>205.36</td>\n",
       "      <td>7.61</td>\n",
       "    </tr>\n",
       "    <tr>\n",
       "      <td>802243</td>\n",
       "      <td>124909456</td>\n",
       "      <td>7.97%</td>\n",
       "      <td>7.97%</td>\n",
       "      <td>36 months</td>\n",
       "      <td>36 months</td>\n",
       "      <td>1252.91</td>\n",
       "      <td>345.73</td>\n",
       "    </tr>\n",
       "    <tr>\n",
       "      <td>802362</td>\n",
       "      <td>124968588</td>\n",
       "      <td>12.62%</td>\n",
       "      <td>12.62%</td>\n",
       "      <td>36 months</td>\n",
       "      <td>36 months</td>\n",
       "      <td>1172.9</td>\n",
       "      <td>1137.73</td>\n",
       "    </tr>\n",
       "    <tr>\n",
       "      <td>811266</td>\n",
       "      <td>124776085</td>\n",
       "      <td>13.59%</td>\n",
       "      <td>13.59%</td>\n",
       "      <td>60 months</td>\n",
       "      <td>60 months</td>\n",
       "      <td>461.13</td>\n",
       "      <td>445.71</td>\n",
       "    </tr>\n",
       "    <tr>\n",
       "      <td>819638</td>\n",
       "      <td>124017077</td>\n",
       "      <td>6.00%</td>\n",
       "      <td>6.00%</td>\n",
       "      <td>36 months</td>\n",
       "      <td>36 months</td>\n",
       "      <td>697.68</td>\n",
       "      <td>696.27</td>\n",
       "    </tr>\n",
       "    <tr>\n",
       "      <td>828156</td>\n",
       "      <td>123031804</td>\n",
       "      <td>17.09%</td>\n",
       "      <td>17.09%</td>\n",
       "      <td>60 months</td>\n",
       "      <td>60 months</td>\n",
       "      <td>557.79</td>\n",
       "      <td>538.52</td>\n",
       "    </tr>\n",
       "    <tr>\n",
       "      <td>837681</td>\n",
       "      <td>122239067</td>\n",
       "      <td>9.93%</td>\n",
       "      <td>9.93%</td>\n",
       "      <td>36 months</td>\n",
       "      <td>36 months</td>\n",
       "      <td>718.02</td>\n",
       "      <td>515.84</td>\n",
       "    </tr>\n",
       "    <tr>\n",
       "      <td>857371</td>\n",
       "      <td>120657992</td>\n",
       "      <td>12.62%</td>\n",
       "      <td>12.62%</td>\n",
       "      <td>60 months</td>\n",
       "      <td>60 months</td>\n",
       "      <td>601.77</td>\n",
       "      <td>596.96</td>\n",
       "    </tr>\n",
       "    <tr>\n",
       "      <td>858493</td>\n",
       "      <td>121254208</td>\n",
       "      <td>11.99%</td>\n",
       "      <td>11.99%</td>\n",
       "      <td>36 months</td>\n",
       "      <td>36 months</td>\n",
       "      <td>398.52</td>\n",
       "      <td>388.86</td>\n",
       "    </tr>\n",
       "    <tr>\n",
       "      <td>866289</td>\n",
       "      <td>120657641</td>\n",
       "      <td>19.03%</td>\n",
       "      <td>19.03%</td>\n",
       "      <td>60 months</td>\n",
       "      <td>60 months</td>\n",
       "      <td>1038.29</td>\n",
       "      <td>920.68</td>\n",
       "    </tr>\n",
       "  </tbody>\n",
       "</table>\n",
       "</div>"
      ],
      "text/plain": [
       "               id int_rate_x int_rate_y      term_x      term_y installment_x  \\\n",
       "39618    74722704     10.75%     10.75%   60 months   60 months        432.36   \n",
       "88840    71003261      6.00%     11.16%   36 months   36 months        452.35   \n",
       "99418    70391991      6.00%      6.00%   36 months   36 months        655.91   \n",
       "102292   69980465      6.00%      6.00%   60 months   60 months        704.42   \n",
       "184837   78600054     13.67%     13.67%   60 months   60 months        461.96   \n",
       "198862   77538744      6.00%      6.00%   36 months   36 months       1032.57   \n",
       "231097   76012596      6.00%      6.00%   60 months   60 months        467.41   \n",
       "295368   86136443     14.49%     14.49%   60 months   60 months        258.76   \n",
       "320463   83709004     19.99%     19.99%   60 months   60 months        303.04   \n",
       "384458   93413738     12.74%     12.74%   36 months   36 months        211.49   \n",
       "390913   92523389      6.00%      6.00%   36 months   36 months        630.37   \n",
       "473830   99535008      6.00%      6.00%   60 months   60 months        691.94   \n",
       "538880  111428146      6.00%      6.00%   36 months   36 months        304.18   \n",
       "563273  109651663     13.59%     13.59%   36 months   36 months        203.88   \n",
       "570326  110022313     20.00%     20.00%   36 months   36 months        628.07   \n",
       "586909  108147170      6.00%      6.00%   36 months   36 months        122.78   \n",
       "594116  107600128     12.74%     12.74%   60 months   60 months        361.93   \n",
       "608446  106508810     18.99%     18.99%   36 months   36 months         73.31   \n",
       "638375  120018914      7.35%      7.35%   36 months   36 months        1241.5   \n",
       "679314  117273468     12.62%     12.62%   36 months   36 months         33.52   \n",
       "713218  114853903      6.00%      6.00%   36 months   36 months        591.71   \n",
       "719836  113825222     14.08%     14.08%   60 months   60 months         699.3   \n",
       "743198  113162286     12.62%     12.62%   36 months   36 months        469.16   \n",
       "758817  111651514     16.02%     16.02%   60 months   60 months        486.58   \n",
       "760867  125114786     12.62%     12.62%   60 months   60 months        360.95   \n",
       "788935  125291665     19.03%     19.03%   36 months   36 months        205.36   \n",
       "802243  124909456      7.97%      7.97%   36 months   36 months       1252.91   \n",
       "802362  124968588     12.62%     12.62%   36 months   36 months        1172.9   \n",
       "811266  124776085     13.59%     13.59%   60 months   60 months        461.13   \n",
       "819638  124017077      6.00%      6.00%   36 months   36 months        697.68   \n",
       "828156  123031804     17.09%     17.09%   60 months   60 months        557.79   \n",
       "837681  122239067      9.93%      9.93%   36 months   36 months        718.02   \n",
       "857371  120657992     12.62%     12.62%   60 months   60 months        601.77   \n",
       "858493  121254208     11.99%     11.99%   36 months   36 months        398.52   \n",
       "866289  120657641     19.03%     19.03%   60 months   60 months       1038.29   \n",
       "\n",
       "       installment_y  \n",
       "39618         405.03  \n",
       "88840         452.35  \n",
       "99418         653.38  \n",
       "102292        699.75  \n",
       "184837         441.9  \n",
       "198862       1032.72  \n",
       "231097        461.68  \n",
       "295368         134.1  \n",
       "320463        279.86  \n",
       "384458        195.32  \n",
       "390913        639.36  \n",
       "473830        683.53  \n",
       "538880        298.27  \n",
       "563273        199.55  \n",
       "570326        595.85  \n",
       "586909         122.7  \n",
       "594116        348.79  \n",
       "608446         67.06  \n",
       "638375          1235  \n",
       "679314         32.04  \n",
       "713218        573.14  \n",
       "719836        666.09  \n",
       "743198        437.04  \n",
       "758817        446.24  \n",
       "760867        340.79  \n",
       "788935          7.61  \n",
       "802243        345.73  \n",
       "802362       1137.73  \n",
       "811266        445.71  \n",
       "819638        696.27  \n",
       "828156        538.52  \n",
       "837681        515.84  \n",
       "857371        596.96  \n",
       "858493        388.86  \n",
       "866289        920.68  "
      ]
     },
     "execution_count": 34,
     "metadata": {},
     "output_type": "execute_result"
    }
   ],
   "source": [
    "# There are 35 rows where the int_rate_comp and installment_comp values do not have same comparison\n",
    "(combined[\"int_rate_comp\"] != combined[\"installment_comp\"]).sum()\n",
    "\n",
    "# what do you notice looking at these loans?\n",
    "combined.loc[(combined[\"int_rate_comp\"] != combined[\"installment_comp\"]),:].loc[:,['id','int_rate_x','int_rate_y','term_x','term_y','installment_x','installment_y']]"
   ]
  },
  {
   "cell_type": "code",
   "execution_count": 35,
   "metadata": {},
   "outputs": [
    {
     "data": {
      "text/html": [
       "<div>\n",
       "<style scoped>\n",
       "    .dataframe tbody tr th:only-of-type {\n",
       "        vertical-align: middle;\n",
       "    }\n",
       "\n",
       "    .dataframe tbody tr th {\n",
       "        vertical-align: top;\n",
       "    }\n",
       "\n",
       "    .dataframe thead th {\n",
       "        text-align: right;\n",
       "    }\n",
       "</style>\n",
       "<table border=\"1\" class=\"dataframe\">\n",
       "  <thead>\n",
       "    <tr style=\"text-align: right;\">\n",
       "      <th></th>\n",
       "      <th>id</th>\n",
       "      <th>issue_d_x</th>\n",
       "      <th>issue_d_y</th>\n",
       "      <th>term_x</th>\n",
       "      <th>term_y</th>\n",
       "      <th>int_rate_x</th>\n",
       "      <th>int_rate_y</th>\n",
       "    </tr>\n",
       "  </thead>\n",
       "  <tbody>\n",
       "    <tr>\n",
       "      <td>11702</td>\n",
       "      <td>75132541</td>\n",
       "      <td>Mar-2016</td>\n",
       "      <td>Mar-2016</td>\n",
       "      <td>60 months</td>\n",
       "      <td>60 months</td>\n",
       "      <td>7.89%</td>\n",
       "      <td>6.00%</td>\n",
       "    </tr>\n",
       "    <tr>\n",
       "      <td>12709</td>\n",
       "      <td>74131643</td>\n",
       "      <td>Mar-2016</td>\n",
       "      <td>Mar-2016</td>\n",
       "      <td>36 months</td>\n",
       "      <td>36 months</td>\n",
       "      <td>6.97%</td>\n",
       "      <td>6.00%</td>\n",
       "    </tr>\n",
       "    <tr>\n",
       "      <td>18972</td>\n",
       "      <td>75101560</td>\n",
       "      <td>Mar-2016</td>\n",
       "      <td>Mar-2016</td>\n",
       "      <td>60 months</td>\n",
       "      <td>60 months</td>\n",
       "      <td>19.53%</td>\n",
       "      <td>6.00%</td>\n",
       "    </tr>\n",
       "    <tr>\n",
       "      <td>20946</td>\n",
       "      <td>75314580</td>\n",
       "      <td>Mar-2016</td>\n",
       "      <td>Mar-2016</td>\n",
       "      <td>60 months</td>\n",
       "      <td>60 months</td>\n",
       "      <td>10.75%</td>\n",
       "      <td>6.00%</td>\n",
       "    </tr>\n",
       "    <tr>\n",
       "      <td>26817</td>\n",
       "      <td>74522695</td>\n",
       "      <td>Mar-2016</td>\n",
       "      <td>Mar-2016</td>\n",
       "      <td>60 months</td>\n",
       "      <td>60 months</td>\n",
       "      <td>18.99%</td>\n",
       "      <td>6.00%</td>\n",
       "    </tr>\n",
       "    <tr>\n",
       "      <td>...</td>\n",
       "      <td>...</td>\n",
       "      <td>...</td>\n",
       "      <td>...</td>\n",
       "      <td>...</td>\n",
       "      <td>...</td>\n",
       "      <td>...</td>\n",
       "      <td>...</td>\n",
       "    </tr>\n",
       "    <tr>\n",
       "      <td>862147</td>\n",
       "      <td>118169441</td>\n",
       "      <td>Oct-2017</td>\n",
       "      <td>Oct-2017</td>\n",
       "      <td>60 months</td>\n",
       "      <td>60 months</td>\n",
       "      <td>18.06%</td>\n",
       "      <td>6.00%</td>\n",
       "    </tr>\n",
       "    <tr>\n",
       "      <td>862390</td>\n",
       "      <td>120953984</td>\n",
       "      <td>Oct-2017</td>\n",
       "      <td>Oct-2017</td>\n",
       "      <td>36 months</td>\n",
       "      <td>36 months</td>\n",
       "      <td>14.08%</td>\n",
       "      <td>6.00%</td>\n",
       "    </tr>\n",
       "    <tr>\n",
       "      <td>867463</td>\n",
       "      <td>120631915</td>\n",
       "      <td>Oct-2017</td>\n",
       "      <td>Oct-2017</td>\n",
       "      <td>60 months</td>\n",
       "      <td>60 months</td>\n",
       "      <td>9.93%</td>\n",
       "      <td>6.00%</td>\n",
       "    </tr>\n",
       "    <tr>\n",
       "      <td>871222</td>\n",
       "      <td>120554473</td>\n",
       "      <td>Oct-2017</td>\n",
       "      <td>Oct-2017</td>\n",
       "      <td>36 months</td>\n",
       "      <td>36 months</td>\n",
       "      <td>12.62%</td>\n",
       "      <td>6.00%</td>\n",
       "    </tr>\n",
       "    <tr>\n",
       "      <td>877625</td>\n",
       "      <td>120061263</td>\n",
       "      <td>Oct-2017</td>\n",
       "      <td>Oct-2017</td>\n",
       "      <td>36 months</td>\n",
       "      <td>36 months</td>\n",
       "      <td>10.42%</td>\n",
       "      <td>6.00%</td>\n",
       "    </tr>\n",
       "  </tbody>\n",
       "</table>\n",
       "<p>270 rows × 7 columns</p>\n",
       "</div>"
      ],
      "text/plain": [
       "               id issue_d_x issue_d_y      term_x      term_y int_rate_x  \\\n",
       "11702    75132541  Mar-2016  Mar-2016   60 months   60 months      7.89%   \n",
       "12709    74131643  Mar-2016  Mar-2016   36 months   36 months      6.97%   \n",
       "18972    75101560  Mar-2016  Mar-2016   60 months   60 months     19.53%   \n",
       "20946    75314580  Mar-2016  Mar-2016   60 months   60 months     10.75%   \n",
       "26817    74522695  Mar-2016  Mar-2016   60 months   60 months     18.99%   \n",
       "...           ...       ...       ...         ...         ...        ...   \n",
       "862147  118169441  Oct-2017  Oct-2017   60 months   60 months     18.06%   \n",
       "862390  120953984  Oct-2017  Oct-2017   36 months   36 months     14.08%   \n",
       "867463  120631915  Oct-2017  Oct-2017   60 months   60 months      9.93%   \n",
       "871222  120554473  Oct-2017  Oct-2017   36 months   36 months     12.62%   \n",
       "877625  120061263  Oct-2017  Oct-2017   36 months   36 months     10.42%   \n",
       "\n",
       "       int_rate_y  \n",
       "11702       6.00%  \n",
       "12709       6.00%  \n",
       "18972       6.00%  \n",
       "20946       6.00%  \n",
       "26817       6.00%  \n",
       "...           ...  \n",
       "862147      6.00%  \n",
       "862390      6.00%  \n",
       "867463      6.00%  \n",
       "871222      6.00%  \n",
       "877625      6.00%  \n",
       "\n",
       "[270 rows x 7 columns]"
      ]
     },
     "execution_count": 35,
     "metadata": {},
     "output_type": "execute_result"
    }
   ],
   "source": [
    "# So the differences in int_rate and installment are the same. Let's look at them\n",
    "combined[combined.int_rate_comp == False][[\"id\", \"issue_d_x\", \"issue_d_y\", \"term_x\", \"term_y\", \"int_rate_x\", \"int_rate_y\"]]"
   ]
  },
  {
   "cell_type": "markdown",
   "metadata": {},
   "source": [
    "# Question 3"
   ]
  },
  {
   "cell_type": "code",
   "execution_count": 38,
   "metadata": {},
   "outputs": [
    {
     "name": "stdout",
     "output_type": "stream",
     "text": [
      "Reading in data...\n",
      "Directory Data/full_dataset/ has 15 files:\n",
      " Reading file LoanStats_securev1_2016Q1.csv\n",
      " Found 2 invalid rows which were removed\n",
      " Reading file LoanStats_securev1_2016Q2.csv\n",
      " Found 2 invalid rows which were removed\n",
      " Reading file LoanStats_securev1_2016Q3.csv\n",
      " Found 2 invalid rows which were removed\n",
      " Reading file LoanStats_securev1_2016Q4.csv\n",
      " Found 2 invalid rows which were removed\n",
      " Reading file LoanStats_securev1_2017Q1.csv\n",
      " Found 2 invalid rows which were removed\n",
      " Reading file LoanStats_securev1_2017Q2.csv\n",
      " Found 2 invalid rows which were removed\n",
      " Reading file LoanStats_securev1_2017Q3.csv\n",
      " Found 2 invalid rows which were removed\n",
      " Reading file LoanStats_securev1_2017Q4.csv\n",
      " Found 2 invalid rows which were removed\n",
      " Reading file LoanStats_securev1_2018Q1.csv\n",
      " Found 2 invalid rows which were removed\n",
      " Reading file LoanStats_securev1_2018Q2.csv\n",
      " Found 2 invalid rows which were removed\n",
      " Reading file LoanStats_securev1_2018Q3.csv\n",
      " Found 2 invalid rows which were removed\n",
      " Reading file LoanStats_securev1_2018Q4.csv\n",
      " Found 2 invalid rows which were removed\n",
      " Reading file LoanStats_securev1_2019Q1.csv\n",
      " Found 2 invalid rows which were removed\n",
      " Reading file LoanStats_securev1_2019Q2.csv\n",
      " Found 2 invalid rows which were removed\n",
      " Reading file LoanStats_securev1_2019Q3.csv\n",
      " Found 2 invalid rows which were removed\n",
      "Starting with 1763077 rows\n"
     ]
    }
   ],
   "source": [
    "# Read in data\n",
    "print (\"Reading in data...\")\n",
    "\n",
    "# Define the directories that contain the full dataset files downloaded in 2019\n",
    "dir_full = \"/\".join([\"Data\"] + [\"full_dataset\"] )\n",
    "\n",
    "# Ingest the set of files\n",
    "files_full = ingest_files(dir_full)\n",
    "data_all = pd.concat(files_full.values()).reset_index(drop = True)\n",
    "\n",
    "# Keep only the columns we care about\n",
    "final_data = data_all[cols_to_pick].copy()\n",
    "\n",
    "print(\"Starting with \" + str(len(final_data)) + \" rows\")"
   ]
  },
  {
   "cell_type": "code",
   "execution_count": 39,
   "metadata": {},
   "outputs": [
    {
     "name": "stdout",
     "output_type": "stream",
     "text": [
      "Starting with 1763077 rows\n",
      "Casting column types...\n",
      "Removing null columns...\n",
      "Removed 6794 rows\n",
      "Removing unfinished loans...\n",
      "Removed 975384 rows\n",
      "Removing loans older than 2011...\n",
      "Removed 0 rows\n",
      "Ending with 787693 rows\n",
      "Saving pickle file...\n",
      "Saved to Data/clean_data.pickle\n"
     ]
    }
   ],
   "source": [
    "print(\"Starting with \" + str(len(final_data)) + \" rows\")\n",
    "print(\"Casting column types...\")\n",
    "for i in float_cols:\n",
    "    final_data[i] = final_data[i].astype(float)\n",
    "    \n",
    "for i in perc_cols:\n",
    "    final_data[i] = final_data[i].apply( clean_perc )\n",
    "\n",
    "for i in date_cols:\n",
    "    final_data[i] = final_data[i].apply( clean_date )\n",
    "    \n",
    "for i in cat_cols:\n",
    "    final_data.loc[final_data[i].isnull(), i] = None\n",
    "    \n",
    "print(\"Removing null columns...\")\n",
    "required_cols = set(cols_to_pick) - set(cat_cols) - set([\"id\"])\n",
    "required_cols.add(\"grade\")\n",
    "\n",
    "n_rows = len(final_data)\n",
    "final_data.dropna(subset = required_cols ,inplace=True)\n",
    "print(\"Removed \" + str(n_rows - len(final_data)) + \" rows\")\n",
    "\n",
    "print(\"Removing unfinished loans...\")\n",
    "# select only terminated loans\n",
    "final_data = final_data[final_data.loan_status.isin(['Fully Paid','Charged Off','Default'])]\n",
    "print(\"Removed \" + str(n_rows - len(final_data)) + \" rows\")\n",
    "\n",
    "# Only include loans isssued since 2011\n",
    "print(\"Removing loans older than 2011...\")\n",
    "n_rows = len(final_data)\n",
    "final_data = final_data[final_data.issue_d >= datetime.date(2011, 1, 1)]\n",
    "print(\"Removed \" + str(n_rows - len(final_data)) + \" rows\")\n",
    "\n",
    "\n",
    "print(\"Ending with \" + str(len(final_data)) + \" rows\")\n",
    "\n",
    "print(\"Saving pickle file...\")\n",
    "# Define the output path for the pickle\n",
    "pickle_file = \"/\".join([\"Data\"] + [\"clean_data.pickle\"] )\n",
    "\n",
    "pickle.dump( [final_data, discrete_features, continuous_features, ret_cols], open(pickle_file, \"wb\") )\n",
    "print(\"Saved to Data/clean_data.pickle\")"
   ]
  },
  {
   "cell_type": "markdown",
   "metadata": {},
   "source": [
    "# Question 4"
   ]
  },
  {
   "cell_type": "code",
   "execution_count": 40,
   "metadata": {},
   "outputs": [
    {
     "data": {
      "image/png": "[encoded data removed]",
      "text/plain": [
       "<Figure size 432x288 with 1 Axes>"
      ]
     },
     "metadata": {
      "needs_background": "light"
     },
     "output_type": "display_data"
    },
    {
     "data": {
      "image/png": "[encoded data removed]",
      "text/plain": [
       "<Figure size 432x288 with 1 Axes>"
      ]
     },
     "metadata": {
      "needs_background": "light"
     },
     "output_type": "display_data"
    },
    {
     "data": {
      "image/png": "[encoded data removed]",
      "text/plain": [
       "<Figure size 432x288 with 1 Axes>"
      ]
     },
     "metadata": {
      "needs_background": "light"
     },
     "output_type": "display_data"
    },
    {
     "data": {
      "image/png": "[encoded data removed]",
      "text/plain": [
       "<Figure size 432x288 with 1 Axes>"
      ]
     },
     "metadata": {
      "needs_background": "light"
     },
     "output_type": "display_data"
    },
    {
     "data": {
      "image/png": "[encoded data removed]",
      "text/plain": [
       "<Figure size 432x288 with 1 Axes>"
      ]
     },
     "metadata": {
      "needs_background": "light"
     },
     "output_type": "display_data"
    },
    {
     "data": {
      "image/png": "[encoded data removed]",
      "text/plain": [
       "<Figure size 432x288 with 1 Axes>"
      ]
     },
     "metadata": {
      "needs_background": "light"
     },
     "output_type": "display_data"
    },
    {
     "data": {
      "image/png": "[encoded data removed]",
      "text/plain": [
       "<Figure size 432x288 with 1 Axes>"
      ]
     },
     "metadata": {
      "needs_background": "light"
     },
     "output_type": "display_data"
    },
    {
     "data": {
      "image/png": "[encoded data removed]",
      "text/plain": [
       "<Figure size 432x288 with 1 Axes>"
      ]
     },
     "metadata": {
      "needs_background": "light"
     },
     "output_type": "display_data"
    },
    {
     "data": {
      "image/png": "[encoded data removed]",
      "text/plain": [
       "<Figure size 432x288 with 1 Axes>"
      ]
     },
     "metadata": {
      "needs_background": "light"
     },
     "output_type": "display_data"
    },
    {
     "data": {
      "image/png": "[encoded data removed]",
      "text/plain": [
       "<Figure size 432x288 with 1 Axes>"
      ]
     },
     "metadata": {
      "needs_background": "light"
     },
     "output_type": "display_data"
    },
    {
     "data": {
      "image/png": "[encoded data removed]",
      "text/plain": [
       "<Figure size 432x288 with 1 Axes>"
      ]
     },
     "metadata": {
      "needs_background": "light"
     },
     "output_type": "display_data"
    },
    {
     "data": {
      "image/png": "[encoded data removed]",
      "text/plain": [
       "<Figure size 432x288 with 1 Axes>"
      ]
     },
     "metadata": {
      "needs_background": "light"
     },
     "output_type": "display_data"
    },
    {
     "data": {
      "image/png": "[encoded data removed]",
      "text/plain": [
       "<Figure size 432x288 with 1 Axes>"
      ]
     },
     "metadata": {
      "needs_background": "light"
     },
     "output_type": "display_data"
    },
    {
     "data": {
      "image/png": "[encoded data removed]",
      "text/plain": [
       "<Figure size 432x288 with 1 Axes>"
      ]
     },
     "metadata": {
      "needs_background": "light"
     },
     "output_type": "display_data"
    },
    {
     "data": {
      "image/png": "[encoded data removed]",
      "text/plain": [
       "<Figure size 432x288 with 1 Axes>"
      ]
     },
     "metadata": {
      "needs_background": "light"
     },
     "output_type": "display_data"
    },
    {
     "name": "stdout",
     "output_type": "stream",
     "text": [
      "purpose\n",
      "14 distinct values\n",
      "debt_consolidation    440696\n",
      "credit_card           163934\n",
      "home_improvement       58666\n",
      "other                  56638\n",
      "major_purchase         19758\n",
      "medical                11125\n",
      "car                     9180\n",
      "small_business          8306\n",
      "vacation                6772\n",
      "moving                  6273\n",
      "house                   5781\n",
      "renewable_energy         557\n",
      "wedding                    6\n",
      "educational                1\n",
      "Name: purpose, dtype: int64\n",
      "\n",
      "\n",
      "home_ownership\n",
      "5 distinct values\n",
      "MORTGAGE    386784\n",
      "RENT        304481\n",
      "OWN          95732\n",
      "ANY            692\n",
      "NONE             4\n",
      "Name: home_ownership, dtype: int64\n",
      "\n",
      "\n",
      "emp_length\n",
      "12 distinct values\n",
      "10+ years    262277\n",
      "2 years       72475\n",
      "< 1 year      65250\n",
      "3 years       63952\n",
      "1 year        53068\n",
      "5 years       48463\n",
      "4 years       48005\n",
      "6 years       34140\n",
      "8 years       29213\n",
      "9 years       27409\n",
      "7 years       27139\n",
      "Name: emp_length, dtype: int64\n",
      "\n",
      "\n",
      "grade\n",
      "7 distinct values\n",
      "B    234953\n",
      "C    232657\n",
      "A    148542\n",
      "D    110686\n",
      "E     42237\n",
      "F     13604\n",
      "G      5014\n",
      "Name: grade, dtype: int64\n",
      "\n",
      "\n",
      "term\n",
      "2 distinct values\n",
      " 36 months    614899\n",
      " 60 months    172794\n",
      "Name: term, dtype: int64\n",
      "\n",
      "\n",
      "verification_status\n",
      "3 distinct values\n",
      "Source Verified    322664\n",
      "Not Verified       256481\n",
      "Verified           208548\n",
      "Name: verification_status, dtype: int64\n",
      "\n",
      "\n",
      "loan_status\n",
      "3 distinct values\n",
      "Fully Paid     623662\n",
      "Charged Off    163990\n",
      "Default            41\n",
      "Name: loan_status, dtype: int64\n",
      "\n",
      "\n"
     ]
    },
    {
     "data": {
      "image/png": "[encoded data removed]",
      "text/plain": [
       "<Figure size 432x288 with 1 Axes>"
      ]
     },
     "metadata": {
      "needs_background": "light"
     },
     "output_type": "display_data"
    },
    {
     "data": {
      "image/png": "[encoded data removed]",
      "text/plain": [
       "<Figure size 432x288 with 1 Axes>"
      ]
     },
     "metadata": {
      "needs_background": "light"
     },
     "output_type": "display_data"
    },
    {
     "data": {
      "image/png": "[encoded data removed]",
      "text/plain": [
       "<Figure size 432x288 with 1 Axes>"
      ]
     },
     "metadata": {
      "needs_background": "light"
     },
     "output_type": "display_data"
    }
   ],
   "source": [
    "# Visualize the data\n",
    "visualize_columns(final_data, float_cols + perc_cols, cat_cols, date_cols)"
   ]
  },
  {
   "cell_type": "code",
   "execution_count": 41,
   "metadata": {},
   "outputs": [
    {
     "name": "stdout",
     "output_type": "stream",
     "text": [
      "Removed 7 rows\n"
     ]
    },
    {
     "data": {
      "image/png": "[encoded data removed]",
      "text/plain": [
       "<Figure size 432x288 with 1 Axes>"
      ]
     },
     "metadata": {
      "needs_background": "light"
     },
     "output_type": "display_data"
    },
    {
     "data": {
      "image/png": "[encoded data removed]",
      "text/plain": [
       "<Figure size 432x288 with 1 Axes>"
      ]
     },
     "metadata": {
      "needs_background": "light"
     },
     "output_type": "display_data"
    },
    {
     "data": {
      "image/png": "[encoded data removed]",
      "text/plain": [
       "<Figure size 432x288 with 1 Axes>"
      ]
     },
     "metadata": {
      "needs_background": "light"
     },
     "output_type": "display_data"
    },
    {
     "data": {
      "image/png": "[encoded data removed]",
      "text/plain": [
       "<Figure size 432x288 with 1 Axes>"
      ]
     },
     "metadata": {
      "needs_background": "light"
     },
     "output_type": "display_data"
    },
    {
     "data": {
      "image/png": "[encoded data removed]",
      "text/plain": [
       "<Figure size 432x288 with 1 Axes>"
      ]
     },
     "metadata": {
      "needs_background": "light"
     },
     "output_type": "display_data"
    },
    {
     "data": {
      "image/png": "[encoded data removed]",
      "text/plain": [
       "<Figure size 432x288 with 1 Axes>"
      ]
     },
     "metadata": {
      "needs_background": "light"
     },
     "output_type": "display_data"
    },
    {
     "data": {
      "image/png": "[encoded data removed]",
      "text/plain": [
       "<Figure size 432x288 with 1 Axes>"
      ]
     },
     "metadata": {
      "needs_background": "light"
     },
     "output_type": "display_data"
    },
    {
     "data": {
      "image/png": "[encoded data removed]",
      "text/plain": [
       "<Figure size 432x288 with 1 Axes>"
      ]
     },
     "metadata": {
      "needs_background": "light"
     },
     "output_type": "display_data"
    },
    {
     "data": {
      "image/png": "[encoded data removed]",
      "text/plain": [
       "<Figure size 432x288 with 1 Axes>"
      ]
     },
     "metadata": {
      "needs_background": "light"
     },
     "output_type": "display_data"
    },
    {
     "data": {
      "image/png": "[encoded data removed]",
      "text/plain": [
       "<Figure size 432x288 with 1 Axes>"
      ]
     },
     "metadata": {
      "needs_background": "light"
     },
     "output_type": "display_data"
    },
    {
     "data": {
      "image/png": "[encoded data removed]",
      "text/plain": [
       "<Figure size 432x288 with 1 Axes>"
      ]
     },
     "metadata": {
      "needs_background": "light"
     },
     "output_type": "display_data"
    },
    {
     "data": {
      "image/png": "[encoded data removed]",
      "text/plain": [
       "<Figure size 432x288 with 1 Axes>"
      ]
     },
     "metadata": {
      "needs_background": "light"
     },
     "output_type": "display_data"
    },
    {
     "data": {
      "image/png": "[encoded data removed]",
      "text/plain": [
       "<Figure size 432x288 with 1 Axes>"
      ]
     },
     "metadata": {
      "needs_background": "light"
     },
     "output_type": "display_data"
    },
    {
     "data": {
      "image/png": "[encoded data removed]",
      "text/plain": [
       "<Figure size 432x288 with 1 Axes>"
      ]
     },
     "metadata": {
      "needs_background": "light"
     },
     "output_type": "display_data"
    },
    {
     "data": {
      "image/png": "[encoded data removed]",
      "text/plain": [
       "<Figure size 432x288 with 1 Axes>"
      ]
     },
     "metadata": {
      "needs_background": "light"
     },
     "output_type": "display_data"
    },
    {
     "name": "stdout",
     "output_type": "stream",
     "text": [
      "purpose\n",
      "14 distinct values\n",
      "debt_consolidation    440695\n",
      "credit_card           163931\n",
      "home_improvement       58664\n",
      "other                  56638\n",
      "major_purchase         19758\n",
      "medical                11125\n",
      "car                     9180\n",
      "small_business          8305\n",
      "vacation                6772\n",
      "moving                  6273\n",
      "house                   5781\n",
      "renewable_energy         557\n",
      "wedding                    6\n",
      "educational                1\n",
      "Name: purpose, dtype: int64\n",
      "\n",
      "\n",
      "home_ownership\n",
      "5 distinct values\n",
      "MORTGAGE    386779\n",
      "RENT        304479\n",
      "OWN          95732\n",
      "ANY            692\n",
      "NONE             4\n",
      "Name: home_ownership, dtype: int64\n",
      "\n",
      "\n",
      "emp_length\n",
      "12 distinct values\n",
      "10+ years    262273\n",
      "2 years       72475\n",
      "< 1 year      65250\n",
      "3 years       63951\n",
      "1 year        53068\n",
      "5 years       48463\n",
      "4 years       48005\n",
      "6 years       34140\n",
      "8 years       29213\n",
      "9 years       27409\n",
      "7 years       27139\n",
      "Name: emp_length, dtype: int64\n",
      "\n",
      "\n",
      "grade\n",
      "7 distinct values\n",
      "B    234951\n",
      "C    232656\n",
      "A    148541\n",
      "D    110685\n",
      "E     42235\n",
      "F     13604\n",
      "G      5014\n",
      "Name: grade, dtype: int64\n",
      "\n",
      "\n",
      "term\n",
      "2 distinct values\n",
      " 36 months    614895\n",
      " 60 months    172791\n",
      "Name: term, dtype: int64\n",
      "\n",
      "\n",
      "verification_status\n",
      "3 distinct values\n",
      "Source Verified    322663\n",
      "Not Verified       256480\n",
      "Verified           208543\n",
      "Name: verification_status, dtype: int64\n",
      "\n",
      "\n",
      "loan_status\n",
      "3 distinct values\n",
      "Fully Paid     623657\n",
      "Charged Off    163988\n",
      "Default            41\n",
      "Name: loan_status, dtype: int64\n",
      "\n",
      "\n"
     ]
    },
    {
     "data": {
      "image/png": "[encoded data removed]",
      "text/plain": [
       "<Figure size 432x288 with 1 Axes>"
      ]
     },
     "metadata": {
      "needs_background": "light"
     },
     "output_type": "display_data"
    },
    {
     "data": {
      "image/png": "[encoded data removed]",
      "text/plain": [
       "<Figure size 432x288 with 1 Axes>"
      ]
     },
     "metadata": {
      "needs_background": "light"
     },
     "output_type": "display_data"
    },
    {
     "data": {
      "image/png": "[encoded data removed]",
      "text/plain": [
       "<Figure size 432x288 with 1 Axes>"
      ]
     },
     "metadata": {
      "needs_background": "light"
     },
     "output_type": "display_data"
    }
   ],
   "source": [
    "# Remove outliers and then vizualize the data again\n",
    "n_rows = len(final_data)\n",
    "final_data = final_data[final_data.annual_inc < 100000000]\n",
    "final_data = final_data[final_data.revol_bal < 1250000]\n",
    "final_data = final_data[final_data.delinq_2yrs < 32]\n",
    "print(\"Removed \" + str(n_rows - len(final_data)) + \" rows\")\n",
    "\n",
    "# Visualize the data\n",
    "visualize_columns(final_data, float_cols + perc_cols, cat_cols, date_cols)"
   ]
  },
  {
   "cell_type": "markdown",
   "metadata": {},
   "source": [
    "# Part 3"
   ]
  },
  {
   "cell_type": "markdown",
   "metadata": {},
   "source": [
    "# Questuion 1"
   ]
  },
  {
   "cell_type": "code",
   "execution_count": 42,
   "metadata": {},
   "outputs": [
    {
     "name": "stdout",
     "output_type": "stream",
     "text": [
      "Reading in pickle file...\n",
      "Removed 10427 rows\n"
     ]
    }
   ],
   "source": [
    "print(\"Reading in pickle file...\")\n",
    "\n",
    "final_data, discrete_features, continuous_features, ret_cols = pickle.load( open( \"Data/clean_data.pickle\", \"rb\" ) )\n",
    "\n",
    "final_data['loan_length'] = (final_data.last_pymnt_d - final_data.issue_d) / np.timedelta64(1, 'M')\n",
    "n_rows = len(final_data)\n",
    "final_data = final_data[final_data.loan_length != 0]\n",
    "print(\"Removed \" + str(n_rows - len(final_data)) + \" rows\")\n"
   ]
  },
  {
   "cell_type": "code",
   "execution_count": 43,
   "metadata": {},
   "outputs": [
    {
     "data": {
      "text/html": [
       "<div>\n",
       "<style scoped>\n",
       "    .dataframe tbody tr th:only-of-type {\n",
       "        vertical-align: middle;\n",
       "    }\n",
       "\n",
       "    .dataframe tbody tr th {\n",
       "        vertical-align: top;\n",
       "    }\n",
       "\n",
       "    .dataframe thead th {\n",
       "        text-align: right;\n",
       "    }\n",
       "</style>\n",
       "<table border=\"1\" class=\"dataframe\">\n",
       "  <thead>\n",
       "    <tr style=\"text-align: right;\">\n",
       "      <th></th>\n",
       "      <th>loan_status</th>\n",
       "      <th>funded_amnt</th>\n",
       "      <th>term</th>\n",
       "      <th>total</th>\n",
       "      <th>total_pymnt</th>\n",
       "      <th>recoveries</th>\n",
       "      <th>int_rate</th>\n",
       "      <th>loan_length</th>\n",
       "    </tr>\n",
       "  </thead>\n",
       "  <tbody>\n",
       "    <tr>\n",
       "      <td>3</td>\n",
       "      <td>Charged Off</td>\n",
       "      <td>12000.0</td>\n",
       "      <td>60 months</td>\n",
       "      <td>8540.16</td>\n",
       "      <td>8448.90</td>\n",
       "      <td>443.49</td>\n",
       "      <td>11.99</td>\n",
       "      <td>32.033512</td>\n",
       "    </tr>\n",
       "    <tr>\n",
       "      <td>11</td>\n",
       "      <td>Charged Off</td>\n",
       "      <td>9000.0</td>\n",
       "      <td>36 months</td>\n",
       "      <td>3816.67</td>\n",
       "      <td>4365.68</td>\n",
       "      <td>853.35</td>\n",
       "      <td>10.75</td>\n",
       "      <td>13.010534</td>\n",
       "    </tr>\n",
       "    <tr>\n",
       "      <td>15</td>\n",
       "      <td>Charged Off</td>\n",
       "      <td>20000.0</td>\n",
       "      <td>36 months</td>\n",
       "      <td>7649.88</td>\n",
       "      <td>8797.98</td>\n",
       "      <td>1805.95</td>\n",
       "      <td>9.16</td>\n",
       "      <td>11.992033</td>\n",
       "    </tr>\n",
       "    <tr>\n",
       "      <td>18</td>\n",
       "      <td>Charged Off</td>\n",
       "      <td>9600.0</td>\n",
       "      <td>36 months</td>\n",
       "      <td>12409.66</td>\n",
       "      <td>11062.23</td>\n",
       "      <td>250.00</td>\n",
       "      <td>13.67</td>\n",
       "      <td>37.980246</td>\n",
       "    </tr>\n",
       "    <tr>\n",
       "      <td>22</td>\n",
       "      <td>Charged Off</td>\n",
       "      <td>21000.0</td>\n",
       "      <td>36 months</td>\n",
       "      <td>13573.03</td>\n",
       "      <td>16700.62</td>\n",
       "      <td>3873.86</td>\n",
       "      <td>13.67</td>\n",
       "      <td>19.022978</td>\n",
       "    </tr>\n",
       "    <tr>\n",
       "      <td>...</td>\n",
       "      <td>...</td>\n",
       "      <td>...</td>\n",
       "      <td>...</td>\n",
       "      <td>...</td>\n",
       "      <td>...</td>\n",
       "      <td>...</td>\n",
       "      <td>...</td>\n",
       "      <td>...</td>\n",
       "    </tr>\n",
       "    <tr>\n",
       "      <td>1488154</td>\n",
       "      <td>Charged Off</td>\n",
       "      <td>4000.0</td>\n",
       "      <td>36 months</td>\n",
       "      <td>150.48</td>\n",
       "      <td>724.20</td>\n",
       "      <td>563.36</td>\n",
       "      <td>20.89</td>\n",
       "      <td>1.018501</td>\n",
       "    </tr>\n",
       "    <tr>\n",
       "      <td>1488172</td>\n",
       "      <td>Charged Off</td>\n",
       "      <td>10000.0</td>\n",
       "      <td>60 months</td>\n",
       "      <td>264.50</td>\n",
       "      <td>1668.07</td>\n",
       "      <td>1414.64</td>\n",
       "      <td>19.92</td>\n",
       "      <td>1.018501</td>\n",
       "    </tr>\n",
       "    <tr>\n",
       "      <td>1488722</td>\n",
       "      <td>Charged Off</td>\n",
       "      <td>23875.0</td>\n",
       "      <td>36 months</td>\n",
       "      <td>2271.33</td>\n",
       "      <td>2954.11</td>\n",
       "      <td>25.00</td>\n",
       "      <td>8.81</td>\n",
       "      <td>2.956940</td>\n",
       "    </tr>\n",
       "    <tr>\n",
       "      <td>1494872</td>\n",
       "      <td>Charged Off</td>\n",
       "      <td>36825.0</td>\n",
       "      <td>60 months</td>\n",
       "      <td>801.04</td>\n",
       "      <td>9991.23</td>\n",
       "      <td>9212.74</td>\n",
       "      <td>11.02</td>\n",
       "      <td>0.985647</td>\n",
       "    </tr>\n",
       "    <tr>\n",
       "      <td>1617699</td>\n",
       "      <td>Charged Off</td>\n",
       "      <td>40000.0</td>\n",
       "      <td>60 months</td>\n",
       "      <td>3258.80</td>\n",
       "      <td>850.50</td>\n",
       "      <td>5.00</td>\n",
       "      <td>8.19</td>\n",
       "      <td>4.008296</td>\n",
       "    </tr>\n",
       "  </tbody>\n",
       "</table>\n",
       "<p>102975 rows × 8 columns</p>\n",
       "</div>"
      ],
      "text/plain": [
       "         loan_status  funded_amnt        term     total  total_pymnt  \\\n",
       "3        Charged Off      12000.0   60 months   8540.16      8448.90   \n",
       "11       Charged Off       9000.0   36 months   3816.67      4365.68   \n",
       "15       Charged Off      20000.0   36 months   7649.88      8797.98   \n",
       "18       Charged Off       9600.0   36 months  12409.66     11062.23   \n",
       "22       Charged Off      21000.0   36 months  13573.03     16700.62   \n",
       "...              ...          ...         ...       ...          ...   \n",
       "1488154  Charged Off       4000.0   36 months    150.48       724.20   \n",
       "1488172  Charged Off      10000.0   60 months    264.50      1668.07   \n",
       "1488722  Charged Off      23875.0   36 months   2271.33      2954.11   \n",
       "1494872  Charged Off      36825.0   60 months    801.04      9991.23   \n",
       "1617699  Charged Off      40000.0   60 months   3258.80       850.50   \n",
       "\n",
       "         recoveries  int_rate  loan_length  \n",
       "3            443.49     11.99    32.033512  \n",
       "11           853.35     10.75    13.010534  \n",
       "15          1805.95      9.16    11.992033  \n",
       "18           250.00     13.67    37.980246  \n",
       "22          3873.86     13.67    19.022978  \n",
       "...             ...       ...          ...  \n",
       "1488154      563.36     20.89     1.018501  \n",
       "1488172     1414.64     19.92     1.018501  \n",
       "1488722       25.00      8.81     2.956940  \n",
       "1494872     9212.74     11.02     0.985647  \n",
       "1617699        5.00      8.19     4.008296  \n",
       "\n",
       "[102975 rows x 8 columns]"
      ]
     },
     "execution_count": 43,
     "metadata": {},
     "output_type": "execute_result"
    }
   ],
   "source": [
    "final_data['total'] = ((final_data.installment * round(final_data.loan_length)))\n",
    "final_data.loc[(final_data[\"recoveries\"] != 0),:].loc[:,['loan_status', 'funded_amnt', 'term', 'total', 'total_pymnt', 'recoveries', 'int_rate','loan_length']]\n"
   ]
  },
  {
   "cell_type": "markdown",
   "metadata": {},
   "source": [
    "# Question 2"
   ]
  },
  {
   "cell_type": "markdown",
   "metadata": {},
   "source": [
    "# Return Method 1 (pessimistic)"
   ]
  },
  {
   "cell_type": "code",
   "execution_count": 44,
   "metadata": {},
   "outputs": [],
   "source": [
    "# Calculate the return using a simple annualized profit margin\n",
    "# Pessimistic fefinition (method 2)\n",
    "\n",
    "final_data['term_num'] = final_data.term.str.extract('(\\d+)',expand=False).astype(int)\n",
    "final_data['ret_PESS'] = ( (final_data.total_pymnt - final_data.funded_amnt) \n",
    "                                            / final_data.funded_amnt ) * (12 / final_data['term_num'])"
   ]
  },
  {
   "cell_type": "markdown",
   "metadata": {},
   "source": [
    "# Return Method 2 (optimistic)"
   ]
  },
  {
   "cell_type": "code",
   "execution_count": 45,
   "metadata": {},
   "outputs": [],
   "source": [
    "# Assuming that if a loan gives a positive return, we can\n",
    "# immediately find a similar loan to invest in; if the loan\n",
    "# takes a loss, we use method 2 to compute the return\n",
    "\n",
    "final_data['ret_OPT'] = ( (final_data.total_pymnt - final_data.funded_amnt)\n",
    "                                            / final_data.funded_amnt ) * (12 / final_data['loan_length'])\n",
    "final_data.loc[final_data.ret_OPT < 0,'ret_OPT'] = final_data.ret_PESS[final_data.ret_OPT < 0]"
   ]
  },
  {
   "cell_type": "markdown",
   "metadata": {},
   "source": [
    "# Method 3 (re-investment)"
   ]
  },
  {
   "cell_type": "code",
   "execution_count": 46,
   "metadata": {},
   "outputs": [],
   "source": [
    "def ret_method_3(T, i):\n",
    "    '''\n",
    "    Given an investment time horizon (in months) and re-investment\n",
    "    interest rate, calculate the return of each loan\n",
    "    '''\n",
    "    \n",
    "    # Assuming that the total amount paid back was paid at equal\n",
    "    # intervals during the duration of the loan, calculate the\n",
    "    # size of each of these installment\n",
    "    actual_installment = (final_data.total_pymnt - final_data.recoveries) / final_data['loan_length']\n",
    "\n",
    "    # Assuming the amount is immediately re-invested at the prime\n",
    "    # rate, find the total amount of money we'll have by the end\n",
    "    # of the loan\n",
    "    cash_by_end_of_loan = actual_installment * (1 - pow(1 + i, final_data.loan_length)) / ( 1 - (1 + i) )\n",
    "    \n",
    "    cash_by_end_of_loan = cash_by_end_of_loan + final_data.recoveries\n",
    "    \n",
    "    # Assuming that cash is then re-invested at the prime rate,\n",
    "    # with monthly re-investment, until T months from the start\n",
    "    # of the loan\n",
    "    remaining_months = T - final_data['loan_length']\n",
    "    final_return = cash_by_end_of_loan * pow(1 + i, remaining_months)\n",
    "\n",
    "    # Find the percentage return\n",
    "    return( (12/T) * ( ( final_return - final_data['funded_amnt'] ) / final_data['funded_amnt'] ) )\n",
    "\n",
    "\n",
    "# T should be term here in months. We can get this value from term_num which was calculated earlier\n",
    "final_data['term_num']\n",
    "\n",
    "final_data['ret_INTa'] = ret_method_3(final_data['term_num'], 1.2/100) # 1.2%\n",
    "final_data['ret_INTb'] = ret_method_3(final_data['term_num'], 3/100) # 3%\n",
    "## final_data['ret_INTc'] = ret_method_3(?, ?) # We don't need this I don't think"
   ]
  },
  {
   "cell_type": "markdown",
   "metadata": {},
   "source": [
    "# Mean and Median Results"
   ]
  },
  {
   "cell_type": "code",
   "execution_count": 47,
   "metadata": {},
   "outputs": [
    {
     "name": "stdout",
     "output_type": "stream",
     "text": [
      "Method 1 Pesimistic results:\n",
      "\tMean: 0.04157332049195786\n",
      "\tMedian: 2.7863924675738607\n",
      "Method 2 Optimisic results:\n",
      "\tMean: 4.924544570329196\n",
      "\tMedian: 7.476474863868679\n",
      "Method 3 (1.2%):\n",
      "\tMean: 13.209380349514971\n",
      "\tMedian: 17.644040016278385\n",
      "Method 3 (3%):\n",
      "\tMean: 46.793771973857005\n",
      "\tMedian: 49.544620318194106\n"
     ]
    }
   ],
   "source": [
    "def print_median_mean(data, value):\n",
    "    mean = data[value].mean()*100;\n",
    "    median = data[value].median()*100\n",
    "    print(\"\\tMean: \" + str(mean))\n",
    "    print(\"\\tMedian: \" + str(median))\n",
    "\n",
    "\n",
    "print(\"Method 1 Pesimistic results:\")\n",
    "print_median_mean(final_data, 'ret_PESS')\n",
    "    \n",
    "print(\"Method 2 Optimisic results:\")\n",
    "print_median_mean(final_data, 'ret_OPT')\n",
    "\n",
    "print(\"Method 3 (1.2%):\")\n",
    "print_median_mean(final_data, 'ret_INTa')\n",
    "\n",
    "print(\"Method 3 (3%):\")\n",
    "print_median_mean(final_data, 'ret_INTb')"
   ]
  },
  {
   "cell_type": "markdown",
   "metadata": {},
   "source": [
    "# Question 3"
   ]
  },
  {
   "cell_type": "code",
   "execution_count": 48,
   "metadata": {},
   "outputs": [
    {
     "data": {
      "text/html": [
       "<div>\n",
       "<style scoped>\n",
       "    .dataframe tbody tr th:only-of-type {\n",
       "        vertical-align: middle;\n",
       "    }\n",
       "\n",
       "    .dataframe tbody tr th {\n",
       "        vertical-align: top;\n",
       "    }\n",
       "\n",
       "    .dataframe thead th {\n",
       "        text-align: right;\n",
       "    }\n",
       "</style>\n",
       "<table border=\"1\" class=\"dataframe\">\n",
       "  <thead>\n",
       "    <tr style=\"text-align: right;\">\n",
       "      <th></th>\n",
       "      <th>grade</th>\n",
       "      <th>default</th>\n",
       "      <th>int_rate</th>\n",
       "      <th>return_OPT</th>\n",
       "      <th>return_PESS</th>\n",
       "      <th>return_INTa</th>\n",
       "      <th>return_INTb</th>\n",
       "      <th>count</th>\n",
       "    </tr>\n",
       "  </thead>\n",
       "  <tbody>\n",
       "    <tr>\n",
       "      <td>A</td>\n",
       "      <td>18.878608</td>\n",
       "      <td>6.688156</td>\n",
       "      <td>6.981119</td>\n",
       "      <td>3.850003</td>\n",
       "      <td>1.036243</td>\n",
       "      <td>13.964298</td>\n",
       "      <td>44.180124</td>\n",
       "      <td>146737.0</td>\n",
       "    </tr>\n",
       "    <tr>\n",
       "      <td>B</td>\n",
       "      <td>29.852586</td>\n",
       "      <td>14.920227</td>\n",
       "      <td>10.477369</td>\n",
       "      <td>4.647929</td>\n",
       "      <td>0.764194</td>\n",
       "      <td>13.727066</td>\n",
       "      <td>45.465953</td>\n",
       "      <td>232034.0</td>\n",
       "    </tr>\n",
       "    <tr>\n",
       "      <td>C</td>\n",
       "      <td>29.545098</td>\n",
       "      <td>24.604170</td>\n",
       "      <td>14.113935</td>\n",
       "      <td>5.069478</td>\n",
       "      <td>-0.179073</td>\n",
       "      <td>13.113111</td>\n",
       "      <td>47.799174</td>\n",
       "      <td>229644.0</td>\n",
       "    </tr>\n",
       "    <tr>\n",
       "      <td>D</td>\n",
       "      <td>14.000484</td>\n",
       "      <td>33.379587</td>\n",
       "      <td>18.758675</td>\n",
       "      <td>5.754727</td>\n",
       "      <td>-1.230543</td>\n",
       "      <td>12.113887</td>\n",
       "      <td>48.077860</td>\n",
       "      <td>108821.0</td>\n",
       "    </tr>\n",
       "    <tr>\n",
       "      <td>E</td>\n",
       "      <td>5.363158</td>\n",
       "      <td>41.582306</td>\n",
       "      <td>23.610692</td>\n",
       "      <td>6.634144</td>\n",
       "      <td>-1.741258</td>\n",
       "      <td>11.986214</td>\n",
       "      <td>51.456900</td>\n",
       "      <td>41686.0</td>\n",
       "    </tr>\n",
       "    <tr>\n",
       "      <td>F</td>\n",
       "      <td>1.727337</td>\n",
       "      <td>50.357515</td>\n",
       "      <td>27.434500</td>\n",
       "      <td>6.456103</td>\n",
       "      <td>-2.456857</td>\n",
       "      <td>11.371310</td>\n",
       "      <td>53.871506</td>\n",
       "      <td>13426.0</td>\n",
       "    </tr>\n",
       "    <tr>\n",
       "      <td>G</td>\n",
       "      <td>0.632731</td>\n",
       "      <td>54.005693</td>\n",
       "      <td>29.965842</td>\n",
       "      <td>6.227061</td>\n",
       "      <td>-3.346234</td>\n",
       "      <td>10.381430</td>\n",
       "      <td>53.216044</td>\n",
       "      <td>4918.0</td>\n",
       "    </tr>\n",
       "  </tbody>\n",
       "</table>\n",
       "</div>"
      ],
      "text/plain": [
       "       grade    default   int_rate  return_OPT  return_PESS  return_INTa  \\\n",
       "A  18.878608   6.688156   6.981119    3.850003     1.036243    13.964298   \n",
       "B  29.852586  14.920227  10.477369    4.647929     0.764194    13.727066   \n",
       "C  29.545098  24.604170  14.113935    5.069478    -0.179073    13.113111   \n",
       "D  14.000484  33.379587  18.758675    5.754727    -1.230543    12.113887   \n",
       "E   5.363158  41.582306  23.610692    6.634144    -1.741258    11.986214   \n",
       "F   1.727337  50.357515  27.434500    6.456103    -2.456857    11.371310   \n",
       "G   0.632731  54.005693  29.965842    6.227061    -3.346234    10.381430   \n",
       "\n",
       "   return_INTb     count  \n",
       "A    44.180124  146737.0  \n",
       "B    45.465953  232034.0  \n",
       "C    47.799174  229644.0  \n",
       "D    48.077860  108821.0  \n",
       "E    51.456900   41686.0  \n",
       "F    53.871506   13426.0  \n",
       "G    53.216044    4918.0  "
      ]
     },
     "execution_count": 48,
     "metadata": {},
     "output_type": "execute_result"
    }
   ],
   "source": [
    "perc_by_grade = (final_data.grade.value_counts()*100/len(final_data)).sort_index()\n",
    "default_by_grade = final_data.groupby(\"grade\").apply(lambda x : (x.loan_status != \"Fully Paid\").sum()*100/len(x) )\n",
    "ret_by_grade_OPT = final_data.groupby(\"grade\").apply(lambda x : np.mean(x.ret_OPT)*100 )\n",
    "ret_by_grade_PESS = final_data.groupby(\"grade\").apply(lambda x : np.mean(x.ret_PESS)*100 )\n",
    "ret_by_grade_INTa = final_data.groupby(\"grade\").apply(lambda x : np.mean(x.ret_INTa)*100 )\n",
    "ret_by_grade_INTb = final_data.groupby(\"grade\").apply(lambda x : np.mean(x.ret_INTb)*100 )\n",
    "# ret_by_grade_INTc = final_data.groupby(\"grade\").apply(lambda x : np.mean(x.ret_INTc)*100 )\n",
    "int_rate_by_grade = final_data.groupby(\"grade\").apply(lambda x : np.mean(x.int_rate))\n",
    "\n",
    "combined = pd.DataFrame(perc_by_grade)\n",
    "combined['default'] = default_by_grade\n",
    "combined['int_rate'] = int_rate_by_grade\n",
    "combined['return_OPT'] = ret_by_grade_OPT\n",
    "combined['return_PESS'] = ret_by_grade_PESS\n",
    "combined['return_INTa'] = ret_by_grade_INTa\n",
    "combined['return_INTb'] = ret_by_grade_INTb\n",
    "# combined['return_INTc'] = ret_by_grade_INTc\n",
    "\n",
    "combined['count'] = combined['grade']/100 * len(final_data)\n",
    "#len(final_data)\n",
    "combined"
   ]
  },
  {
   "cell_type": "code",
   "execution_count": 49,
   "metadata": {},
   "outputs": [
    {
     "name": "stdout",
     "output_type": "stream",
     "text": [
      "Interest Rate results\n",
      "\tKurtosis: 0.7923193787702627\n",
      "\tSkewness: 0.9274066932504201\n",
      "Method 1 Pesimistic results:\n",
      "\tKurtosis: 2.1895256579179883\n",
      "\tSkewness: -1.7151026655056627\n",
      "Method 2 Optimisic results:\n",
      "\tKurtosis: 1.1258894162746378\n",
      "\tSkewness: -1.019713657545549\n",
      "Method 3 (1.2%)\n",
      "\tKurtosis: 1.836033439040972\n",
      "\tSkewness: -1.6591283502486942\n",
      "Method 3 results (3%)\n",
      "\tKurtosis: 0.24431715900694284\n",
      "\tSkewness: -0.25928553401635884\n"
     ]
    }
   ],
   "source": [
    "from scipy.stats import kurtosis, skew\n",
    "\n",
    "def print_kurtosis_skewness(data, value):\n",
    "    k = kurtosis(data[value]);\n",
    "    s = skew(data[value])\n",
    "    print(\"\\tKurtosis: \" + str(k))\n",
    "    print(\"\\tSkewness: \" + str(s))\n",
    "\n",
    "print('Interest Rate results')\n",
    "print_kurtosis_skewness(final_data, 'int_rate')\n",
    "\n",
    "print(\"Method 1 Pesimistic results:\")\n",
    "print_kurtosis_skewness(final_data, 'ret_PESS')\n",
    "\n",
    "print(\"Method 2 Optimisic results:\")\n",
    "print_kurtosis_skewness(final_data, 'ret_OPT')\n",
    "\n",
    "print('Method 3 (1.2%)')\n",
    "print_kurtosis_skewness(final_data, 'ret_INTa')\n",
    "\n",
    "print('Method 3 results (3%)')\n",
    "print_kurtosis_skewness(final_data, 'ret_INTb')"
   ]
  },
  {
   "cell_type": "code",
   "execution_count": null,
   "metadata": {},
   "outputs": [],
   "source": []
  }
 ],
 "metadata": {
  "kernelspec": {
   "display_name": "Python 3",
   "language": "python",
   "name": "python3"
  },
  "language_info": {
   "codemirror_mode": {
    "name": "ipython",
    "version": 3
   },
   "file_extension": ".py",
   "mimetype": "text/x-python",
   "name": "python",
   "nbconvert_exporter": "python",
   "pygments_lexer": "ipython3",
   "version": "3.7.4"
  }
 },
 "nbformat": 4,
 "nbformat_minor": 2
}
