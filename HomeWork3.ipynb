{
 "cells": [
  {
   "cell_type": "code",
   "execution_count": 1,
   "metadata": {},
   "outputs": [],
   "source": [
    "import pandas as pd\n",
    "import matplotlib.pyplot as plt\n",
    "import matplotlib.axes as ax\n",
    "import datetime\n",
    "import numpy as np\n",
    "import pickle\n",
    "import time\n",
    "import seaborn as sns\n",
    "from sys import platform\n",
    "import os\n",
    "import joblib"
   ]
  },
  {
   "cell_type": "code",
   "execution_count": 2,
   "metadata": {},
   "outputs": [],
   "source": [
    "# This is the code you can use to open your pickle file\n",
    "# Read the data and features from the pickle\n",
    "final_data, discrete_features, continuous_features, ret_cols = pickle.load( open( \"Data/clean_data.pickle\", \"rb\" ) )"
   ]
  },
  {
   "cell_type": "markdown",
   "metadata": {},
   "source": [
    "# removing LendingClub calculated features"
   ]
  },
  {
   "cell_type": "code",
   "execution_count": 3,
   "metadata": {},
   "outputs": [
    {
     "data": {
      "text/html": [
       "<div>\n",
       "<style scoped>\n",
       "    .dataframe tbody tr th:only-of-type {\n",
       "        vertical-align: middle;\n",
       "    }\n",
       "\n",
       "    .dataframe tbody tr th {\n",
       "        vertical-align: top;\n",
       "    }\n",
       "\n",
       "    .dataframe thead th {\n",
       "        text-align: right;\n",
       "    }\n",
       "</style>\n",
       "<table border=\"1\" class=\"dataframe\">\n",
       "  <thead>\n",
       "    <tr style=\"text-align: right;\">\n",
       "      <th></th>\n",
       "      <th>id</th>\n",
       "      <th>loan_amnt</th>\n",
       "      <th>funded_amnt</th>\n",
       "      <th>revol_util</th>\n",
       "      <th>revol_bal</th>\n",
       "      <th>fico_range_low</th>\n",
       "      <th>fico_range_high</th>\n",
       "      <th>pub_rec</th>\n",
       "      <th>open_acc</th>\n",
       "      <th>earliest_cr_line</th>\n",
       "      <th>...</th>\n",
       "      <th>annual_inc</th>\n",
       "      <th>home_ownership</th>\n",
       "      <th>emp_length</th>\n",
       "      <th>term</th>\n",
       "      <th>installment</th>\n",
       "      <th>verification_status</th>\n",
       "      <th>recoveries</th>\n",
       "      <th>loan_status</th>\n",
       "      <th>last_pymnt_d</th>\n",
       "      <th>total_pymnt</th>\n",
       "    </tr>\n",
       "  </thead>\n",
       "  <tbody>\n",
       "    <tr>\n",
       "      <td>0</td>\n",
       "      <td>74121690</td>\n",
       "      <td>6000.0</td>\n",
       "      <td>6000.0</td>\n",
       "      <td>63.0</td>\n",
       "      <td>15055.0</td>\n",
       "      <td>675.0</td>\n",
       "      <td>679.0</td>\n",
       "      <td>0.0</td>\n",
       "      <td>16.0</td>\n",
       "      <td>2006-05-01</td>\n",
       "      <td>...</td>\n",
       "      <td>43000.0</td>\n",
       "      <td>MORTGAGE</td>\n",
       "      <td>9 years</td>\n",
       "      <td>36 months</td>\n",
       "      <td>202.14</td>\n",
       "      <td>Not Verified</td>\n",
       "      <td>0.00</td>\n",
       "      <td>Fully Paid</td>\n",
       "      <td>2019-04-01</td>\n",
       "      <td>7268.153165</td>\n",
       "    </tr>\n",
       "    <tr>\n",
       "      <td>2</td>\n",
       "      <td>74826201</td>\n",
       "      <td>7200.0</td>\n",
       "      <td>7200.0</td>\n",
       "      <td>18.4</td>\n",
       "      <td>9309.0</td>\n",
       "      <td>750.0</td>\n",
       "      <td>754.0</td>\n",
       "      <td>0.0</td>\n",
       "      <td>11.0</td>\n",
       "      <td>2001-12-01</td>\n",
       "      <td>...</td>\n",
       "      <td>49000.0</td>\n",
       "      <td>MORTGAGE</td>\n",
       "      <td>10+ years</td>\n",
       "      <td>36 months</td>\n",
       "      <td>216.83</td>\n",
       "      <td>Source Verified</td>\n",
       "      <td>0.00</td>\n",
       "      <td>Fully Paid</td>\n",
       "      <td>2016-04-01</td>\n",
       "      <td>7223.410000</td>\n",
       "    </tr>\n",
       "    <tr>\n",
       "      <td>3</td>\n",
       "      <td>75061311</td>\n",
       "      <td>12000.0</td>\n",
       "      <td>12000.0</td>\n",
       "      <td>50.6</td>\n",
       "      <td>12152.0</td>\n",
       "      <td>670.0</td>\n",
       "      <td>674.0</td>\n",
       "      <td>0.0</td>\n",
       "      <td>10.0</td>\n",
       "      <td>1999-12-01</td>\n",
       "      <td>...</td>\n",
       "      <td>49000.0</td>\n",
       "      <td>MORTGAGE</td>\n",
       "      <td>10+ years</td>\n",
       "      <td>60 months</td>\n",
       "      <td>266.88</td>\n",
       "      <td>Not Verified</td>\n",
       "      <td>443.49</td>\n",
       "      <td>Charged Off</td>\n",
       "      <td>2018-11-01</td>\n",
       "      <td>8448.900000</td>\n",
       "    </tr>\n",
       "    <tr>\n",
       "      <td>4</td>\n",
       "      <td>75091735</td>\n",
       "      <td>11425.0</td>\n",
       "      <td>11425.0</td>\n",
       "      <td>7.2</td>\n",
       "      <td>2096.0</td>\n",
       "      <td>730.0</td>\n",
       "      <td>734.0</td>\n",
       "      <td>0.0</td>\n",
       "      <td>11.0</td>\n",
       "      <td>2008-09-01</td>\n",
       "      <td>...</td>\n",
       "      <td>26000.0</td>\n",
       "      <td>RENT</td>\n",
       "      <td>5 years</td>\n",
       "      <td>36 months</td>\n",
       "      <td>421.87</td>\n",
       "      <td>Source Verified</td>\n",
       "      <td>0.00</td>\n",
       "      <td>Fully Paid</td>\n",
       "      <td>2017-11-01</td>\n",
       "      <td>14331.034913</td>\n",
       "    </tr>\n",
       "    <tr>\n",
       "      <td>6</td>\n",
       "      <td>75235366</td>\n",
       "      <td>20625.0</td>\n",
       "      <td>20625.0</td>\n",
       "      <td>63.6</td>\n",
       "      <td>10742.0</td>\n",
       "      <td>695.0</td>\n",
       "      <td>699.0</td>\n",
       "      <td>0.0</td>\n",
       "      <td>10.0</td>\n",
       "      <td>1990-05-01</td>\n",
       "      <td>...</td>\n",
       "      <td>52000.0</td>\n",
       "      <td>MORTGAGE</td>\n",
       "      <td>10+ years</td>\n",
       "      <td>36 months</td>\n",
       "      <td>672.80</td>\n",
       "      <td>Source Verified</td>\n",
       "      <td>0.00</td>\n",
       "      <td>Fully Paid</td>\n",
       "      <td>2018-09-01</td>\n",
       "      <td>24142.676489</td>\n",
       "    </tr>\n",
       "    <tr>\n",
       "      <td>...</td>\n",
       "      <td>...</td>\n",
       "      <td>...</td>\n",
       "      <td>...</td>\n",
       "      <td>...</td>\n",
       "      <td>...</td>\n",
       "      <td>...</td>\n",
       "      <td>...</td>\n",
       "      <td>...</td>\n",
       "      <td>...</td>\n",
       "      <td>...</td>\n",
       "      <td>...</td>\n",
       "      <td>...</td>\n",
       "      <td>...</td>\n",
       "      <td>...</td>\n",
       "      <td>...</td>\n",
       "      <td>...</td>\n",
       "      <td>...</td>\n",
       "      <td>...</td>\n",
       "      <td>...</td>\n",
       "      <td>...</td>\n",
       "      <td>...</td>\n",
       "    </tr>\n",
       "    <tr>\n",
       "      <td>1762896</td>\n",
       "      <td>154225862</td>\n",
       "      <td>25525.0</td>\n",
       "      <td>25525.0</td>\n",
       "      <td>30.8</td>\n",
       "      <td>13484.0</td>\n",
       "      <td>710.0</td>\n",
       "      <td>714.0</td>\n",
       "      <td>0.0</td>\n",
       "      <td>23.0</td>\n",
       "      <td>2006-11-01</td>\n",
       "      <td>...</td>\n",
       "      <td>92000.0</td>\n",
       "      <td>RENT</td>\n",
       "      <td>2 years</td>\n",
       "      <td>36 months</td>\n",
       "      <td>948.61</td>\n",
       "      <td>Source Verified</td>\n",
       "      <td>0.00</td>\n",
       "      <td>Fully Paid</td>\n",
       "      <td>2019-07-01</td>\n",
       "      <td>25743.640001</td>\n",
       "    </tr>\n",
       "    <tr>\n",
       "      <td>1762965</td>\n",
       "      <td>154311563</td>\n",
       "      <td>6000.0</td>\n",
       "      <td>6000.0</td>\n",
       "      <td>83.4</td>\n",
       "      <td>18852.0</td>\n",
       "      <td>705.0</td>\n",
       "      <td>709.0</td>\n",
       "      <td>0.0</td>\n",
       "      <td>8.0</td>\n",
       "      <td>2001-12-01</td>\n",
       "      <td>...</td>\n",
       "      <td>120000.0</td>\n",
       "      <td>OWN</td>\n",
       "      <td>10+ years</td>\n",
       "      <td>36 months</td>\n",
       "      <td>222.99</td>\n",
       "      <td>Not Verified</td>\n",
       "      <td>0.00</td>\n",
       "      <td>Fully Paid</td>\n",
       "      <td>2019-10-01</td>\n",
       "      <td>6333.814970</td>\n",
       "    </tr>\n",
       "    <tr>\n",
       "      <td>1762976</td>\n",
       "      <td>153817414</td>\n",
       "      <td>12000.0</td>\n",
       "      <td>12000.0</td>\n",
       "      <td>15.7</td>\n",
       "      <td>1317.0</td>\n",
       "      <td>710.0</td>\n",
       "      <td>714.0</td>\n",
       "      <td>0.0</td>\n",
       "      <td>8.0</td>\n",
       "      <td>2006-12-01</td>\n",
       "      <td>...</td>\n",
       "      <td>65000.0</td>\n",
       "      <td>MORTGAGE</td>\n",
       "      <td>6 years</td>\n",
       "      <td>60 months</td>\n",
       "      <td>287.00</td>\n",
       "      <td>Not Verified</td>\n",
       "      <td>0.00</td>\n",
       "      <td>Fully Paid</td>\n",
       "      <td>2019-10-01</td>\n",
       "      <td>12520.400076</td>\n",
       "    </tr>\n",
       "    <tr>\n",
       "      <td>1763007</td>\n",
       "      <td>154053832</td>\n",
       "      <td>15000.0</td>\n",
       "      <td>15000.0</td>\n",
       "      <td>4.1</td>\n",
       "      <td>697.0</td>\n",
       "      <td>775.0</td>\n",
       "      <td>779.0</td>\n",
       "      <td>0.0</td>\n",
       "      <td>9.0</td>\n",
       "      <td>2006-12-01</td>\n",
       "      <td>...</td>\n",
       "      <td>42000.0</td>\n",
       "      <td>MORTGAGE</td>\n",
       "      <td>None</td>\n",
       "      <td>36 months</td>\n",
       "      <td>475.68</td>\n",
       "      <td>Not Verified</td>\n",
       "      <td>0.00</td>\n",
       "      <td>Fully Paid</td>\n",
       "      <td>2019-09-01</td>\n",
       "      <td>15287.033886</td>\n",
       "    </tr>\n",
       "    <tr>\n",
       "      <td>1763024</td>\n",
       "      <td>154105572</td>\n",
       "      <td>10000.0</td>\n",
       "      <td>10000.0</td>\n",
       "      <td>92.1</td>\n",
       "      <td>7089.0</td>\n",
       "      <td>665.0</td>\n",
       "      <td>669.0</td>\n",
       "      <td>1.0</td>\n",
       "      <td>11.0</td>\n",
       "      <td>2014-03-01</td>\n",
       "      <td>...</td>\n",
       "      <td>110000.0</td>\n",
       "      <td>MORTGAGE</td>\n",
       "      <td>&lt; 1 year</td>\n",
       "      <td>36 months</td>\n",
       "      <td>360.23</td>\n",
       "      <td>Not Verified</td>\n",
       "      <td>0.00</td>\n",
       "      <td>Fully Paid</td>\n",
       "      <td>2019-08-01</td>\n",
       "      <td>10248.808055</td>\n",
       "    </tr>\n",
       "  </tbody>\n",
       "</table>\n",
       "<p>787693 rows × 24 columns</p>\n",
       "</div>"
      ],
      "text/plain": [
       "                id  loan_amnt  funded_amnt  revol_util  revol_bal  \\\n",
       "0         74121690     6000.0       6000.0        63.0    15055.0   \n",
       "2         74826201     7200.0       7200.0        18.4     9309.0   \n",
       "3         75061311    12000.0      12000.0        50.6    12152.0   \n",
       "4         75091735    11425.0      11425.0         7.2     2096.0   \n",
       "6         75235366    20625.0      20625.0        63.6    10742.0   \n",
       "...            ...        ...          ...         ...        ...   \n",
       "1762896  154225862    25525.0      25525.0        30.8    13484.0   \n",
       "1762965  154311563     6000.0       6000.0        83.4    18852.0   \n",
       "1762976  153817414    12000.0      12000.0        15.7     1317.0   \n",
       "1763007  154053832    15000.0      15000.0         4.1      697.0   \n",
       "1763024  154105572    10000.0      10000.0        92.1     7089.0   \n",
       "\n",
       "         fico_range_low  fico_range_high  pub_rec  open_acc earliest_cr_line  \\\n",
       "0                 675.0            679.0      0.0      16.0       2006-05-01   \n",
       "2                 750.0            754.0      0.0      11.0       2001-12-01   \n",
       "3                 670.0            674.0      0.0      10.0       1999-12-01   \n",
       "4                 730.0            734.0      0.0      11.0       2008-09-01   \n",
       "6                 695.0            699.0      0.0      10.0       1990-05-01   \n",
       "...                 ...              ...      ...       ...              ...   \n",
       "1762896           710.0            714.0      0.0      23.0       2006-11-01   \n",
       "1762965           705.0            709.0      0.0       8.0       2001-12-01   \n",
       "1762976           710.0            714.0      0.0       8.0       2006-12-01   \n",
       "1763007           775.0            779.0      0.0       9.0       2006-12-01   \n",
       "1763024           665.0            669.0      1.0      11.0       2014-03-01   \n",
       "\n",
       "         ...  annual_inc  home_ownership emp_length        term  installment  \\\n",
       "0        ...     43000.0        MORTGAGE    9 years   36 months       202.14   \n",
       "2        ...     49000.0        MORTGAGE  10+ years   36 months       216.83   \n",
       "3        ...     49000.0        MORTGAGE  10+ years   60 months       266.88   \n",
       "4        ...     26000.0            RENT    5 years   36 months       421.87   \n",
       "6        ...     52000.0        MORTGAGE  10+ years   36 months       672.80   \n",
       "...      ...         ...             ...        ...         ...          ...   \n",
       "1762896  ...     92000.0            RENT    2 years   36 months       948.61   \n",
       "1762965  ...    120000.0             OWN  10+ years   36 months       222.99   \n",
       "1762976  ...     65000.0        MORTGAGE    6 years   60 months       287.00   \n",
       "1763007  ...     42000.0        MORTGAGE       None   36 months       475.68   \n",
       "1763024  ...    110000.0        MORTGAGE   < 1 year   36 months       360.23   \n",
       "\n",
       "        verification_status recoveries  loan_status  last_pymnt_d  \\\n",
       "0              Not Verified       0.00   Fully Paid    2019-04-01   \n",
       "2           Source Verified       0.00   Fully Paid    2016-04-01   \n",
       "3              Not Verified     443.49  Charged Off    2018-11-01   \n",
       "4           Source Verified       0.00   Fully Paid    2017-11-01   \n",
       "6           Source Verified       0.00   Fully Paid    2018-09-01   \n",
       "...                     ...        ...          ...           ...   \n",
       "1762896     Source Verified       0.00   Fully Paid    2019-07-01   \n",
       "1762965        Not Verified       0.00   Fully Paid    2019-10-01   \n",
       "1762976        Not Verified       0.00   Fully Paid    2019-10-01   \n",
       "1763007        Not Verified       0.00   Fully Paid    2019-09-01   \n",
       "1763024        Not Verified       0.00   Fully Paid    2019-08-01   \n",
       "\n",
       "          total_pymnt  \n",
       "0         7268.153165  \n",
       "2         7223.410000  \n",
       "3         8448.900000  \n",
       "4        14331.034913  \n",
       "6        24142.676489  \n",
       "...               ...  \n",
       "1762896  25743.640001  \n",
       "1762965   6333.814970  \n",
       "1762976  12520.400076  \n",
       "1763007  15287.033886  \n",
       "1763024  10248.808055  \n",
       "\n",
       "[787693 rows x 24 columns]"
      ]
     },
     "execution_count": 3,
     "metadata": {},
     "output_type": "execute_result"
    }
   ],
   "source": [
    "# pandas drop columns using list of column names\n",
    "final_data.drop([\"grade\", \"int_rate\"], axis=1)"
   ]
  },
  {
   "cell_type": "code",
   "execution_count": 4,
   "metadata": {},
   "outputs": [],
   "source": [
    "# Create the outcome\n",
    "final_data[\"default\"] = final_data.loan_status.isin([\"Charged Off\", \"Default\"])"
   ]
  },
  {
   "cell_type": "code",
   "execution_count": 5,
   "metadata": {},
   "outputs": [],
   "source": [
    "# Create a feature for the length of a person's credit history at the\n",
    "# time the loan is issued\n",
    "final_data['cr_hist'] = (final_data.issue_d - final_data.earliest_cr_line) / np.timedelta64(1, 'M')\n",
    "continuous_features.append('cr_hist')"
   ]
  },
  {
   "cell_type": "code",
   "execution_count": 6,
   "metadata": {},
   "outputs": [],
   "source": [
    "from sklearn.preprocessing import MinMaxScaler\n",
    "\n",
    "def minMaxScaleContinuous(continuousList):\n",
    "    return pd.DataFrame(MinMaxScaler().fit_transform(final_data[continuousList])\n",
    "                             ,columns=list(final_data[continuousList].columns)\n",
    "                             ,index = final_data[continuousList].index)\n",
    "\n",
    "def createDiscreteDummies(discreteList):\n",
    "    return pd.get_dummies(final_data[discreteList], dummy_na = True, prefix_sep = \"::\", drop_first = False)\n",
    "\n",
    "\n",
    "\n",
    "# save the model to disk\n",
    "def saveModel(filename, model):\n",
    "    joblib.dump(model, filename)\n",
    " \n",
    " \n",
    "# load the model from disk\n",
    "def loadModel(filename):\n",
    "    return joblib.load(filename)"
   ]
  },
  {
   "cell_type": "code",
   "execution_count": 7,
   "metadata": {},
   "outputs": [],
   "source": [
    "# define the discrete features you want to use in modeling.\n",
    "# if you want to use all the discrete features, just set discrete_features_touse = discrete_features\n",
    "discrete_features_touse =['purpose', 'term', 'verification_status', 'emp_length', 'home_ownership']\n",
    "\n",
    "# define the continuous features to use in modeling\n",
    "# if you want to use all the continuous features, just set the continuous_features_touse = continuous_features\n",
    "continuous_features_touse = ['loan_amnt', 'funded_amnt','installment','annual_inc','dti','revol_bal','delinq_2yrs','open_acc',\n",
    " 'pub_rec','fico_range_high','fico_range_low','revol_util','cr_hist']"
   ]
  },
  {
   "cell_type": "code",
   "execution_count": 8,
   "metadata": {},
   "outputs": [],
   "source": [
    "#discrete_features_touse=discrete_features\n",
    "#continuous_features_touse = continuous_features"
   ]
  },
  {
   "cell_type": "markdown",
   "metadata": {},
   "source": [
    "# Split training and test data"
   ]
  },
  {
   "cell_type": "code",
   "execution_count": 9,
   "metadata": {},
   "outputs": [
    {
     "name": "stdout",
     "output_type": "stream",
     "text": [
      "Population:\n",
      " False    623662\n",
      "True     164031\n",
      "Name: default, dtype: int64\n",
      "Train:\n",
      " False    373791\n",
      "True      98824\n",
      "Name: default, dtype: int64\n",
      "Test:\n",
      " False    249871\n",
      "True      65207\n",
      "Name: default, dtype: int64\n"
     ]
    }
   ],
   "source": [
    "from sklearn.model_selection import train_test_split\n",
    "from sklearn.preprocessing import MinMaxScaler\n",
    "\n",
    "# Create dummies for categorical features and concatenate with continuous features for X or predictor dataframe\n",
    "\n",
    "# Use this line of code if you do not want to scale the continuous features\n",
    "#X_continuous = data[continuous_features_touse]\n",
    "\n",
    "# use this line if you want to scale the continuous features using the MinMaxScaler in the function defined above\n",
    "X_continuous = minMaxScaleContinuous(continuous_features_touse)\n",
    "\n",
    "# create numeric dummy features for the discrete features to be used in modeling\n",
    "X_discrete = createDiscreteDummies(discrete_features_touse)\n",
    "\n",
    "#concatenate the continuous and discrete features into one dataframe\n",
    "X = pd.concat([X_continuous, X_discrete], axis = 1)\n",
    "\n",
    "# this is the target variable \n",
    "target_col = 'default'\n",
    "y=final_data[target_col]\n",
    "\n",
    "# create a test and train split of the transformed data\n",
    "X_train, X_test, y_train, y_test = train_test_split(X, y, random_state=0, test_size=.4)\n",
    "\n",
    "print(\"Population:\\n\",y.value_counts())\n",
    "print(\"Train:\\n\", y_train.value_counts())\n",
    "print(\"Test:\\n\", y_test.value_counts())"
   ]
  },
  {
   "cell_type": "markdown",
   "metadata": {},
   "source": [
    "# Now use optimal features  from homework 2"
   ]
  },
  {
   "cell_type": "markdown",
   "metadata": {},
   "source": [
    "# Part 1 – Support Vector Machines\n",
    "# Now we will Build the model with best fit parameters using GridSearchCV"
   ]
  },
  {
   "cell_type": "code",
   "execution_count": 38,
   "metadata": {},
   "outputs": [
    {
     "name": "stdout",
     "output_type": "stream",
     "text": [
      "Parameter grid:\n",
      "{'C': [0.1, 1.0], 'max_iter': [100]} \n",
      "\n"
     ]
    },
    {
     "name": "stderr",
     "output_type": "stream",
     "text": [
      "C:\\Users\\coolr\\AppData\\Roaming\\Python\\Python37\\site-packages\\sklearn\\svm\\_base.py:947: ConvergenceWarning: Liblinear failed to converge, increase the number of iterations.\n",
      "  \"the number of iterations.\", ConvergenceWarning)\n"
     ]
    },
    {
     "name": "stdout",
     "output_type": "stream",
     "text": [
      "best params  {'C': 0.1, 'max_iter': 100} \n",
      "\n",
      "best estimator  LinearSVC(C=0.1, class_weight=None, dual=True, fit_intercept=True,\n",
      "          intercept_scaling=1, loss='squared_hinge', max_iter=100,\n",
      "          multi_class='ovr', penalty='l2', random_state=None, tol=0.0001,\n",
      "          verbose=0) \n",
      "\n",
      "best validation score  0.6918099457577502 \n",
      "\n",
      "scoring method  make_scorer(roc_auc_score, needs_threshold=True)\n",
      "Test set accuracy score: 0.6928138\n"
     ]
    }
   ],
   "source": [
    "from sklearn.model_selection import GridSearchCV\n",
    "from sklearn.svm import LinearSVC\n",
    "\n",
    "''' These are just example parameter settings. You can change these parameters or add others.\n",
    "    The grid search uses a scoring method of roc_auc. You can change that to another scoring method.\n",
    "'''\n",
    "\n",
    "parameters = {'C': [0.1,1.0],\n",
    "              'max_iter': [100]\n",
    "             }\n",
    "\n",
    "print(\"Parameter grid:\\n{}\".format(parameters),'\\n')\n",
    "\n",
    "grid =  GridSearchCV(LinearSVC(), parameters, cv=10, return_train_score=True, scoring='roc_auc', n_jobs=-1)\n",
    "\n",
    "# perform grid search cv on training data.  The CV algorithm divides this into training and validation\n",
    "svc_model = grid.fit(X_train, y_train)\n",
    "\n",
    "print('best params ',svc_model.best_params_,'\\n')\n",
    "print('best estimator ',svc_model.best_estimator_,'\\n')\n",
    "print('best validation score ', svc_model.best_score_,'\\n')\n",
    "print('scoring method ', svc_model.scorer_)\n",
    "\n",
    "print(\"Test set accuracy score: {:.7f}\".format(svc_model.score(X_test, y_test)))\n",
    "\n",
    "#saveModel('svc_model', svc_model)"
   ]
  },
  {
   "cell_type": "markdown",
   "metadata": {},
   "source": [
    "# Prediction"
   ]
  },
  {
   "cell_type": "code",
   "execution_count": 39,
   "metadata": {},
   "outputs": [],
   "source": [
    "from sklearn.metrics import confusion_matrix\n",
    "from sklearn.metrics import accuracy_score, recall_score, precision_score, fbeta_score, classification_report\n",
    "\n",
    "'''Function to print model accuracy information'''\n",
    "\n",
    "def printAccuracyInfo(model, X_test, y_test):\n",
    "    print(y_test.value_counts())\n",
    "    # Make predictions against the test set\n",
    "    pred = svc_model.predict(X_test)\n",
    "    # Show the confusion matrix\n",
    "    ''' confusion matrix returned with Predicted as the Columns and Actual as the Rows\n",
    "         PN  PP\n",
    "         AN [tn  fp] \n",
    "         AP [fn  tp]\n",
    "    '''\n",
    "    # Show the confusion matrix\n",
    "    print(\"confusion matrix:\")\n",
    "    print(confusion_matrix(y_test, pred))\n",
    "    tn,fp,fn,tp=confusion_matrix(y_test, pred).ravel()\n",
    "    print('tn: ',tn)\n",
    "    print('fp: ',fp)\n",
    "    print('fn: ',fn)\n",
    "    print('tp: ',tp)\n",
    "\n",
    "    # Find the accuracy scores of the predictions against the true classes\n",
    "    print(\"accuracy: %0.3f\" % accuracy_score(y_test, pred))\n",
    "    print(\"recall: %0.3f\" % recall_score(y_test, pred, pos_label=True))\n",
    "    print(\"precision: %0.3f\" % precision_score(y_test, pred, pos_label=True))\n",
    "    print(\"f-measure: %0.3f\" % fbeta_score(y_test, pred, beta=1, pos_label=True))\n",
    "    print(classification_report(y_test,pred))"
   ]
  },
  {
   "cell_type": "code",
   "execution_count": 40,
   "metadata": {},
   "outputs": [
    {
     "name": "stdout",
     "output_type": "stream",
     "text": [
      "False    249871\n",
      "True      65207\n",
      "Name: default, dtype: int64\n",
      "confusion matrix:\n",
      "[[244474   5397]\n",
      " [ 59230   5977]]\n",
      "tn:  244474\n",
      "fp:  5397\n",
      "fn:  59230\n",
      "tp:  5977\n",
      "accuracy: 0.795\n",
      "recall: 0.092\n",
      "precision: 0.525\n",
      "f-measure: 0.156\n",
      "              precision    recall  f1-score   support\n",
      "\n",
      "       False       0.80      0.98      0.88    249871\n",
      "        True       0.53      0.09      0.16     65207\n",
      "\n",
      "    accuracy                           0.79    315078\n",
      "   macro avg       0.67      0.54      0.52    315078\n",
      "weighted avg       0.75      0.79      0.73    315078\n",
      "\n"
     ]
    }
   ],
   "source": [
    "# example use of printAccuracyInfo using gbc_model and X_test\n",
    "# note: if you trained model using rfecv_selected_train, you need to call the function with rfecv_selected_test for X_test\n",
    "printAccuracyInfo(svc_model, X_test, y_test)"
   ]
  },
  {
   "cell_type": "code",
   "execution_count": 41,
   "metadata": {},
   "outputs": [],
   "source": [
    "import matplotlib.pyplot as plt\n",
    "from sklearn.metrics import plot_confusion_matrix\n",
    "\n",
    "'''Function to print confusion matrix for a model\n",
    "   You may need to run this to update to scikit-learn version 0.22.1\n",
    "         !pip install -U scikit-learn --user\n",
    "'''\n",
    "\n",
    "def plotConfusionMatrix (negative_label, positive_label, model, X_test, y_test):\n",
    "    titles_options = [(\"Confusion matrix, without normalization\", None,'d'),\n",
    "                      (\"Normalized confusion matrix\", 'true','.3g')]\n",
    "    for title, normalize,val_frmt in titles_options:\n",
    "        disp = plot_confusion_matrix(model, X_test, y_test,\n",
    "                                     display_labels=[negative_label,positive_label],\n",
    "                                     cmap=plt.cm.Blues,\n",
    "                                     values_format=val_frmt,\n",
    "                                     normalize=normalize)\n",
    "        disp.ax_.set_title(title)\n",
    "        disp.ax_.set_xlabel('Predicted')\n",
    "        disp.ax_.set_ylabel('Actual')\n",
    "\n",
    "        print(title)\n",
    "        print(disp.confusion_matrix)\n",
    "\n",
    "    plt.show()"
   ]
  },
  {
   "cell_type": "code",
   "execution_count": 42,
   "metadata": {},
   "outputs": [
    {
     "name": "stdout",
     "output_type": "stream",
     "text": [
      "Confusion matrix, without normalization\n",
      "[[244474   5397]\n",
      " [ 59230   5977]]\n",
      "Normalized confusion matrix\n",
      "[[0.97840085 0.02159915]\n",
      " [0.90833806 0.09166194]]\n"
     ]
    },
    {
     "data": {
      "image/png": "[encoded data removed]",
      "text/plain": [
       "<Figure size 432x288 with 2 Axes>"
      ]
     },
     "metadata": {
      "needs_background": "light"
     },
     "output_type": "display_data"
    },
    {
     "data": {
      "image/png": "[encoded data removed]",
      "text/plain": [
       "<Figure size 432x288 with 2 Axes>"
      ]
     },
     "metadata": {
      "needs_background": "light"
     },
     "output_type": "display_data"
    }
   ],
   "source": [
    "# example use of plotConfusionMatrix using gbc_model and X_test\n",
    "# note: if you trained model using rfecv_selected_train, you need to call the function with rfecv_selected_test for X_test\n",
    "plotConfusionMatrix('No Default', 'Default', svc_model, X_test, y_test)"
   ]
  },
  {
   "cell_type": "markdown",
   "metadata": {},
   "source": [
    "# visualization of performance"
   ]
  },
  {
   "cell_type": "code",
   "execution_count": 43,
   "metadata": {},
   "outputs": [],
   "source": [
    "from sklearn.metrics import plot_roc_curve\n",
    "import matplotlib.pyplot as plt\n",
    "\n",
    "def plotNewROCCurve(model,  X_test, y_test):\n",
    "    disp = plot_roc_curve(model, X_test, y_test)\n",
    "    disp.figure_.suptitle(\"ROC Curve\")\n",
    "    disp.ax_.plot([0, 1], [0, 1], linestyle='--', lw=2, color='r',\n",
    "            label='Chance', alpha=.8)\n",
    "    plt.show()"
   ]
  },
  {
   "cell_type": "code",
   "execution_count": 44,
   "metadata": {},
   "outputs": [
    {
     "data": {
      "image/png": "[encoded data removed]",
      "text/plain": [
       "<Figure size 432x288 with 1 Axes>"
      ]
     },
     "metadata": {
      "needs_background": "light"
     },
     "output_type": "display_data"
    }
   ],
   "source": [
    "## example new ROC plot for SVM model using X_test.\n",
    "## if you want to use selected features, pass rfecv_selected_test instead of X_test\n",
    "plotNewROCCurve(svc_model.best_estimator_,  X_test, y_test)"
   ]
  },
  {
   "cell_type": "markdown",
   "metadata": {},
   "source": [
    "# Part 2 Ensembles"
   ]
  },
  {
   "cell_type": "markdown",
   "metadata": {},
   "source": [
    "# Random Forest"
   ]
  },
  {
   "cell_type": "code",
   "execution_count": 10,
   "metadata": {},
   "outputs": [
    {
     "name": "stdout",
     "output_type": "stream",
     "text": [
      "Parameter grid:\n",
      "{'criterion': ['gini', 'entropy'], 'n_estimators': [50]} \n",
      "\n",
      "best params  {'criterion': 'entropy', 'n_estimators': 50} \n",
      "\n",
      "best estimator  RandomForestClassifier(bootstrap=True, ccp_alpha=0.0, class_weight=None,\n",
      "                       criterion='entropy', max_depth=None, max_features='auto',\n",
      "                       max_leaf_nodes=None, max_samples=None,\n",
      "                       min_impurity_decrease=0.0, min_impurity_split=None,\n",
      "                       min_samples_leaf=1, min_samples_split=2,\n",
      "                       min_weight_fraction_leaf=0.0, n_estimators=50,\n",
      "                       n_jobs=None, oob_score=False, random_state=None,\n",
      "                       verbose=0, warm_start=False) \n",
      "\n",
      "best validation score  0.6813132993919682 \n",
      "\n",
      "scoring method  make_scorer(roc_auc_score, needs_threshold=True)\n",
      "Test set accuracy score: 0.6812439\n"
     ]
    }
   ],
   "source": [
    "from sklearn.ensemble import RandomForestClassifier\n",
    "from sklearn.model_selection import GridSearchCV\n",
    "\n",
    "''' These are just example parameter settings. You can change these parameters or add others.\n",
    "    The grid search uses a scoring method of roc_auc. You can change that to another scoring method.\n",
    "'''\n",
    "\n",
    "parameters = {'criterion' : [\"gini\", \"entropy\"],\n",
    "              'n_estimators': [50]\n",
    "             }\n",
    "\n",
    "print(\"Parameter grid:\\n{}\".format(parameters),'\\n')\n",
    "\n",
    "grid =  GridSearchCV(RandomForestClassifier(), parameters, cv=10, return_train_score=True, scoring='roc_auc', n_jobs=-1)\n",
    "\n",
    "# perform grid search cv on training data.  The CV algorithm divides this into training and validation\n",
    "rf_model = grid.fit(X_train, y_train)\n",
    "\n",
    "print('best params ',rf_model.best_params_,'\\n')\n",
    "print('best estimator ',rf_model.best_estimator_,'\\n')\n",
    "print('best validation score ', rf_model.best_score_,'\\n')\n",
    "print('scoring method ', rf_model.scorer_)\n",
    "\n",
    "print(\"Test set accuracy score: {:.7f}\".format(rf_model.score(X_test, y_test)))\n",
    "\n",
    "#saveModel('rf_model', rf_model)"
   ]
  },
  {
   "cell_type": "markdown",
   "metadata": {},
   "source": [
    "# Prediction"
   ]
  },
  {
   "cell_type": "code",
   "execution_count": 11,
   "metadata": {},
   "outputs": [],
   "source": [
    "from sklearn.metrics import confusion_matrix\n",
    "from sklearn.metrics import accuracy_score, recall_score, precision_score, fbeta_score, classification_report\n",
    "\n",
    "'''Function to print model accuracy information'''\n",
    "\n",
    "def printAccuracyInfo(model, X_test, y_test):\n",
    "    print(y_test.value_counts())\n",
    "    # Make predictions against the test set\n",
    "    pred = rf_model.predict(X_test)\n",
    "    # Show the confusion matrix\n",
    "    ''' confusion matrix returned with Predicted as the Columns and Actual as the Rows\n",
    "         PN  PP\n",
    "         AN [tn  fp] \n",
    "         AP [fn  tp]\n",
    "    '''\n",
    "    # Show the confusion matrix\n",
    "    print(\"confusion matrix:\")\n",
    "    print(confusion_matrix(y_test, pred))\n",
    "    tn,fp,fn,tp=confusion_matrix(y_test, pred).ravel()\n",
    "    print('tn: ',tn)\n",
    "    print('fp: ',fp)\n",
    "    print('fn: ',fn)\n",
    "    print('tp: ',tp)\n",
    "\n",
    "    # Find the accuracy scores of the predictions against the true classes\n",
    "    print(\"accuracy: %0.3f\" % accuracy_score(y_test, pred))\n",
    "    print(\"recall: %0.3f\" % recall_score(y_test, pred, pos_label=True))\n",
    "    print(\"precision: %0.3f\" % precision_score(y_test, pred, pos_label=True))\n",
    "    print(\"f-measure: %0.3f\" % fbeta_score(y_test, pred, beta=1, pos_label=True))\n",
    "    print(classification_report(y_test,pred))"
   ]
  },
  {
   "cell_type": "code",
   "execution_count": 12,
   "metadata": {},
   "outputs": [
    {
     "name": "stdout",
     "output_type": "stream",
     "text": [
      "False    249871\n",
      "True      65207\n",
      "Name: default, dtype: int64\n",
      "confusion matrix:\n",
      "[[245068   4803]\n",
      " [ 60151   5056]]\n",
      "tn:  245068\n",
      "fp:  4803\n",
      "fn:  60151\n",
      "tp:  5056\n",
      "accuracy: 0.794\n",
      "recall: 0.078\n",
      "precision: 0.513\n",
      "f-measure: 0.135\n",
      "              precision    recall  f1-score   support\n",
      "\n",
      "       False       0.80      0.98      0.88    249871\n",
      "        True       0.51      0.08      0.13     65207\n",
      "\n",
      "    accuracy                           0.79    315078\n",
      "   macro avg       0.66      0.53      0.51    315078\n",
      "weighted avg       0.74      0.79      0.73    315078\n",
      "\n"
     ]
    }
   ],
   "source": [
    "# example use of printAccuracyInfo using gbc_model and X_test\n",
    "# note: if you trained model using rfecv_selected_train, you need to call the function with rfecv_selected_test for X_test\n",
    "printAccuracyInfo(rf_model, X_test, y_test)"
   ]
  },
  {
   "cell_type": "code",
   "execution_count": 13,
   "metadata": {},
   "outputs": [],
   "source": [
    "import matplotlib.pyplot as plt\n",
    "from sklearn.metrics import plot_confusion_matrix\n",
    "\n",
    "'''Function to print confusion matrix for a model\n",
    "   You may need to run this to update to scikit-learn version 0.22.1\n",
    "         !pip install -U scikit-learn --user\n",
    "'''\n",
    "\n",
    "def plotConfusionMatrix (negative_label, positive_label, model, X_test, y_test):\n",
    "    titles_options = [(\"Confusion matrix, without normalization\", None,'d'),\n",
    "                      (\"Normalized confusion matrix\", 'true','.3g')]\n",
    "    for title, normalize,val_frmt in titles_options:\n",
    "        disp = plot_confusion_matrix(model, X_test, y_test,\n",
    "                                     display_labels=[negative_label,positive_label],\n",
    "                                     cmap=plt.cm.Blues,\n",
    "                                     values_format=val_frmt,\n",
    "                                     normalize=normalize)\n",
    "        disp.ax_.set_title(title)\n",
    "        disp.ax_.set_xlabel('Predicted')\n",
    "        disp.ax_.set_ylabel('Actual')\n",
    "\n",
    "        print(title)\n",
    "        print(disp.confusion_matrix)\n",
    "\n",
    "    plt.show()"
   ]
  },
  {
   "cell_type": "code",
   "execution_count": 14,
   "metadata": {},
   "outputs": [
    {
     "name": "stdout",
     "output_type": "stream",
     "text": [
      "Confusion matrix, without normalization\n",
      "[[245068   4803]\n",
      " [ 60151   5056]]\n",
      "Normalized confusion matrix\n",
      "[[0.98077808 0.01922192]\n",
      " [0.92246231 0.07753769]]\n"
     ]
    },
    {
     "data": {
      "image/png": "[encoded data removed]",
      "text/plain": [
       "<Figure size 432x288 with 2 Axes>"
      ]
     },
     "metadata": {
      "needs_background": "light"
     },
     "output_type": "display_data"
    },
    {
     "data": {
      "image/png": "[encoded data removed]",
      "text/plain": [
       "<Figure size 432x288 with 2 Axes>"
      ]
     },
     "metadata": {
      "needs_background": "light"
     },
     "output_type": "display_data"
    }
   ],
   "source": [
    "# example use of plotConfusionMatrix using gbc_model and X_test\n",
    "# note: if you trained model using rfecv_selected_train, you need to call the function with rfecv_selected_test for X_test\n",
    "plotConfusionMatrix('No Default', 'Default', rf_model, X_test, y_test)"
   ]
  },
  {
   "cell_type": "markdown",
   "metadata": {},
   "source": [
    "# visualization of performance"
   ]
  },
  {
   "cell_type": "code",
   "execution_count": 15,
   "metadata": {},
   "outputs": [],
   "source": [
    "def plot_roc_curve_1 (model, model_name, X_test, y_test):\n",
    "    from sklearn.metrics import roc_curve\n",
    "    from sklearn.metrics import roc_auc_score\n",
    "    from matplotlib import pyplot\n",
    "\n",
    "    # generate a no skill prediction (majority class)\n",
    "    ns_probs = [0 for _ in range(len(y_test))]\n",
    "\n",
    "    # predict probabilities\n",
    "    cf_probs = model.predict_proba(X_test)\n",
    "\n",
    "    # keep probabilities for the positive outcome only\n",
    "    cf_probs = cf_probs[:, 1]\n",
    "\n",
    "    # calculate scores\n",
    "    ns_auc = roc_auc_score(y_test, ns_probs)\n",
    "    cf_auc = roc_auc_score(y_test, cf_probs)\n",
    "\n",
    "    # summarize scores\n",
    "    print('No Skill: ROC AUC=%.3f' % (ns_auc))\n",
    "    print(model_name,': ROC AUC=%.3f' % (cf_auc))\n",
    "\n",
    "    # calculate roc curves\n",
    "    ns_fpr, ns_tpr, _ = roc_curve(y_test, ns_probs)\n",
    "    cf_fpr, cf_tpr, _ = roc_curve(y_test, cf_probs)\n",
    "\n",
    "    # plot the roc curve for the model\n",
    "    pyplot.plot(ns_fpr, ns_tpr, linestyle='--', label='No Skill')\n",
    "    pyplot.plot(cf_fpr, cf_tpr, marker='.', label=model_name)\n",
    "\n",
    "    # axis labels\n",
    "    pyplot.xlabel('False Positive Rate')\n",
    "    pyplot.ylabel('True Positive Rate')\n",
    "\n",
    "    # show the legend\n",
    "    pyplot.legend()\n",
    "\n",
    "    # show the plot\n",
    "    pyplot.show()"
   ]
  },
  {
   "cell_type": "code",
   "execution_count": 16,
   "metadata": {},
   "outputs": [
    {
     "name": "stdout",
     "output_type": "stream",
     "text": [
      "No Skill: ROC AUC=0.500\n",
      "Random Forest : ROC AUC=0.681\n"
     ]
    },
    {
     "data": {
      "image/png": "[encoded data removed]",
      "text/plain": [
       "<Figure size 432x288 with 1 Axes>"
      ]
     },
     "metadata": {
      "needs_background": "light"
     },
     "output_type": "display_data"
    }
   ],
   "source": [
    "## example ROC plot for random forest model using X_test.\n",
    "## if you want to use selected features, pass rfecv_selected_test instead of X_test\n",
    "plot_roc_curve_1(rf_model, 'Random Forest', X_test, y_test)"
   ]
  },
  {
   "cell_type": "code",
   "execution_count": null,
   "metadata": {},
   "outputs": [],
   "source": []
  }
 ],
 "metadata": {
  "kernelspec": {
   "display_name": "Python 3",
   "language": "python",
   "name": "python3"
  },
  "language_info": {
   "codemirror_mode": {
    "name": "ipython",
    "version": 3
   },
   "file_extension": ".py",
   "mimetype": "text/x-python",
   "name": "python",
   "nbconvert_exporter": "python",
   "pygments_lexer": "ipython3",
   "version": "3.7.4"
  }
 },
 "nbformat": 4,
 "nbformat_minor": 2
}
